{
 "cells": [
  {
   "cell_type": "markdown",
   "id": "a8f4f5c0",
   "metadata": {},
   "source": [
    "# Load Data"
   ]
  },
  {
   "cell_type": "code",
   "execution_count": 65,
   "id": "a3286ca4",
   "metadata": {},
   "outputs": [],
   "source": [
    "import pandas as pd\n",
    "import numpy as np\n",
    "import matplotlib.pyplot as plt\n",
    "import seaborn as sns\n",
    "from sklearn.ensemble import RandomForestClassifier\n",
    "from sklearn.svm import SVC\n",
    "from sklearn import svm\n",
    "from sklearn.neural_network import MLPClassifier\n",
    "from sklearn.metrics import confusion_matrix, classification_report\n",
    "from sklearn.preprocessing import StandardScaler, LabelEncoder\n",
    "from sklearn.model_selection import train_test_split\n",
    "from sklearn.model_selection import StratifiedKFold\n",
    "%matplotlib inline\n",
    "from sklearn.metrics import accuracy_score, cohen_kappa_score"
   ]
  },
  {
   "cell_type": "markdown",
   "id": "27496b69",
   "metadata": {},
   "source": [
    "# Import data"
   ]
  },
  {
   "cell_type": "code",
   "execution_count": 66,
   "id": "09fdffa1",
   "metadata": {},
   "outputs": [],
   "source": [
    "df=pd.read_csv('Dataset 1.csv')\n",
    "df=pd.read_csv('Dataset 1.csv')\n"
   ]
  },
  {
   "cell_type": "code",
   "execution_count": 67,
   "id": "7f62a3ef",
   "metadata": {},
   "outputs": [
    {
     "data": {
      "text/html": [
       "<div>\n",
       "<style scoped>\n",
       "    .dataframe tbody tr th:only-of-type {\n",
       "        vertical-align: middle;\n",
       "    }\n",
       "\n",
       "    .dataframe tbody tr th {\n",
       "        vertical-align: top;\n",
       "    }\n",
       "\n",
       "    .dataframe thead th {\n",
       "        text-align: right;\n",
       "    }\n",
       "</style>\n",
       "<table border=\"1\" class=\"dataframe\">\n",
       "  <thead>\n",
       "    <tr style=\"text-align: right;\">\n",
       "      <th></th>\n",
       "      <th>incident_id</th>\n",
       "      <th>case_number</th>\n",
       "      <th>incident_datetime</th>\n",
       "      <th>incident_type_primary</th>\n",
       "      <th>incident_description</th>\n",
       "      <th>clearance_type</th>\n",
       "      <th>address_1</th>\n",
       "      <th>address_2</th>\n",
       "      <th>city</th>\n",
       "      <th>state</th>\n",
       "      <th>zip</th>\n",
       "      <th>country</th>\n",
       "      <th>latitude</th>\n",
       "      <th>longitude</th>\n",
       "      <th>created_at</th>\n",
       "      <th>updated_at</th>\n",
       "      <th>location</th>\n",
       "      <th>hour_of_day</th>\n",
       "      <th>day_of_week</th>\n",
       "      <th>parent_incident_type</th>\n",
       "    </tr>\n",
       "  </thead>\n",
       "  <tbody>\n",
       "    <tr>\n",
       "      <th>0</th>\n",
       "      <td>100068327</td>\n",
       "      <td>12-02555</td>\n",
       "      <td>02/10/2012 10:46:00 AM</td>\n",
       "      <td>[CTPD]-THEFT - $50 TO $200 - AUTO ACCESS</td>\n",
       "      <td>THEFT - $50 TO $200 - AUTO ACCESS</td>\n",
       "      <td>NaN</td>\n",
       "      <td>600 Block TOOKANY CREEK PKWY</td>\n",
       "      <td>NaN</td>\n",
       "      <td>CHELTENHAM</td>\n",
       "      <td>PA</td>\n",
       "      <td>19012.0</td>\n",
       "      <td>NaN</td>\n",
       "      <td>40.068875</td>\n",
       "      <td>-75.121003</td>\n",
       "      <td>02/21/2012 03:15:04 PM</td>\n",
       "      <td>02/21/2012 03:15:06 PM</td>\n",
       "      <td>POINT (-75.121003 40.068875)</td>\n",
       "      <td>10</td>\n",
       "      <td>Friday</td>\n",
       "      <td>Theft from Vehicle</td>\n",
       "    </tr>\n",
       "    <tr>\n",
       "      <th>1</th>\n",
       "      <td>100068328</td>\n",
       "      <td>12-02654</td>\n",
       "      <td>02/11/2012 10:14:00 PM</td>\n",
       "      <td>[CTPD]-ACCIDENT - NON REPORTABLE</td>\n",
       "      <td>ACCIDENT - NON REPORTABLE</td>\n",
       "      <td>NaN</td>\n",
       "      <td>200 Block BICKLEY RD</td>\n",
       "      <td>NaN</td>\n",
       "      <td>WYNCOTE</td>\n",
       "      <td>PA</td>\n",
       "      <td>19038.0</td>\n",
       "      <td>NaN</td>\n",
       "      <td>40.097921</td>\n",
       "      <td>-75.154642</td>\n",
       "      <td>02/21/2012 03:15:04 PM</td>\n",
       "      <td>02/21/2012 03:15:07 PM</td>\n",
       "      <td>POINT (-75.154642 40.097921)</td>\n",
       "      <td>22</td>\n",
       "      <td>Saturday</td>\n",
       "      <td>Traffic</td>\n",
       "    </tr>\n",
       "    <tr>\n",
       "      <th>2</th>\n",
       "      <td>100068329</td>\n",
       "      <td>12-02598</td>\n",
       "      <td>02/10/2012 05:51:00 PM</td>\n",
       "      <td>[CTPD]-THEFT - $200 AND OVER - RETAIL</td>\n",
       "      <td>THEFT - $200 AND OVER - RETAIL</td>\n",
       "      <td>NaN</td>\n",
       "      <td>2400 Block SHOPPERS LN</td>\n",
       "      <td>NaN</td>\n",
       "      <td>WYNCOTE</td>\n",
       "      <td>PA</td>\n",
       "      <td>19095.0</td>\n",
       "      <td>NaN</td>\n",
       "      <td>40.076851</td>\n",
       "      <td>-75.154990</td>\n",
       "      <td>02/21/2012 03:15:04 PM</td>\n",
       "      <td>02/21/2012 03:15:07 PM</td>\n",
       "      <td>POINT (-75.15499 40.076851)</td>\n",
       "      <td>17</td>\n",
       "      <td>Friday</td>\n",
       "      <td>Theft</td>\n",
       "    </tr>\n",
       "    <tr>\n",
       "      <th>3</th>\n",
       "      <td>100068331</td>\n",
       "      <td>12-02535</td>\n",
       "      <td>02/09/2012 10:18:00 PM</td>\n",
       "      <td>[CTPD]-BURGLARY - FORCE - RESIDENCE - UNK</td>\n",
       "      <td>BURGLARY - FORCE - RESIDENCE - UNK</td>\n",
       "      <td>NaN</td>\n",
       "      <td>600 Block MEETINGHOUSE RD</td>\n",
       "      <td>NaN</td>\n",
       "      <td>ELKINS PARK</td>\n",
       "      <td>PA</td>\n",
       "      <td>NaN</td>\n",
       "      <td>NaN</td>\n",
       "      <td>40.085155</td>\n",
       "      <td>-75.124921</td>\n",
       "      <td>02/21/2012 03:15:04 PM</td>\n",
       "      <td>02/21/2012 03:15:07 PM</td>\n",
       "      <td>POINT (-75.124921 40.085155)</td>\n",
       "      <td>22</td>\n",
       "      <td>Thursday</td>\n",
       "      <td>Breaking &amp; Entering</td>\n",
       "    </tr>\n",
       "    <tr>\n",
       "      <th>4</th>\n",
       "      <td>100068332</td>\n",
       "      <td>12-02556</td>\n",
       "      <td>02/10/2012 11:19:00 AM</td>\n",
       "      <td>[CTPD]-FRAUD - IDENTITY THEFT</td>\n",
       "      <td>FRAUD - IDENTITY THEFT</td>\n",
       "      <td>NaN</td>\n",
       "      <td>1 Block LIMEKILN TPK</td>\n",
       "      <td>NaN</td>\n",
       "      <td>GLENSIDE</td>\n",
       "      <td>PA</td>\n",
       "      <td>19038.0</td>\n",
       "      <td>NaN</td>\n",
       "      <td>40.106723</td>\n",
       "      <td>-75.163022</td>\n",
       "      <td>02/21/2012 03:15:04 PM</td>\n",
       "      <td>02/21/2012 03:15:07 PM</td>\n",
       "      <td>POINT (-75.163022 40.106723)</td>\n",
       "      <td>11</td>\n",
       "      <td>Friday</td>\n",
       "      <td>Theft</td>\n",
       "    </tr>\n",
       "  </tbody>\n",
       "</table>\n",
       "</div>"
      ],
      "text/plain": [
       "   incident_id case_number       incident_datetime  \\\n",
       "0    100068327    12-02555  02/10/2012 10:46:00 AM   \n",
       "1    100068328    12-02654  02/11/2012 10:14:00 PM   \n",
       "2    100068329    12-02598  02/10/2012 05:51:00 PM   \n",
       "3    100068331    12-02535  02/09/2012 10:18:00 PM   \n",
       "4    100068332    12-02556  02/10/2012 11:19:00 AM   \n",
       "\n",
       "                       incident_type_primary  \\\n",
       "0   [CTPD]-THEFT - $50 TO $200 - AUTO ACCESS   \n",
       "1           [CTPD]-ACCIDENT - NON REPORTABLE   \n",
       "2      [CTPD]-THEFT - $200 AND OVER - RETAIL   \n",
       "3  [CTPD]-BURGLARY - FORCE - RESIDENCE - UNK   \n",
       "4              [CTPD]-FRAUD - IDENTITY THEFT   \n",
       "\n",
       "                 incident_description  clearance_type  \\\n",
       "0   THEFT - $50 TO $200 - AUTO ACCESS             NaN   \n",
       "1           ACCIDENT - NON REPORTABLE             NaN   \n",
       "2      THEFT - $200 AND OVER - RETAIL             NaN   \n",
       "3  BURGLARY - FORCE - RESIDENCE - UNK             NaN   \n",
       "4              FRAUD - IDENTITY THEFT             NaN   \n",
       "\n",
       "                      address_1  address_2         city state      zip  \\\n",
       "0  600 Block TOOKANY CREEK PKWY        NaN   CHELTENHAM    PA  19012.0   \n",
       "1          200 Block BICKLEY RD        NaN      WYNCOTE    PA  19038.0   \n",
       "2        2400 Block SHOPPERS LN        NaN      WYNCOTE    PA  19095.0   \n",
       "3     600 Block MEETINGHOUSE RD        NaN  ELKINS PARK    PA      NaN   \n",
       "4          1 Block LIMEKILN TPK        NaN     GLENSIDE    PA  19038.0   \n",
       "\n",
       "   country   latitude  longitude              created_at  \\\n",
       "0      NaN  40.068875 -75.121003  02/21/2012 03:15:04 PM   \n",
       "1      NaN  40.097921 -75.154642  02/21/2012 03:15:04 PM   \n",
       "2      NaN  40.076851 -75.154990  02/21/2012 03:15:04 PM   \n",
       "3      NaN  40.085155 -75.124921  02/21/2012 03:15:04 PM   \n",
       "4      NaN  40.106723 -75.163022  02/21/2012 03:15:04 PM   \n",
       "\n",
       "               updated_at                      location  hour_of_day  \\\n",
       "0  02/21/2012 03:15:06 PM  POINT (-75.121003 40.068875)           10   \n",
       "1  02/21/2012 03:15:07 PM  POINT (-75.154642 40.097921)           22   \n",
       "2  02/21/2012 03:15:07 PM   POINT (-75.15499 40.076851)           17   \n",
       "3  02/21/2012 03:15:07 PM  POINT (-75.124921 40.085155)           22   \n",
       "4  02/21/2012 03:15:07 PM  POINT (-75.163022 40.106723)           11   \n",
       "\n",
       "  day_of_week parent_incident_type  \n",
       "0      Friday   Theft from Vehicle  \n",
       "1    Saturday              Traffic  \n",
       "2      Friday                Theft  \n",
       "3    Thursday  Breaking & Entering  \n",
       "4      Friday                Theft  "
      ]
     },
     "execution_count": 67,
     "metadata": {},
     "output_type": "execute_result"
    }
   ],
   "source": [
    "df.head()"
   ]
  },
  {
   "cell_type": "code",
   "execution_count": 68,
   "id": "257b8f7c",
   "metadata": {},
   "outputs": [
    {
     "data": {
      "text/plain": [
       "incident_id                  0\n",
       "case_number                  0\n",
       "incident_datetime            0\n",
       "incident_type_primary        0\n",
       "incident_description         0\n",
       "clearance_type           26864\n",
       "address_1                  220\n",
       "address_2                26864\n",
       "city                       101\n",
       "state                      104\n",
       "zip                       4536\n",
       "country                  26864\n",
       "latitude                   117\n",
       "longitude                  117\n",
       "created_at                 184\n",
       "updated_at                   4\n",
       "location                   264\n",
       "hour_of_day                  0\n",
       "day_of_week                  0\n",
       "parent_incident_type         0\n",
       "dtype: int64"
      ]
     },
     "execution_count": 68,
     "metadata": {},
     "output_type": "execute_result"
    }
   ],
   "source": [
    "df.isnull().sum()"
   ]
  },
  {
   "cell_type": "code",
   "execution_count": 69,
   "id": "ac4c422d",
   "metadata": {},
   "outputs": [
    {
     "name": "stdout",
     "output_type": "stream",
     "text": [
      "<class 'numpy.int64'>\n",
      "<class 'str'>\n",
      "<class 'str'>\n",
      "<class 'str'>\n",
      "<class 'str'>\n",
      "<class 'numpy.float64'>\n",
      "<class 'str'>\n",
      "<class 'numpy.float64'>\n",
      "<class 'str'>\n",
      "<class 'str'>\n",
      "<class 'numpy.float64'>\n",
      "<class 'numpy.float64'>\n",
      "<class 'numpy.float64'>\n",
      "<class 'numpy.float64'>\n",
      "<class 'str'>\n",
      "<class 'str'>\n",
      "<class 'str'>\n",
      "<class 'numpy.int64'>\n",
      "<class 'str'>\n",
      "<class 'str'>\n"
     ]
    }
   ],
   "source": [
    "for col in df:\n",
    "    print (type(df[col][1]))"
   ]
  },
  {
   "cell_type": "code",
   "execution_count": 70,
   "id": "ab23eeda",
   "metadata": {},
   "outputs": [],
   "source": [
    "#data = df.drop(['clearance_type', 'address_2', 'country'], axis=1)"
   ]
  },
  {
   "cell_type": "code",
   "execution_count": 71,
   "id": "6ad37b09",
   "metadata": {},
   "outputs": [
    {
     "data": {
      "text/html": [
       "<div>\n",
       "<style scoped>\n",
       "    .dataframe tbody tr th:only-of-type {\n",
       "        vertical-align: middle;\n",
       "    }\n",
       "\n",
       "    .dataframe tbody tr th {\n",
       "        vertical-align: top;\n",
       "    }\n",
       "\n",
       "    .dataframe thead th {\n",
       "        text-align: right;\n",
       "    }\n",
       "</style>\n",
       "<table border=\"1\" class=\"dataframe\">\n",
       "  <thead>\n",
       "    <tr style=\"text-align: right;\">\n",
       "      <th></th>\n",
       "      <th>incident_id</th>\n",
       "      <th>case_number</th>\n",
       "      <th>incident_datetime</th>\n",
       "      <th>incident_type_primary</th>\n",
       "      <th>incident_description</th>\n",
       "      <th>clearance_type</th>\n",
       "      <th>address_1</th>\n",
       "      <th>address_2</th>\n",
       "      <th>city</th>\n",
       "      <th>state</th>\n",
       "      <th>zip</th>\n",
       "      <th>country</th>\n",
       "      <th>latitude</th>\n",
       "      <th>longitude</th>\n",
       "      <th>created_at</th>\n",
       "      <th>updated_at</th>\n",
       "      <th>location</th>\n",
       "      <th>hour_of_day</th>\n",
       "      <th>day_of_week</th>\n",
       "      <th>parent_incident_type</th>\n",
       "    </tr>\n",
       "  </thead>\n",
       "  <tbody>\n",
       "    <tr>\n",
       "      <th>0</th>\n",
       "      <td>100068327</td>\n",
       "      <td>12-02555</td>\n",
       "      <td>02/10/2012 10:46:00 AM</td>\n",
       "      <td>[CTPD]-THEFT - $50 TO $200 - AUTO ACCESS</td>\n",
       "      <td>THEFT - $50 TO $200 - AUTO ACCESS</td>\n",
       "      <td>NaN</td>\n",
       "      <td>600 Block TOOKANY CREEK PKWY</td>\n",
       "      <td>NaN</td>\n",
       "      <td>CHELTENHAM</td>\n",
       "      <td>PA</td>\n",
       "      <td>19012.0</td>\n",
       "      <td>NaN</td>\n",
       "      <td>40.068875</td>\n",
       "      <td>-75.121003</td>\n",
       "      <td>02/21/2012 03:15:04 PM</td>\n",
       "      <td>02/21/2012 03:15:06 PM</td>\n",
       "      <td>POINT (-75.121003 40.068875)</td>\n",
       "      <td>10</td>\n",
       "      <td>Friday</td>\n",
       "      <td>Theft from Vehicle</td>\n",
       "    </tr>\n",
       "    <tr>\n",
       "      <th>1</th>\n",
       "      <td>100068328</td>\n",
       "      <td>12-02654</td>\n",
       "      <td>02/11/2012 10:14:00 PM</td>\n",
       "      <td>[CTPD]-ACCIDENT - NON REPORTABLE</td>\n",
       "      <td>ACCIDENT - NON REPORTABLE</td>\n",
       "      <td>NaN</td>\n",
       "      <td>200 Block BICKLEY RD</td>\n",
       "      <td>NaN</td>\n",
       "      <td>WYNCOTE</td>\n",
       "      <td>PA</td>\n",
       "      <td>19038.0</td>\n",
       "      <td>NaN</td>\n",
       "      <td>40.097921</td>\n",
       "      <td>-75.154642</td>\n",
       "      <td>02/21/2012 03:15:04 PM</td>\n",
       "      <td>02/21/2012 03:15:07 PM</td>\n",
       "      <td>POINT (-75.154642 40.097921)</td>\n",
       "      <td>22</td>\n",
       "      <td>Saturday</td>\n",
       "      <td>Traffic</td>\n",
       "    </tr>\n",
       "    <tr>\n",
       "      <th>2</th>\n",
       "      <td>100068329</td>\n",
       "      <td>12-02598</td>\n",
       "      <td>02/10/2012 05:51:00 PM</td>\n",
       "      <td>[CTPD]-THEFT - $200 AND OVER - RETAIL</td>\n",
       "      <td>THEFT - $200 AND OVER - RETAIL</td>\n",
       "      <td>NaN</td>\n",
       "      <td>2400 Block SHOPPERS LN</td>\n",
       "      <td>NaN</td>\n",
       "      <td>WYNCOTE</td>\n",
       "      <td>PA</td>\n",
       "      <td>19095.0</td>\n",
       "      <td>NaN</td>\n",
       "      <td>40.076851</td>\n",
       "      <td>-75.154990</td>\n",
       "      <td>02/21/2012 03:15:04 PM</td>\n",
       "      <td>02/21/2012 03:15:07 PM</td>\n",
       "      <td>POINT (-75.15499 40.076851)</td>\n",
       "      <td>17</td>\n",
       "      <td>Friday</td>\n",
       "      <td>Theft</td>\n",
       "    </tr>\n",
       "    <tr>\n",
       "      <th>3</th>\n",
       "      <td>100068331</td>\n",
       "      <td>12-02535</td>\n",
       "      <td>02/09/2012 10:18:00 PM</td>\n",
       "      <td>[CTPD]-BURGLARY - FORCE - RESIDENCE - UNK</td>\n",
       "      <td>BURGLARY - FORCE - RESIDENCE - UNK</td>\n",
       "      <td>NaN</td>\n",
       "      <td>600 Block MEETINGHOUSE RD</td>\n",
       "      <td>NaN</td>\n",
       "      <td>ELKINS PARK</td>\n",
       "      <td>PA</td>\n",
       "      <td>NaN</td>\n",
       "      <td>NaN</td>\n",
       "      <td>40.085155</td>\n",
       "      <td>-75.124921</td>\n",
       "      <td>02/21/2012 03:15:04 PM</td>\n",
       "      <td>02/21/2012 03:15:07 PM</td>\n",
       "      <td>POINT (-75.124921 40.085155)</td>\n",
       "      <td>22</td>\n",
       "      <td>Thursday</td>\n",
       "      <td>Breaking &amp; Entering</td>\n",
       "    </tr>\n",
       "    <tr>\n",
       "      <th>4</th>\n",
       "      <td>100068332</td>\n",
       "      <td>12-02556</td>\n",
       "      <td>02/10/2012 11:19:00 AM</td>\n",
       "      <td>[CTPD]-FRAUD - IDENTITY THEFT</td>\n",
       "      <td>FRAUD - IDENTITY THEFT</td>\n",
       "      <td>NaN</td>\n",
       "      <td>1 Block LIMEKILN TPK</td>\n",
       "      <td>NaN</td>\n",
       "      <td>GLENSIDE</td>\n",
       "      <td>PA</td>\n",
       "      <td>19038.0</td>\n",
       "      <td>NaN</td>\n",
       "      <td>40.106723</td>\n",
       "      <td>-75.163022</td>\n",
       "      <td>02/21/2012 03:15:04 PM</td>\n",
       "      <td>02/21/2012 03:15:07 PM</td>\n",
       "      <td>POINT (-75.163022 40.106723)</td>\n",
       "      <td>11</td>\n",
       "      <td>Friday</td>\n",
       "      <td>Theft</td>\n",
       "    </tr>\n",
       "  </tbody>\n",
       "</table>\n",
       "</div>"
      ],
      "text/plain": [
       "   incident_id case_number       incident_datetime  \\\n",
       "0    100068327    12-02555  02/10/2012 10:46:00 AM   \n",
       "1    100068328    12-02654  02/11/2012 10:14:00 PM   \n",
       "2    100068329    12-02598  02/10/2012 05:51:00 PM   \n",
       "3    100068331    12-02535  02/09/2012 10:18:00 PM   \n",
       "4    100068332    12-02556  02/10/2012 11:19:00 AM   \n",
       "\n",
       "                       incident_type_primary  \\\n",
       "0   [CTPD]-THEFT - $50 TO $200 - AUTO ACCESS   \n",
       "1           [CTPD]-ACCIDENT - NON REPORTABLE   \n",
       "2      [CTPD]-THEFT - $200 AND OVER - RETAIL   \n",
       "3  [CTPD]-BURGLARY - FORCE - RESIDENCE - UNK   \n",
       "4              [CTPD]-FRAUD - IDENTITY THEFT   \n",
       "\n",
       "                 incident_description  clearance_type  \\\n",
       "0   THEFT - $50 TO $200 - AUTO ACCESS             NaN   \n",
       "1           ACCIDENT - NON REPORTABLE             NaN   \n",
       "2      THEFT - $200 AND OVER - RETAIL             NaN   \n",
       "3  BURGLARY - FORCE - RESIDENCE - UNK             NaN   \n",
       "4              FRAUD - IDENTITY THEFT             NaN   \n",
       "\n",
       "                      address_1  address_2         city state      zip  \\\n",
       "0  600 Block TOOKANY CREEK PKWY        NaN   CHELTENHAM    PA  19012.0   \n",
       "1          200 Block BICKLEY RD        NaN      WYNCOTE    PA  19038.0   \n",
       "2        2400 Block SHOPPERS LN        NaN      WYNCOTE    PA  19095.0   \n",
       "3     600 Block MEETINGHOUSE RD        NaN  ELKINS PARK    PA      NaN   \n",
       "4          1 Block LIMEKILN TPK        NaN     GLENSIDE    PA  19038.0   \n",
       "\n",
       "   country   latitude  longitude              created_at  \\\n",
       "0      NaN  40.068875 -75.121003  02/21/2012 03:15:04 PM   \n",
       "1      NaN  40.097921 -75.154642  02/21/2012 03:15:04 PM   \n",
       "2      NaN  40.076851 -75.154990  02/21/2012 03:15:04 PM   \n",
       "3      NaN  40.085155 -75.124921  02/21/2012 03:15:04 PM   \n",
       "4      NaN  40.106723 -75.163022  02/21/2012 03:15:04 PM   \n",
       "\n",
       "               updated_at                      location  hour_of_day  \\\n",
       "0  02/21/2012 03:15:06 PM  POINT (-75.121003 40.068875)           10   \n",
       "1  02/21/2012 03:15:07 PM  POINT (-75.154642 40.097921)           22   \n",
       "2  02/21/2012 03:15:07 PM   POINT (-75.15499 40.076851)           17   \n",
       "3  02/21/2012 03:15:07 PM  POINT (-75.124921 40.085155)           22   \n",
       "4  02/21/2012 03:15:07 PM  POINT (-75.163022 40.106723)           11   \n",
       "\n",
       "  day_of_week parent_incident_type  \n",
       "0      Friday   Theft from Vehicle  \n",
       "1    Saturday              Traffic  \n",
       "2      Friday                Theft  \n",
       "3    Thursday  Breaking & Entering  \n",
       "4      Friday                Theft  "
      ]
     },
     "execution_count": 71,
     "metadata": {},
     "output_type": "execute_result"
    }
   ],
   "source": [
    "df.head()"
   ]
  },
  {
   "cell_type": "code",
   "execution_count": 72,
   "id": "55883154",
   "metadata": {},
   "outputs": [
    {
     "data": {
      "text/html": [
       "<div>\n",
       "<style scoped>\n",
       "    .dataframe tbody tr th:only-of-type {\n",
       "        vertical-align: middle;\n",
       "    }\n",
       "\n",
       "    .dataframe tbody tr th {\n",
       "        vertical-align: top;\n",
       "    }\n",
       "\n",
       "    .dataframe thead th {\n",
       "        text-align: right;\n",
       "    }\n",
       "</style>\n",
       "<table border=\"1\" class=\"dataframe\">\n",
       "  <thead>\n",
       "    <tr style=\"text-align: right;\">\n",
       "      <th></th>\n",
       "      <th>incident_id</th>\n",
       "      <th>case_number</th>\n",
       "      <th>incident_datetime</th>\n",
       "      <th>incident_type_primary</th>\n",
       "      <th>incident_description</th>\n",
       "      <th>clearance_type</th>\n",
       "      <th>address_1</th>\n",
       "      <th>address_2</th>\n",
       "      <th>city</th>\n",
       "      <th>state</th>\n",
       "      <th>zip</th>\n",
       "      <th>country</th>\n",
       "      <th>latitude</th>\n",
       "      <th>longitude</th>\n",
       "      <th>created_at</th>\n",
       "      <th>updated_at</th>\n",
       "      <th>location</th>\n",
       "      <th>hour_of_day</th>\n",
       "      <th>day_of_week</th>\n",
       "      <th>parent_incident_type</th>\n",
       "    </tr>\n",
       "  </thead>\n",
       "  <tbody>\n",
       "    <tr>\n",
       "      <th>0</th>\n",
       "      <td>100068327</td>\n",
       "      <td>12-02555</td>\n",
       "      <td>02/10/2012 10:46:00 AM</td>\n",
       "      <td>[CTPD]-THEFT - $50 TO $200 - AUTO ACCESS</td>\n",
       "      <td>THEFT - $50 TO $200 - AUTO ACCESS</td>\n",
       "      <td>0.0</td>\n",
       "      <td>600 Block TOOKANY CREEK PKWY</td>\n",
       "      <td>0.0</td>\n",
       "      <td>CHELTENHAM</td>\n",
       "      <td>PA</td>\n",
       "      <td>19012.0</td>\n",
       "      <td>0.0</td>\n",
       "      <td>40.068875</td>\n",
       "      <td>-75.121003</td>\n",
       "      <td>02/21/2012 03:15:04 PM</td>\n",
       "      <td>02/21/2012 03:15:06 PM</td>\n",
       "      <td>POINT (-75.121003 40.068875)</td>\n",
       "      <td>10</td>\n",
       "      <td>Friday</td>\n",
       "      <td>Theft from Vehicle</td>\n",
       "    </tr>\n",
       "    <tr>\n",
       "      <th>1</th>\n",
       "      <td>100068328</td>\n",
       "      <td>12-02654</td>\n",
       "      <td>02/11/2012 10:14:00 PM</td>\n",
       "      <td>[CTPD]-ACCIDENT - NON REPORTABLE</td>\n",
       "      <td>ACCIDENT - NON REPORTABLE</td>\n",
       "      <td>0.0</td>\n",
       "      <td>200 Block BICKLEY RD</td>\n",
       "      <td>0.0</td>\n",
       "      <td>WYNCOTE</td>\n",
       "      <td>PA</td>\n",
       "      <td>19038.0</td>\n",
       "      <td>0.0</td>\n",
       "      <td>40.097921</td>\n",
       "      <td>-75.154642</td>\n",
       "      <td>02/21/2012 03:15:04 PM</td>\n",
       "      <td>02/21/2012 03:15:07 PM</td>\n",
       "      <td>POINT (-75.154642 40.097921)</td>\n",
       "      <td>22</td>\n",
       "      <td>Saturday</td>\n",
       "      <td>Traffic</td>\n",
       "    </tr>\n",
       "    <tr>\n",
       "      <th>2</th>\n",
       "      <td>100068329</td>\n",
       "      <td>12-02598</td>\n",
       "      <td>02/10/2012 05:51:00 PM</td>\n",
       "      <td>[CTPD]-THEFT - $200 AND OVER - RETAIL</td>\n",
       "      <td>THEFT - $200 AND OVER - RETAIL</td>\n",
       "      <td>0.0</td>\n",
       "      <td>2400 Block SHOPPERS LN</td>\n",
       "      <td>0.0</td>\n",
       "      <td>WYNCOTE</td>\n",
       "      <td>PA</td>\n",
       "      <td>19095.0</td>\n",
       "      <td>0.0</td>\n",
       "      <td>40.076851</td>\n",
       "      <td>-75.154990</td>\n",
       "      <td>02/21/2012 03:15:04 PM</td>\n",
       "      <td>02/21/2012 03:15:07 PM</td>\n",
       "      <td>POINT (-75.15499 40.076851)</td>\n",
       "      <td>17</td>\n",
       "      <td>Friday</td>\n",
       "      <td>Theft</td>\n",
       "    </tr>\n",
       "    <tr>\n",
       "      <th>3</th>\n",
       "      <td>100068331</td>\n",
       "      <td>12-02535</td>\n",
       "      <td>02/09/2012 10:18:00 PM</td>\n",
       "      <td>[CTPD]-BURGLARY - FORCE - RESIDENCE - UNK</td>\n",
       "      <td>BURGLARY - FORCE - RESIDENCE - UNK</td>\n",
       "      <td>0.0</td>\n",
       "      <td>600 Block MEETINGHOUSE RD</td>\n",
       "      <td>0.0</td>\n",
       "      <td>ELKINS PARK</td>\n",
       "      <td>PA</td>\n",
       "      <td>0.0</td>\n",
       "      <td>0.0</td>\n",
       "      <td>40.085155</td>\n",
       "      <td>-75.124921</td>\n",
       "      <td>02/21/2012 03:15:04 PM</td>\n",
       "      <td>02/21/2012 03:15:07 PM</td>\n",
       "      <td>POINT (-75.124921 40.085155)</td>\n",
       "      <td>22</td>\n",
       "      <td>Thursday</td>\n",
       "      <td>Breaking &amp; Entering</td>\n",
       "    </tr>\n",
       "    <tr>\n",
       "      <th>4</th>\n",
       "      <td>100068332</td>\n",
       "      <td>12-02556</td>\n",
       "      <td>02/10/2012 11:19:00 AM</td>\n",
       "      <td>[CTPD]-FRAUD - IDENTITY THEFT</td>\n",
       "      <td>FRAUD - IDENTITY THEFT</td>\n",
       "      <td>0.0</td>\n",
       "      <td>1 Block LIMEKILN TPK</td>\n",
       "      <td>0.0</td>\n",
       "      <td>GLENSIDE</td>\n",
       "      <td>PA</td>\n",
       "      <td>19038.0</td>\n",
       "      <td>0.0</td>\n",
       "      <td>40.106723</td>\n",
       "      <td>-75.163022</td>\n",
       "      <td>02/21/2012 03:15:04 PM</td>\n",
       "      <td>02/21/2012 03:15:07 PM</td>\n",
       "      <td>POINT (-75.163022 40.106723)</td>\n",
       "      <td>11</td>\n",
       "      <td>Friday</td>\n",
       "      <td>Theft</td>\n",
       "    </tr>\n",
       "    <tr>\n",
       "      <th>...</th>\n",
       "      <td>...</td>\n",
       "      <td>...</td>\n",
       "      <td>...</td>\n",
       "      <td>...</td>\n",
       "      <td>...</td>\n",
       "      <td>...</td>\n",
       "      <td>...</td>\n",
       "      <td>...</td>\n",
       "      <td>...</td>\n",
       "      <td>...</td>\n",
       "      <td>...</td>\n",
       "      <td>...</td>\n",
       "      <td>...</td>\n",
       "      <td>...</td>\n",
       "      <td>...</td>\n",
       "      <td>...</td>\n",
       "      <td>...</td>\n",
       "      <td>...</td>\n",
       "      <td>...</td>\n",
       "      <td>...</td>\n",
       "    </tr>\n",
       "    <tr>\n",
       "      <th>26859</th>\n",
       "      <td>831119768</td>\n",
       "      <td>17-27099</td>\n",
       "      <td>12/13/2017 07:07:00 PM</td>\n",
       "      <td>[CTPD]-ACCIDENT - NON REPORTABLE</td>\n",
       "      <td>ACCIDENT - NON REPORTABLE</td>\n",
       "      <td>0.0</td>\n",
       "      <td>EASTON RD &amp; LIMEKILN TPK</td>\n",
       "      <td>0.0</td>\n",
       "      <td>GLENSIDE</td>\n",
       "      <td>PA</td>\n",
       "      <td>19095.0</td>\n",
       "      <td>0.0</td>\n",
       "      <td>40.092138</td>\n",
       "      <td>-75.162038</td>\n",
       "      <td>01/08/2018 01:05:09 PM</td>\n",
       "      <td>01/08/2018 01:05:12 PM</td>\n",
       "      <td>POINT (-75.1620383 40.0921382)</td>\n",
       "      <td>19</td>\n",
       "      <td>Wednesday</td>\n",
       "      <td>Traffic</td>\n",
       "    </tr>\n",
       "    <tr>\n",
       "      <th>26860</th>\n",
       "      <td>831119690</td>\n",
       "      <td>17-27100</td>\n",
       "      <td>12/13/2017 07:34:00 PM</td>\n",
       "      <td>[CTPD]-VEHICLE THEFT - AUTO</td>\n",
       "      <td>VEHICLE THEFT - AUTO</td>\n",
       "      <td>0.0</td>\n",
       "      <td>7700 Block LUCRETIA MOTT WAY</td>\n",
       "      <td>0.0</td>\n",
       "      <td>ELKINS PARK</td>\n",
       "      <td>PA</td>\n",
       "      <td>19027.0</td>\n",
       "      <td>0.0</td>\n",
       "      <td>40.075155</td>\n",
       "      <td>-75.148525</td>\n",
       "      <td>01/08/2018 01:05:09 PM</td>\n",
       "      <td>01/08/2018 01:05:10 PM</td>\n",
       "      <td>POINT (-75.1485248 40.0751554)</td>\n",
       "      <td>19</td>\n",
       "      <td>Wednesday</td>\n",
       "      <td>Theft of Vehicle</td>\n",
       "    </tr>\n",
       "    <tr>\n",
       "      <th>26861</th>\n",
       "      <td>831119767</td>\n",
       "      <td>17-27102</td>\n",
       "      <td>12/13/2017 08:10:00 PM</td>\n",
       "      <td>[CTPD]-THEFT - $200 AND OVER - RETAIL</td>\n",
       "      <td>THEFT - $200 AND OVER - RETAIL</td>\n",
       "      <td>0.0</td>\n",
       "      <td>3000 Block W CHELTENHAM AVE</td>\n",
       "      <td>0.0</td>\n",
       "      <td>WYNCOTE</td>\n",
       "      <td>PA</td>\n",
       "      <td>19150.0</td>\n",
       "      <td>0.0</td>\n",
       "      <td>40.080281</td>\n",
       "      <td>-75.167319</td>\n",
       "      <td>01/08/2018 01:05:09 PM</td>\n",
       "      <td>01/08/2018 01:05:11 PM</td>\n",
       "      <td>POINT (-75.1673192 40.0802806)</td>\n",
       "      <td>20</td>\n",
       "      <td>Wednesday</td>\n",
       "      <td>Theft</td>\n",
       "    </tr>\n",
       "    <tr>\n",
       "      <th>26862</th>\n",
       "      <td>831119961</td>\n",
       "      <td>18-00404</td>\n",
       "      <td>01/09/2018 10:08:00 PM</td>\n",
       "      <td>[CTPD]-ACCIDENT - NON REPORTABLE</td>\n",
       "      <td>ACCIDENT - NON REPORTABLE</td>\n",
       "      <td>0.0</td>\n",
       "      <td>WASHINGTON LN &amp; TOWNSHIP LINE RD</td>\n",
       "      <td>0.0</td>\n",
       "      <td>ELKINS PARK</td>\n",
       "      <td>PA</td>\n",
       "      <td>19095.0</td>\n",
       "      <td>0.0</td>\n",
       "      <td>40.089328</td>\n",
       "      <td>-75.131741</td>\n",
       "      <td>01/08/2018 01:05:09 PM</td>\n",
       "      <td>01/08/2018 01:05:15 PM</td>\n",
       "      <td>POINT (-75.1317412 40.0893283)</td>\n",
       "      <td>22</td>\n",
       "      <td>Tuesday</td>\n",
       "      <td>Traffic</td>\n",
       "    </tr>\n",
       "    <tr>\n",
       "      <th>26863</th>\n",
       "      <td>831119719</td>\n",
       "      <td>18-00475</td>\n",
       "      <td>01/10/2018 07:09:00 PM</td>\n",
       "      <td>[CTPD]-VANDALISM/CRIM MISCHIEF - VEHICLES</td>\n",
       "      <td>VANDALISM/CRIM MISCHIEF - VEHICLES</td>\n",
       "      <td>0.0</td>\n",
       "      <td>1900 Block ASHBOURNE RD</td>\n",
       "      <td>0.0</td>\n",
       "      <td>ELKINS PARK</td>\n",
       "      <td>PA</td>\n",
       "      <td>19027.0</td>\n",
       "      <td>0.0</td>\n",
       "      <td>40.076838</td>\n",
       "      <td>-75.148099</td>\n",
       "      <td>01/08/2018 01:05:09 PM</td>\n",
       "      <td>01/08/2018 01:05:10 PM</td>\n",
       "      <td>POINT (-75.1480985 40.0768382)</td>\n",
       "      <td>19</td>\n",
       "      <td>Wednesday</td>\n",
       "      <td>Property Crime</td>\n",
       "    </tr>\n",
       "  </tbody>\n",
       "</table>\n",
       "<p>26864 rows × 20 columns</p>\n",
       "</div>"
      ],
      "text/plain": [
       "       incident_id case_number       incident_datetime  \\\n",
       "0        100068327    12-02555  02/10/2012 10:46:00 AM   \n",
       "1        100068328    12-02654  02/11/2012 10:14:00 PM   \n",
       "2        100068329    12-02598  02/10/2012 05:51:00 PM   \n",
       "3        100068331    12-02535  02/09/2012 10:18:00 PM   \n",
       "4        100068332    12-02556  02/10/2012 11:19:00 AM   \n",
       "...            ...         ...                     ...   \n",
       "26859    831119768    17-27099  12/13/2017 07:07:00 PM   \n",
       "26860    831119690    17-27100  12/13/2017 07:34:00 PM   \n",
       "26861    831119767    17-27102  12/13/2017 08:10:00 PM   \n",
       "26862    831119961    18-00404  01/09/2018 10:08:00 PM   \n",
       "26863    831119719    18-00475  01/10/2018 07:09:00 PM   \n",
       "\n",
       "                           incident_type_primary  \\\n",
       "0       [CTPD]-THEFT - $50 TO $200 - AUTO ACCESS   \n",
       "1               [CTPD]-ACCIDENT - NON REPORTABLE   \n",
       "2          [CTPD]-THEFT - $200 AND OVER - RETAIL   \n",
       "3      [CTPD]-BURGLARY - FORCE - RESIDENCE - UNK   \n",
       "4                  [CTPD]-FRAUD - IDENTITY THEFT   \n",
       "...                                          ...   \n",
       "26859           [CTPD]-ACCIDENT - NON REPORTABLE   \n",
       "26860                [CTPD]-VEHICLE THEFT - AUTO   \n",
       "26861      [CTPD]-THEFT - $200 AND OVER - RETAIL   \n",
       "26862           [CTPD]-ACCIDENT - NON REPORTABLE   \n",
       "26863  [CTPD]-VANDALISM/CRIM MISCHIEF - VEHICLES   \n",
       "\n",
       "                     incident_description  clearance_type  \\\n",
       "0       THEFT - $50 TO $200 - AUTO ACCESS             0.0   \n",
       "1               ACCIDENT - NON REPORTABLE             0.0   \n",
       "2          THEFT - $200 AND OVER - RETAIL             0.0   \n",
       "3      BURGLARY - FORCE - RESIDENCE - UNK             0.0   \n",
       "4                  FRAUD - IDENTITY THEFT             0.0   \n",
       "...                                   ...             ...   \n",
       "26859           ACCIDENT - NON REPORTABLE             0.0   \n",
       "26860                VEHICLE THEFT - AUTO             0.0   \n",
       "26861      THEFT - $200 AND OVER - RETAIL             0.0   \n",
       "26862           ACCIDENT - NON REPORTABLE             0.0   \n",
       "26863  VANDALISM/CRIM MISCHIEF - VEHICLES             0.0   \n",
       "\n",
       "                              address_1  address_2         city state  \\\n",
       "0          600 Block TOOKANY CREEK PKWY        0.0   CHELTENHAM    PA   \n",
       "1                  200 Block BICKLEY RD        0.0      WYNCOTE    PA   \n",
       "2                2400 Block SHOPPERS LN        0.0      WYNCOTE    PA   \n",
       "3             600 Block MEETINGHOUSE RD        0.0  ELKINS PARK    PA   \n",
       "4                  1 Block LIMEKILN TPK        0.0     GLENSIDE    PA   \n",
       "...                                 ...        ...          ...   ...   \n",
       "26859          EASTON RD & LIMEKILN TPK        0.0     GLENSIDE    PA   \n",
       "26860      7700 Block LUCRETIA MOTT WAY        0.0  ELKINS PARK    PA   \n",
       "26861       3000 Block W CHELTENHAM AVE        0.0      WYNCOTE    PA   \n",
       "26862  WASHINGTON LN & TOWNSHIP LINE RD        0.0  ELKINS PARK    PA   \n",
       "26863           1900 Block ASHBOURNE RD        0.0  ELKINS PARK    PA   \n",
       "\n",
       "           zip  country   latitude  longitude              created_at  \\\n",
       "0      19012.0      0.0  40.068875 -75.121003  02/21/2012 03:15:04 PM   \n",
       "1      19038.0      0.0  40.097921 -75.154642  02/21/2012 03:15:04 PM   \n",
       "2      19095.0      0.0  40.076851 -75.154990  02/21/2012 03:15:04 PM   \n",
       "3          0.0      0.0  40.085155 -75.124921  02/21/2012 03:15:04 PM   \n",
       "4      19038.0      0.0  40.106723 -75.163022  02/21/2012 03:15:04 PM   \n",
       "...        ...      ...        ...        ...                     ...   \n",
       "26859  19095.0      0.0  40.092138 -75.162038  01/08/2018 01:05:09 PM   \n",
       "26860  19027.0      0.0  40.075155 -75.148525  01/08/2018 01:05:09 PM   \n",
       "26861  19150.0      0.0  40.080281 -75.167319  01/08/2018 01:05:09 PM   \n",
       "26862  19095.0      0.0  40.089328 -75.131741  01/08/2018 01:05:09 PM   \n",
       "26863  19027.0      0.0  40.076838 -75.148099  01/08/2018 01:05:09 PM   \n",
       "\n",
       "                   updated_at                        location  hour_of_day  \\\n",
       "0      02/21/2012 03:15:06 PM    POINT (-75.121003 40.068875)           10   \n",
       "1      02/21/2012 03:15:07 PM    POINT (-75.154642 40.097921)           22   \n",
       "2      02/21/2012 03:15:07 PM     POINT (-75.15499 40.076851)           17   \n",
       "3      02/21/2012 03:15:07 PM    POINT (-75.124921 40.085155)           22   \n",
       "4      02/21/2012 03:15:07 PM    POINT (-75.163022 40.106723)           11   \n",
       "...                       ...                             ...          ...   \n",
       "26859  01/08/2018 01:05:12 PM  POINT (-75.1620383 40.0921382)           19   \n",
       "26860  01/08/2018 01:05:10 PM  POINT (-75.1485248 40.0751554)           19   \n",
       "26861  01/08/2018 01:05:11 PM  POINT (-75.1673192 40.0802806)           20   \n",
       "26862  01/08/2018 01:05:15 PM  POINT (-75.1317412 40.0893283)           22   \n",
       "26863  01/08/2018 01:05:10 PM  POINT (-75.1480985 40.0768382)           19   \n",
       "\n",
       "      day_of_week parent_incident_type  \n",
       "0          Friday   Theft from Vehicle  \n",
       "1        Saturday              Traffic  \n",
       "2          Friday                Theft  \n",
       "3        Thursday  Breaking & Entering  \n",
       "4          Friday                Theft  \n",
       "...           ...                  ...  \n",
       "26859   Wednesday              Traffic  \n",
       "26860   Wednesday     Theft of Vehicle  \n",
       "26861   Wednesday                Theft  \n",
       "26862     Tuesday              Traffic  \n",
       "26863   Wednesday       Property Crime  \n",
       "\n",
       "[26864 rows x 20 columns]"
      ]
     },
     "execution_count": 72,
     "metadata": {},
     "output_type": "execute_result"
    }
   ],
   "source": [
    "new_df= df.fillna(0)\n",
    "new_df"
   ]
  },
  {
   "cell_type": "code",
   "execution_count": 73,
   "id": "10421de4",
   "metadata": {},
   "outputs": [],
   "source": [
    "#new_df=df.interpolate\n",
    "#new_df()"
   ]
  },
  {
   "cell_type": "markdown",
   "id": "31b85063",
   "metadata": {},
   "source": [
    "# Drop null values"
   ]
  },
  {
   "cell_type": "code",
   "execution_count": 74,
   "id": "239c2c52",
   "metadata": {},
   "outputs": [
    {
     "name": "stdout",
     "output_type": "stream",
     "text": [
      "<class 'pandas.core.frame.DataFrame'>\n",
      "RangeIndex: 26864 entries, 0 to 26863\n",
      "Data columns (total 8 columns):\n",
      " #   Column                 Non-Null Count  Dtype \n",
      "---  ------                 --------------  ----- \n",
      " 0   incident_id            26864 non-null  int64 \n",
      " 1   case_number            26864 non-null  object\n",
      " 2   incident_datetime      26864 non-null  object\n",
      " 3   incident_type_primary  26864 non-null  object\n",
      " 4   incident_description   26864 non-null  object\n",
      " 5   hour_of_day            26864 non-null  int64 \n",
      " 6   day_of_week            26864 non-null  object\n",
      " 7   parent_incident_type   26864 non-null  object\n",
      "dtypes: int64(2), object(6)\n",
      "memory usage: 1.6+ MB\n"
     ]
    }
   ],
   "source": [
    "new_df=df.dropna(axis=1)\n",
    "new_df.info()"
   ]
  },
  {
   "cell_type": "code",
   "execution_count": 75,
   "id": "8627d911",
   "metadata": {},
   "outputs": [
    {
     "data": {
      "text/html": [
       "<div>\n",
       "<style scoped>\n",
       "    .dataframe tbody tr th:only-of-type {\n",
       "        vertical-align: middle;\n",
       "    }\n",
       "\n",
       "    .dataframe tbody tr th {\n",
       "        vertical-align: top;\n",
       "    }\n",
       "\n",
       "    .dataframe thead th {\n",
       "        text-align: right;\n",
       "    }\n",
       "</style>\n",
       "<table border=\"1\" class=\"dataframe\">\n",
       "  <thead>\n",
       "    <tr style=\"text-align: right;\">\n",
       "      <th></th>\n",
       "      <th>incident_id</th>\n",
       "      <th>case_number</th>\n",
       "      <th>incident_datetime</th>\n",
       "      <th>incident_type_primary</th>\n",
       "      <th>incident_description</th>\n",
       "      <th>hour_of_day</th>\n",
       "      <th>day_of_week</th>\n",
       "      <th>parent_incident_type</th>\n",
       "    </tr>\n",
       "  </thead>\n",
       "  <tbody>\n",
       "    <tr>\n",
       "      <th>0</th>\n",
       "      <td>100068327</td>\n",
       "      <td>12-02555</td>\n",
       "      <td>02/10/2012 10:46:00 AM</td>\n",
       "      <td>[CTPD]-THEFT - $50 TO $200 - AUTO ACCESS</td>\n",
       "      <td>THEFT - $50 TO $200 - AUTO ACCESS</td>\n",
       "      <td>10</td>\n",
       "      <td>Friday</td>\n",
       "      <td>Theft from Vehicle</td>\n",
       "    </tr>\n",
       "    <tr>\n",
       "      <th>1</th>\n",
       "      <td>100068328</td>\n",
       "      <td>12-02654</td>\n",
       "      <td>02/11/2012 10:14:00 PM</td>\n",
       "      <td>[CTPD]-ACCIDENT - NON REPORTABLE</td>\n",
       "      <td>ACCIDENT - NON REPORTABLE</td>\n",
       "      <td>22</td>\n",
       "      <td>Saturday</td>\n",
       "      <td>Traffic</td>\n",
       "    </tr>\n",
       "    <tr>\n",
       "      <th>2</th>\n",
       "      <td>100068329</td>\n",
       "      <td>12-02598</td>\n",
       "      <td>02/10/2012 05:51:00 PM</td>\n",
       "      <td>[CTPD]-THEFT - $200 AND OVER - RETAIL</td>\n",
       "      <td>THEFT - $200 AND OVER - RETAIL</td>\n",
       "      <td>17</td>\n",
       "      <td>Friday</td>\n",
       "      <td>Theft</td>\n",
       "    </tr>\n",
       "    <tr>\n",
       "      <th>3</th>\n",
       "      <td>100068331</td>\n",
       "      <td>12-02535</td>\n",
       "      <td>02/09/2012 10:18:00 PM</td>\n",
       "      <td>[CTPD]-BURGLARY - FORCE - RESIDENCE - UNK</td>\n",
       "      <td>BURGLARY - FORCE - RESIDENCE - UNK</td>\n",
       "      <td>22</td>\n",
       "      <td>Thursday</td>\n",
       "      <td>Breaking &amp; Entering</td>\n",
       "    </tr>\n",
       "    <tr>\n",
       "      <th>4</th>\n",
       "      <td>100068332</td>\n",
       "      <td>12-02556</td>\n",
       "      <td>02/10/2012 11:19:00 AM</td>\n",
       "      <td>[CTPD]-FRAUD - IDENTITY THEFT</td>\n",
       "      <td>FRAUD - IDENTITY THEFT</td>\n",
       "      <td>11</td>\n",
       "      <td>Friday</td>\n",
       "      <td>Theft</td>\n",
       "    </tr>\n",
       "    <tr>\n",
       "      <th>5</th>\n",
       "      <td>100068334</td>\n",
       "      <td>12-02478</td>\n",
       "      <td>02/08/2012 06:16:00 PM</td>\n",
       "      <td>[CTPD]-THEFT - $50 TO $200 - BICYCLES</td>\n",
       "      <td>THEFT - $50 TO $200 - BICYCLES</td>\n",
       "      <td>18</td>\n",
       "      <td>Wednesday</td>\n",
       "      <td>Theft</td>\n",
       "    </tr>\n",
       "    <tr>\n",
       "      <th>6</th>\n",
       "      <td>100068335</td>\n",
       "      <td>12-02734</td>\n",
       "      <td>02/13/2012 08:47:00 AM</td>\n",
       "      <td>[CTPD]-VANDALISM/CRIM MISCHIEF - VEHICLES</td>\n",
       "      <td>VANDALISM/CRIM MISCHIEF - VEHICLES</td>\n",
       "      <td>8</td>\n",
       "      <td>Monday</td>\n",
       "      <td>Property Crime</td>\n",
       "    </tr>\n",
       "    <tr>\n",
       "      <th>7</th>\n",
       "      <td>100068336</td>\n",
       "      <td>12-02614</td>\n",
       "      <td>02/10/2012 10:35:00 PM</td>\n",
       "      <td>[CTPD]-DISORDERLY CONDUCT</td>\n",
       "      <td>DISORDERLY CONDUCT</td>\n",
       "      <td>22</td>\n",
       "      <td>Friday</td>\n",
       "      <td>Disorder</td>\n",
       "    </tr>\n",
       "    <tr>\n",
       "      <th>8</th>\n",
       "      <td>100068337</td>\n",
       "      <td>12-02656</td>\n",
       "      <td>02/11/2012 10:36:00 PM</td>\n",
       "      <td>[CTPD]-VANDALISM/CRIM MISCHIEF - VEHICLES</td>\n",
       "      <td>VANDALISM/CRIM MISCHIEF - VEHICLES</td>\n",
       "      <td>22</td>\n",
       "      <td>Saturday</td>\n",
       "      <td>Property Crime</td>\n",
       "    </tr>\n",
       "    <tr>\n",
       "      <th>9</th>\n",
       "      <td>100068338</td>\n",
       "      <td>12-02460</td>\n",
       "      <td>02/08/2012 01:40:00 PM</td>\n",
       "      <td>[CTPD]-DISORDERLY CONDUCT</td>\n",
       "      <td>DISORDERLY CONDUCT</td>\n",
       "      <td>13</td>\n",
       "      <td>Wednesday</td>\n",
       "      <td>Disorder</td>\n",
       "    </tr>\n",
       "  </tbody>\n",
       "</table>\n",
       "</div>"
      ],
      "text/plain": [
       "   incident_id case_number       incident_datetime  \\\n",
       "0    100068327    12-02555  02/10/2012 10:46:00 AM   \n",
       "1    100068328    12-02654  02/11/2012 10:14:00 PM   \n",
       "2    100068329    12-02598  02/10/2012 05:51:00 PM   \n",
       "3    100068331    12-02535  02/09/2012 10:18:00 PM   \n",
       "4    100068332    12-02556  02/10/2012 11:19:00 AM   \n",
       "5    100068334    12-02478  02/08/2012 06:16:00 PM   \n",
       "6    100068335    12-02734  02/13/2012 08:47:00 AM   \n",
       "7    100068336    12-02614  02/10/2012 10:35:00 PM   \n",
       "8    100068337    12-02656  02/11/2012 10:36:00 PM   \n",
       "9    100068338    12-02460  02/08/2012 01:40:00 PM   \n",
       "\n",
       "                       incident_type_primary  \\\n",
       "0   [CTPD]-THEFT - $50 TO $200 - AUTO ACCESS   \n",
       "1           [CTPD]-ACCIDENT - NON REPORTABLE   \n",
       "2      [CTPD]-THEFT - $200 AND OVER - RETAIL   \n",
       "3  [CTPD]-BURGLARY - FORCE - RESIDENCE - UNK   \n",
       "4              [CTPD]-FRAUD - IDENTITY THEFT   \n",
       "5      [CTPD]-THEFT - $50 TO $200 - BICYCLES   \n",
       "6  [CTPD]-VANDALISM/CRIM MISCHIEF - VEHICLES   \n",
       "7                  [CTPD]-DISORDERLY CONDUCT   \n",
       "8  [CTPD]-VANDALISM/CRIM MISCHIEF - VEHICLES   \n",
       "9                  [CTPD]-DISORDERLY CONDUCT   \n",
       "\n",
       "                 incident_description  hour_of_day day_of_week  \\\n",
       "0   THEFT - $50 TO $200 - AUTO ACCESS           10      Friday   \n",
       "1           ACCIDENT - NON REPORTABLE           22    Saturday   \n",
       "2      THEFT - $200 AND OVER - RETAIL           17      Friday   \n",
       "3  BURGLARY - FORCE - RESIDENCE - UNK           22    Thursday   \n",
       "4              FRAUD - IDENTITY THEFT           11      Friday   \n",
       "5      THEFT - $50 TO $200 - BICYCLES           18   Wednesday   \n",
       "6  VANDALISM/CRIM MISCHIEF - VEHICLES            8      Monday   \n",
       "7                  DISORDERLY CONDUCT           22      Friday   \n",
       "8  VANDALISM/CRIM MISCHIEF - VEHICLES           22    Saturday   \n",
       "9                  DISORDERLY CONDUCT           13   Wednesday   \n",
       "\n",
       "  parent_incident_type  \n",
       "0   Theft from Vehicle  \n",
       "1              Traffic  \n",
       "2                Theft  \n",
       "3  Breaking & Entering  \n",
       "4                Theft  \n",
       "5                Theft  \n",
       "6       Property Crime  \n",
       "7             Disorder  \n",
       "8       Property Crime  \n",
       "9             Disorder  "
      ]
     },
     "execution_count": 75,
     "metadata": {},
     "output_type": "execute_result"
    }
   ],
   "source": [
    "new_df.head(10)"
   ]
  },
  {
   "cell_type": "code",
   "execution_count": 76,
   "id": "fd241652",
   "metadata": {},
   "outputs": [
    {
     "data": {
      "text/plain": [
       "incident_id               int64\n",
       "case_number              object\n",
       "incident_datetime        object\n",
       "incident_type_primary    object\n",
       "incident_description     object\n",
       "hour_of_day               int64\n",
       "day_of_week              object\n",
       "parent_incident_type     object\n",
       "dtype: object"
      ]
     },
     "execution_count": 76,
     "metadata": {},
     "output_type": "execute_result"
    }
   ],
   "source": [
    "new_df.dtypes"
   ]
  },
  {
   "cell_type": "markdown",
   "id": "1ab0854e",
   "metadata": {},
   "source": [
    "# Convert sting values to float"
   ]
  },
  {
   "cell_type": "code",
   "execution_count": 77,
   "id": "df8624fb",
   "metadata": {
    "scrolled": true
   },
   "outputs": [],
   "source": [
    "df['case_number']= pd.to_numeric(df['case_number'], errors='coerce')\n",
    "df['incident_datetime']= pd.to_numeric(df['incident_datetime'], errors='coerce')\n",
    "df['incident_type_primary']= pd.to_numeric(df['incident_type_primary'], errors='coerce')\n",
    "df['incident_description']= pd.to_numeric(df['incident_description'], errors='coerce')\n",
    "df['created_at']= pd.to_numeric(df['created_at'], errors='coerce')\n",
    "df['updated_at']= pd.to_numeric(df['updated_at'], errors='coerce')\n",
    "df['address_1']= pd.to_numeric(df['address_1'], errors='coerce')\n",
    "df['city']= pd.to_numeric(df['city'], errors='coerce')\n",
    "df['state']= pd.to_numeric(df['state'], errors='coerce')\n",
    "df['longitude']= pd.to_numeric(df['longitude'], errors='coerce')\n",
    "df['location']= pd.to_numeric(df['location'], errors='coerce')\n",
    "df['day_of_week']= pd.to_numeric(df['day_of_week'], errors='coerce')"
   ]
  },
  {
   "cell_type": "code",
   "execution_count": 78,
   "id": "f726b6cd",
   "metadata": {},
   "outputs": [
    {
     "data": {
      "text/plain": [
       "incident_id               int64\n",
       "case_number              object\n",
       "incident_datetime        object\n",
       "incident_type_primary    object\n",
       "incident_description     object\n",
       "hour_of_day               int64\n",
       "day_of_week              object\n",
       "parent_incident_type     object\n",
       "dtype: object"
      ]
     },
     "execution_count": 78,
     "metadata": {},
     "output_type": "execute_result"
    }
   ],
   "source": [
    "new_df.dtypes"
   ]
  },
  {
   "cell_type": "code",
   "execution_count": 79,
   "id": "0404b3f1",
   "metadata": {},
   "outputs": [
    {
     "data": {
      "text/html": [
       "<div>\n",
       "<style scoped>\n",
       "    .dataframe tbody tr th:only-of-type {\n",
       "        vertical-align: middle;\n",
       "    }\n",
       "\n",
       "    .dataframe tbody tr th {\n",
       "        vertical-align: top;\n",
       "    }\n",
       "\n",
       "    .dataframe thead th {\n",
       "        text-align: right;\n",
       "    }\n",
       "</style>\n",
       "<table border=\"1\" class=\"dataframe\">\n",
       "  <thead>\n",
       "    <tr style=\"text-align: right;\">\n",
       "      <th></th>\n",
       "      <th>incident_id</th>\n",
       "      <th>case_number</th>\n",
       "      <th>incident_datetime</th>\n",
       "      <th>incident_type_primary</th>\n",
       "      <th>incident_description</th>\n",
       "      <th>hour_of_day</th>\n",
       "      <th>day_of_week</th>\n",
       "      <th>parent_incident_type</th>\n",
       "    </tr>\n",
       "  </thead>\n",
       "  <tbody>\n",
       "    <tr>\n",
       "      <th>0</th>\n",
       "      <td>100068327</td>\n",
       "      <td>12-02555</td>\n",
       "      <td>02/10/2012 10:46:00 AM</td>\n",
       "      <td>[CTPD]-THEFT - $50 TO $200 - AUTO ACCESS</td>\n",
       "      <td>THEFT - $50 TO $200 - AUTO ACCESS</td>\n",
       "      <td>10</td>\n",
       "      <td>Friday</td>\n",
       "      <td>Theft from Vehicle</td>\n",
       "    </tr>\n",
       "    <tr>\n",
       "      <th>1</th>\n",
       "      <td>100068328</td>\n",
       "      <td>12-02654</td>\n",
       "      <td>02/11/2012 10:14:00 PM</td>\n",
       "      <td>[CTPD]-ACCIDENT - NON REPORTABLE</td>\n",
       "      <td>ACCIDENT - NON REPORTABLE</td>\n",
       "      <td>22</td>\n",
       "      <td>Saturday</td>\n",
       "      <td>Traffic</td>\n",
       "    </tr>\n",
       "    <tr>\n",
       "      <th>2</th>\n",
       "      <td>100068329</td>\n",
       "      <td>12-02598</td>\n",
       "      <td>02/10/2012 05:51:00 PM</td>\n",
       "      <td>[CTPD]-THEFT - $200 AND OVER - RETAIL</td>\n",
       "      <td>THEFT - $200 AND OVER - RETAIL</td>\n",
       "      <td>17</td>\n",
       "      <td>Friday</td>\n",
       "      <td>Theft</td>\n",
       "    </tr>\n",
       "    <tr>\n",
       "      <th>3</th>\n",
       "      <td>100068331</td>\n",
       "      <td>12-02535</td>\n",
       "      <td>02/09/2012 10:18:00 PM</td>\n",
       "      <td>[CTPD]-BURGLARY - FORCE - RESIDENCE - UNK</td>\n",
       "      <td>BURGLARY - FORCE - RESIDENCE - UNK</td>\n",
       "      <td>22</td>\n",
       "      <td>Thursday</td>\n",
       "      <td>Breaking &amp; Entering</td>\n",
       "    </tr>\n",
       "    <tr>\n",
       "      <th>4</th>\n",
       "      <td>100068332</td>\n",
       "      <td>12-02556</td>\n",
       "      <td>02/10/2012 11:19:00 AM</td>\n",
       "      <td>[CTPD]-FRAUD - IDENTITY THEFT</td>\n",
       "      <td>FRAUD - IDENTITY THEFT</td>\n",
       "      <td>11</td>\n",
       "      <td>Friday</td>\n",
       "      <td>Theft</td>\n",
       "    </tr>\n",
       "    <tr>\n",
       "      <th>5</th>\n",
       "      <td>100068334</td>\n",
       "      <td>12-02478</td>\n",
       "      <td>02/08/2012 06:16:00 PM</td>\n",
       "      <td>[CTPD]-THEFT - $50 TO $200 - BICYCLES</td>\n",
       "      <td>THEFT - $50 TO $200 - BICYCLES</td>\n",
       "      <td>18</td>\n",
       "      <td>Wednesday</td>\n",
       "      <td>Theft</td>\n",
       "    </tr>\n",
       "    <tr>\n",
       "      <th>6</th>\n",
       "      <td>100068335</td>\n",
       "      <td>12-02734</td>\n",
       "      <td>02/13/2012 08:47:00 AM</td>\n",
       "      <td>[CTPD]-VANDALISM/CRIM MISCHIEF - VEHICLES</td>\n",
       "      <td>VANDALISM/CRIM MISCHIEF - VEHICLES</td>\n",
       "      <td>8</td>\n",
       "      <td>Monday</td>\n",
       "      <td>Property Crime</td>\n",
       "    </tr>\n",
       "    <tr>\n",
       "      <th>7</th>\n",
       "      <td>100068336</td>\n",
       "      <td>12-02614</td>\n",
       "      <td>02/10/2012 10:35:00 PM</td>\n",
       "      <td>[CTPD]-DISORDERLY CONDUCT</td>\n",
       "      <td>DISORDERLY CONDUCT</td>\n",
       "      <td>22</td>\n",
       "      <td>Friday</td>\n",
       "      <td>Disorder</td>\n",
       "    </tr>\n",
       "    <tr>\n",
       "      <th>8</th>\n",
       "      <td>100068337</td>\n",
       "      <td>12-02656</td>\n",
       "      <td>02/11/2012 10:36:00 PM</td>\n",
       "      <td>[CTPD]-VANDALISM/CRIM MISCHIEF - VEHICLES</td>\n",
       "      <td>VANDALISM/CRIM MISCHIEF - VEHICLES</td>\n",
       "      <td>22</td>\n",
       "      <td>Saturday</td>\n",
       "      <td>Property Crime</td>\n",
       "    </tr>\n",
       "    <tr>\n",
       "      <th>9</th>\n",
       "      <td>100068338</td>\n",
       "      <td>12-02460</td>\n",
       "      <td>02/08/2012 01:40:00 PM</td>\n",
       "      <td>[CTPD]-DISORDERLY CONDUCT</td>\n",
       "      <td>DISORDERLY CONDUCT</td>\n",
       "      <td>13</td>\n",
       "      <td>Wednesday</td>\n",
       "      <td>Disorder</td>\n",
       "    </tr>\n",
       "  </tbody>\n",
       "</table>\n",
       "</div>"
      ],
      "text/plain": [
       "   incident_id case_number       incident_datetime  \\\n",
       "0    100068327    12-02555  02/10/2012 10:46:00 AM   \n",
       "1    100068328    12-02654  02/11/2012 10:14:00 PM   \n",
       "2    100068329    12-02598  02/10/2012 05:51:00 PM   \n",
       "3    100068331    12-02535  02/09/2012 10:18:00 PM   \n",
       "4    100068332    12-02556  02/10/2012 11:19:00 AM   \n",
       "5    100068334    12-02478  02/08/2012 06:16:00 PM   \n",
       "6    100068335    12-02734  02/13/2012 08:47:00 AM   \n",
       "7    100068336    12-02614  02/10/2012 10:35:00 PM   \n",
       "8    100068337    12-02656  02/11/2012 10:36:00 PM   \n",
       "9    100068338    12-02460  02/08/2012 01:40:00 PM   \n",
       "\n",
       "                       incident_type_primary  \\\n",
       "0   [CTPD]-THEFT - $50 TO $200 - AUTO ACCESS   \n",
       "1           [CTPD]-ACCIDENT - NON REPORTABLE   \n",
       "2      [CTPD]-THEFT - $200 AND OVER - RETAIL   \n",
       "3  [CTPD]-BURGLARY - FORCE - RESIDENCE - UNK   \n",
       "4              [CTPD]-FRAUD - IDENTITY THEFT   \n",
       "5      [CTPD]-THEFT - $50 TO $200 - BICYCLES   \n",
       "6  [CTPD]-VANDALISM/CRIM MISCHIEF - VEHICLES   \n",
       "7                  [CTPD]-DISORDERLY CONDUCT   \n",
       "8  [CTPD]-VANDALISM/CRIM MISCHIEF - VEHICLES   \n",
       "9                  [CTPD]-DISORDERLY CONDUCT   \n",
       "\n",
       "                 incident_description  hour_of_day day_of_week  \\\n",
       "0   THEFT - $50 TO $200 - AUTO ACCESS           10      Friday   \n",
       "1           ACCIDENT - NON REPORTABLE           22    Saturday   \n",
       "2      THEFT - $200 AND OVER - RETAIL           17      Friday   \n",
       "3  BURGLARY - FORCE - RESIDENCE - UNK           22    Thursday   \n",
       "4              FRAUD - IDENTITY THEFT           11      Friday   \n",
       "5      THEFT - $50 TO $200 - BICYCLES           18   Wednesday   \n",
       "6  VANDALISM/CRIM MISCHIEF - VEHICLES            8      Monday   \n",
       "7                  DISORDERLY CONDUCT           22      Friday   \n",
       "8  VANDALISM/CRIM MISCHIEF - VEHICLES           22    Saturday   \n",
       "9                  DISORDERLY CONDUCT           13   Wednesday   \n",
       "\n",
       "  parent_incident_type  \n",
       "0   Theft from Vehicle  \n",
       "1              Traffic  \n",
       "2                Theft  \n",
       "3  Breaking & Entering  \n",
       "4                Theft  \n",
       "5                Theft  \n",
       "6       Property Crime  \n",
       "7             Disorder  \n",
       "8       Property Crime  \n",
       "9             Disorder  "
      ]
     },
     "execution_count": 79,
     "metadata": {},
     "output_type": "execute_result"
    }
   ],
   "source": [
    "new_df.head(10)"
   ]
  },
  {
   "cell_type": "code",
   "execution_count": null,
   "id": "b96b41d7",
   "metadata": {},
   "outputs": [],
   "source": []
  },
  {
   "cell_type": "code",
   "execution_count": null,
   "id": "8b8a02b5",
   "metadata": {},
   "outputs": [],
   "source": []
  },
  {
   "cell_type": "markdown",
   "id": "fa81c230",
   "metadata": {},
   "source": [
    "# Label Encoder"
   ]
  },
  {
   "cell_type": "code",
   "execution_count": 80,
   "id": "d30ae3ac",
   "metadata": {},
   "outputs": [
    {
     "data": {
      "text/plain": [
       "array(['Theft from Vehicle', 'Traffic', 'Theft', 'Breaking & Entering',\n",
       "       'Property Crime', 'Disorder', 'Liquor', 'Community Policing',\n",
       "       'Assault', 'Weapons Offense', 'Missing Person', 'Drugs',\n",
       "       'Theft of Vehicle', 'Robbery', 'Assault with Deadly Weapon',\n",
       "       'Sexual Assault', 'Other', 'Kidnapping', 'Arson',\n",
       "       'Other Sexual Offense', 'Family Offense', 'Homicide'], dtype=object)"
      ]
     },
     "execution_count": 80,
     "metadata": {},
     "output_type": "execute_result"
    }
   ],
   "source": [
    "\n",
    "new_df['parent_incident_type'].unique()"
   ]
  },
  {
   "cell_type": "code",
   "execution_count": 81,
   "id": "898fca77",
   "metadata": {},
   "outputs": [
    {
     "name": "stderr",
     "output_type": "stream",
     "text": [
      "C:\\Users\\malak\\AppData\\Local\\Temp/ipykernel_7364/3963704421.py:2: SettingWithCopyWarning: \n",
      "A value is trying to be set on a copy of a slice from a DataFrame.\n",
      "Try using .loc[row_indexer,col_indexer] = value instead\n",
      "\n",
      "See the caveats in the documentation: https://pandas.pydata.org/pandas-docs/stable/user_guide/indexing.html#returning-a-view-versus-a-copy\n",
      "  new_df['day_of_week']=lbl_encode.fit_transform(new_df['day_of_week'])\n",
      "C:\\Users\\malak\\AppData\\Local\\Temp/ipykernel_7364/3963704421.py:3: SettingWithCopyWarning: \n",
      "A value is trying to be set on a copy of a slice from a DataFrame.\n",
      "Try using .loc[row_indexer,col_indexer] = value instead\n",
      "\n",
      "See the caveats in the documentation: https://pandas.pydata.org/pandas-docs/stable/user_guide/indexing.html#returning-a-view-versus-a-copy\n",
      "  new_df['parent_incident_type']=lbl_encode.fit_transform(new_df['parent_incident_type'])\n",
      "C:\\Users\\malak\\AppData\\Local\\Temp/ipykernel_7364/3963704421.py:4: SettingWithCopyWarning: \n",
      "A value is trying to be set on a copy of a slice from a DataFrame.\n",
      "Try using .loc[row_indexer,col_indexer] = value instead\n",
      "\n",
      "See the caveats in the documentation: https://pandas.pydata.org/pandas-docs/stable/user_guide/indexing.html#returning-a-view-versus-a-copy\n",
      "  new_df['incident_description']=lbl_encode.fit_transform(new_df['incident_description'])\n",
      "C:\\Users\\malak\\AppData\\Local\\Temp/ipykernel_7364/3963704421.py:5: SettingWithCopyWarning: \n",
      "A value is trying to be set on a copy of a slice from a DataFrame.\n",
      "Try using .loc[row_indexer,col_indexer] = value instead\n",
      "\n",
      "See the caveats in the documentation: https://pandas.pydata.org/pandas-docs/stable/user_guide/indexing.html#returning-a-view-versus-a-copy\n",
      "  new_df['incident_type_primary']=lbl_encode.fit_transform(new_df['incident_type_primary'])\n",
      "C:\\Users\\malak\\AppData\\Local\\Temp/ipykernel_7364/3963704421.py:6: SettingWithCopyWarning: \n",
      "A value is trying to be set on a copy of a slice from a DataFrame.\n",
      "Try using .loc[row_indexer,col_indexer] = value instead\n",
      "\n",
      "See the caveats in the documentation: https://pandas.pydata.org/pandas-docs/stable/user_guide/indexing.html#returning-a-view-versus-a-copy\n",
      "  new_df['incident_datetime']=lbl_encode.fit_transform(new_df['incident_datetime'])\n",
      "C:\\Users\\malak\\AppData\\Local\\Temp/ipykernel_7364/3963704421.py:7: SettingWithCopyWarning: \n",
      "A value is trying to be set on a copy of a slice from a DataFrame.\n",
      "Try using .loc[row_indexer,col_indexer] = value instead\n",
      "\n",
      "See the caveats in the documentation: https://pandas.pydata.org/pandas-docs/stable/user_guide/indexing.html#returning-a-view-versus-a-copy\n",
      "  new_df['case_number']=lbl_encode.fit_transform(new_df['case_number'])\n"
     ]
    }
   ],
   "source": [
    "lbl_encode=LabelEncoder()\n",
    "new_df['day_of_week']=lbl_encode.fit_transform(new_df['day_of_week'])\n",
    "new_df['parent_incident_type']=lbl_encode.fit_transform(new_df['parent_incident_type'])\n",
    "new_df['incident_description']=lbl_encode.fit_transform(new_df['incident_description'])\n",
    "new_df['incident_type_primary']=lbl_encode.fit_transform(new_df['incident_type_primary'])\n",
    "new_df['incident_datetime']=lbl_encode.fit_transform(new_df['incident_datetime'])\n",
    "new_df['case_number']=lbl_encode.fit_transform(new_df['case_number'])\n"
   ]
  },
  {
   "cell_type": "code",
   "execution_count": 82,
   "id": "1fdc5d35",
   "metadata": {},
   "outputs": [
    {
     "data": {
      "text/html": [
       "<div>\n",
       "<style scoped>\n",
       "    .dataframe tbody tr th:only-of-type {\n",
       "        vertical-align: middle;\n",
       "    }\n",
       "\n",
       "    .dataframe tbody tr th {\n",
       "        vertical-align: top;\n",
       "    }\n",
       "\n",
       "    .dataframe thead th {\n",
       "        text-align: right;\n",
       "    }\n",
       "</style>\n",
       "<table border=\"1\" class=\"dataframe\">\n",
       "  <thead>\n",
       "    <tr style=\"text-align: right;\">\n",
       "      <th></th>\n",
       "      <th>incident_id</th>\n",
       "      <th>case_number</th>\n",
       "      <th>incident_datetime</th>\n",
       "      <th>incident_type_primary</th>\n",
       "      <th>incident_description</th>\n",
       "      <th>hour_of_day</th>\n",
       "      <th>day_of_week</th>\n",
       "      <th>parent_incident_type</th>\n",
       "    </tr>\n",
       "  </thead>\n",
       "  <tbody>\n",
       "    <tr>\n",
       "      <th>0</th>\n",
       "      <td>100068327</td>\n",
       "      <td>4564</td>\n",
       "      <td>3158</td>\n",
       "      <td>112</td>\n",
       "      <td>112</td>\n",
       "      <td>10</td>\n",
       "      <td>0</td>\n",
       "      <td>18</td>\n",
       "    </tr>\n",
       "    <tr>\n",
       "      <th>1</th>\n",
       "      <td>100068328</td>\n",
       "      <td>4586</td>\n",
       "      <td>3245</td>\n",
       "      <td>1</td>\n",
       "      <td>1</td>\n",
       "      <td>22</td>\n",
       "      <td>2</td>\n",
       "      <td>20</td>\n",
       "    </tr>\n",
       "    <tr>\n",
       "      <th>2</th>\n",
       "      <td>100068329</td>\n",
       "      <td>4574</td>\n",
       "      <td>3153</td>\n",
       "      <td>109</td>\n",
       "      <td>109</td>\n",
       "      <td>17</td>\n",
       "      <td>0</td>\n",
       "      <td>17</td>\n",
       "    </tr>\n",
       "    <tr>\n",
       "      <th>3</th>\n",
       "      <td>100068331</td>\n",
       "      <td>4562</td>\n",
       "      <td>3099</td>\n",
       "      <td>31</td>\n",
       "      <td>31</td>\n",
       "      <td>22</td>\n",
       "      <td>4</td>\n",
       "      <td>3</td>\n",
       "    </tr>\n",
       "    <tr>\n",
       "      <th>4</th>\n",
       "      <td>100068332</td>\n",
       "      <td>4565</td>\n",
       "      <td>3159</td>\n",
       "      <td>64</td>\n",
       "      <td>64</td>\n",
       "      <td>11</td>\n",
       "      <td>0</td>\n",
       "      <td>17</td>\n",
       "    </tr>\n",
       "    <tr>\n",
       "      <th>...</th>\n",
       "      <td>...</td>\n",
       "      <td>...</td>\n",
       "      <td>...</td>\n",
       "      <td>...</td>\n",
       "      <td>...</td>\n",
       "      <td>...</td>\n",
       "      <td>...</td>\n",
       "      <td>...</td>\n",
       "    </tr>\n",
       "    <tr>\n",
       "      <th>26859</th>\n",
       "      <td>831119768</td>\n",
       "      <td>26152</td>\n",
       "      <td>25274</td>\n",
       "      <td>1</td>\n",
       "      <td>1</td>\n",
       "      <td>19</td>\n",
       "      <td>6</td>\n",
       "      <td>20</td>\n",
       "    </tr>\n",
       "    <tr>\n",
       "      <th>26860</th>\n",
       "      <td>831119690</td>\n",
       "      <td>26153</td>\n",
       "      <td>25275</td>\n",
       "      <td>131</td>\n",
       "      <td>131</td>\n",
       "      <td>19</td>\n",
       "      <td>6</td>\n",
       "      <td>19</td>\n",
       "    </tr>\n",
       "    <tr>\n",
       "      <th>26861</th>\n",
       "      <td>831119767</td>\n",
       "      <td>26154</td>\n",
       "      <td>25276</td>\n",
       "      <td>109</td>\n",
       "      <td>109</td>\n",
       "      <td>20</td>\n",
       "      <td>6</td>\n",
       "      <td>17</td>\n",
       "    </tr>\n",
       "    <tr>\n",
       "      <th>26862</th>\n",
       "      <td>831119961</td>\n",
       "      <td>26391</td>\n",
       "      <td>675</td>\n",
       "      <td>1</td>\n",
       "      <td>1</td>\n",
       "      <td>22</td>\n",
       "      <td>5</td>\n",
       "      <td>20</td>\n",
       "    </tr>\n",
       "    <tr>\n",
       "      <th>26863</th>\n",
       "      <td>831119719</td>\n",
       "      <td>26401</td>\n",
       "      <td>751</td>\n",
       "      <td>129</td>\n",
       "      <td>129</td>\n",
       "      <td>19</td>\n",
       "      <td>6</td>\n",
       "      <td>14</td>\n",
       "    </tr>\n",
       "  </tbody>\n",
       "</table>\n",
       "<p>26864 rows × 8 columns</p>\n",
       "</div>"
      ],
      "text/plain": [
       "       incident_id  case_number  incident_datetime  incident_type_primary  \\\n",
       "0        100068327         4564               3158                    112   \n",
       "1        100068328         4586               3245                      1   \n",
       "2        100068329         4574               3153                    109   \n",
       "3        100068331         4562               3099                     31   \n",
       "4        100068332         4565               3159                     64   \n",
       "...            ...          ...                ...                    ...   \n",
       "26859    831119768        26152              25274                      1   \n",
       "26860    831119690        26153              25275                    131   \n",
       "26861    831119767        26154              25276                    109   \n",
       "26862    831119961        26391                675                      1   \n",
       "26863    831119719        26401                751                    129   \n",
       "\n",
       "       incident_description  hour_of_day  day_of_week  parent_incident_type  \n",
       "0                       112           10            0                    18  \n",
       "1                         1           22            2                    20  \n",
       "2                       109           17            0                    17  \n",
       "3                        31           22            4                     3  \n",
       "4                        64           11            0                    17  \n",
       "...                     ...          ...          ...                   ...  \n",
       "26859                     1           19            6                    20  \n",
       "26860                   131           19            6                    19  \n",
       "26861                   109           20            6                    17  \n",
       "26862                     1           22            5                    20  \n",
       "26863                   129           19            6                    14  \n",
       "\n",
       "[26864 rows x 8 columns]"
      ]
     },
     "execution_count": 82,
     "metadata": {},
     "output_type": "execute_result"
    }
   ],
   "source": [
    "new_df"
   ]
  },
  {
   "cell_type": "code",
   "execution_count": 83,
   "id": "2e495b86",
   "metadata": {},
   "outputs": [
    {
     "data": {
      "text/plain": [
       "array([0, 2, 0, ..., 6, 5, 6], dtype=int64)"
      ]
     },
     "execution_count": 83,
     "metadata": {},
     "output_type": "execute_result"
    }
   ],
   "source": [
    "lbl_encode=LabelEncoder()\n",
    "lbl_encode.fit_transform(new_df['day_of_week'])"
   ]
  },
  {
   "cell_type": "code",
   "execution_count": 84,
   "id": "0d401a20",
   "metadata": {},
   "outputs": [
    {
     "data": {
      "text/plain": [
       "array([18, 20, 17, ..., 17, 20, 14], dtype=int64)"
      ]
     },
     "execution_count": 84,
     "metadata": {},
     "output_type": "execute_result"
    }
   ],
   "source": [
    "lbl_encode=LabelEncoder()\n",
    "lbl_encode.fit_transform(new_df['parent_incident_type'])"
   ]
  },
  {
   "cell_type": "code",
   "execution_count": 85,
   "id": "fb21fca0",
   "metadata": {},
   "outputs": [
    {
     "data": {
      "text/plain": [
       "array([112,   1, 109, ..., 109,   1, 129], dtype=int64)"
      ]
     },
     "execution_count": 85,
     "metadata": {},
     "output_type": "execute_result"
    }
   ],
   "source": [
    "lbl_encode=LabelEncoder()\n",
    "lbl_encode.fit_transform(new_df['incident_description'])"
   ]
  },
  {
   "cell_type": "code",
   "execution_count": 86,
   "id": "d36bfbda",
   "metadata": {},
   "outputs": [
    {
     "data": {
      "text/html": [
       "<div>\n",
       "<style scoped>\n",
       "    .dataframe tbody tr th:only-of-type {\n",
       "        vertical-align: middle;\n",
       "    }\n",
       "\n",
       "    .dataframe tbody tr th {\n",
       "        vertical-align: top;\n",
       "    }\n",
       "\n",
       "    .dataframe thead th {\n",
       "        text-align: right;\n",
       "    }\n",
       "</style>\n",
       "<table border=\"1\" class=\"dataframe\">\n",
       "  <thead>\n",
       "    <tr style=\"text-align: right;\">\n",
       "      <th></th>\n",
       "      <th>incident_id</th>\n",
       "      <th>case_number</th>\n",
       "      <th>incident_datetime</th>\n",
       "      <th>incident_type_primary</th>\n",
       "      <th>incident_description</th>\n",
       "      <th>hour_of_day</th>\n",
       "      <th>day_of_week</th>\n",
       "      <th>parent_incident_type</th>\n",
       "    </tr>\n",
       "  </thead>\n",
       "  <tbody>\n",
       "    <tr>\n",
       "      <th>0</th>\n",
       "      <td>100068327</td>\n",
       "      <td>4564</td>\n",
       "      <td>3158</td>\n",
       "      <td>112</td>\n",
       "      <td>112</td>\n",
       "      <td>10</td>\n",
       "      <td>0</td>\n",
       "      <td>18</td>\n",
       "    </tr>\n",
       "    <tr>\n",
       "      <th>1</th>\n",
       "      <td>100068328</td>\n",
       "      <td>4586</td>\n",
       "      <td>3245</td>\n",
       "      <td>1</td>\n",
       "      <td>1</td>\n",
       "      <td>22</td>\n",
       "      <td>2</td>\n",
       "      <td>20</td>\n",
       "    </tr>\n",
       "    <tr>\n",
       "      <th>2</th>\n",
       "      <td>100068329</td>\n",
       "      <td>4574</td>\n",
       "      <td>3153</td>\n",
       "      <td>109</td>\n",
       "      <td>109</td>\n",
       "      <td>17</td>\n",
       "      <td>0</td>\n",
       "      <td>17</td>\n",
       "    </tr>\n",
       "    <tr>\n",
       "      <th>3</th>\n",
       "      <td>100068331</td>\n",
       "      <td>4562</td>\n",
       "      <td>3099</td>\n",
       "      <td>31</td>\n",
       "      <td>31</td>\n",
       "      <td>22</td>\n",
       "      <td>4</td>\n",
       "      <td>3</td>\n",
       "    </tr>\n",
       "    <tr>\n",
       "      <th>4</th>\n",
       "      <td>100068332</td>\n",
       "      <td>4565</td>\n",
       "      <td>3159</td>\n",
       "      <td>64</td>\n",
       "      <td>64</td>\n",
       "      <td>11</td>\n",
       "      <td>0</td>\n",
       "      <td>17</td>\n",
       "    </tr>\n",
       "    <tr>\n",
       "      <th>5</th>\n",
       "      <td>100068334</td>\n",
       "      <td>4554</td>\n",
       "      <td>3021</td>\n",
       "      <td>113</td>\n",
       "      <td>113</td>\n",
       "      <td>18</td>\n",
       "      <td>6</td>\n",
       "      <td>17</td>\n",
       "    </tr>\n",
       "    <tr>\n",
       "      <th>6</th>\n",
       "      <td>100068335</td>\n",
       "      <td>4602</td>\n",
       "      <td>3396</td>\n",
       "      <td>129</td>\n",
       "      <td>129</td>\n",
       "      <td>8</td>\n",
       "      <td>1</td>\n",
       "      <td>14</td>\n",
       "    </tr>\n",
       "    <tr>\n",
       "      <th>7</th>\n",
       "      <td>100068336</td>\n",
       "      <td>4576</td>\n",
       "      <td>3157</td>\n",
       "      <td>43</td>\n",
       "      <td>43</td>\n",
       "      <td>22</td>\n",
       "      <td>0</td>\n",
       "      <td>5</td>\n",
       "    </tr>\n",
       "    <tr>\n",
       "      <th>8</th>\n",
       "      <td>100068337</td>\n",
       "      <td>4588</td>\n",
       "      <td>3246</td>\n",
       "      <td>129</td>\n",
       "      <td>129</td>\n",
       "      <td>22</td>\n",
       "      <td>2</td>\n",
       "      <td>14</td>\n",
       "    </tr>\n",
       "    <tr>\n",
       "      <th>9</th>\n",
       "      <td>100068338</td>\n",
       "      <td>4551</td>\n",
       "      <td>3018</td>\n",
       "      <td>43</td>\n",
       "      <td>43</td>\n",
       "      <td>13</td>\n",
       "      <td>6</td>\n",
       "      <td>5</td>\n",
       "    </tr>\n",
       "  </tbody>\n",
       "</table>\n",
       "</div>"
      ],
      "text/plain": [
       "   incident_id  case_number  incident_datetime  incident_type_primary  \\\n",
       "0    100068327         4564               3158                    112   \n",
       "1    100068328         4586               3245                      1   \n",
       "2    100068329         4574               3153                    109   \n",
       "3    100068331         4562               3099                     31   \n",
       "4    100068332         4565               3159                     64   \n",
       "5    100068334         4554               3021                    113   \n",
       "6    100068335         4602               3396                    129   \n",
       "7    100068336         4576               3157                     43   \n",
       "8    100068337         4588               3246                    129   \n",
       "9    100068338         4551               3018                     43   \n",
       "\n",
       "   incident_description  hour_of_day  day_of_week  parent_incident_type  \n",
       "0                   112           10            0                    18  \n",
       "1                     1           22            2                    20  \n",
       "2                   109           17            0                    17  \n",
       "3                    31           22            4                     3  \n",
       "4                    64           11            0                    17  \n",
       "5                   113           18            6                    17  \n",
       "6                   129            8            1                    14  \n",
       "7                    43           22            0                     5  \n",
       "8                   129           22            2                    14  \n",
       "9                    43           13            6                     5  "
      ]
     },
     "execution_count": 86,
     "metadata": {},
     "output_type": "execute_result"
    }
   ],
   "source": [
    "new_df.head(10)"
   ]
  },
  {
   "cell_type": "markdown",
   "id": "ac4aef9b",
   "metadata": {},
   "source": [
    "# Train and Split"
   ]
  },
  {
   "cell_type": "code",
   "execution_count": 87,
   "id": "f52ad0f2",
   "metadata": {},
   "outputs": [],
   "source": [
    "x=new_df.drop(\"parent_incident_type\",axis=1)\n",
    "y=new_df[\"parent_incident_type\"]"
   ]
  },
  {
   "cell_type": "code",
   "execution_count": 88,
   "id": "48de75de",
   "metadata": {},
   "outputs": [
    {
     "name": "stdout",
     "output_type": "stream",
     "text": [
      "21491\n",
      "5373\n"
     ]
    }
   ],
   "source": [
    "x_train, x_test, y_train, y_test = train_test_split(x, y, test_size=0.2, random_state=0)\n",
    "\n",
    "print(len(y_train))\n",
    "print(len(y_test))\n"
   ]
  },
  {
   "cell_type": "markdown",
   "id": "bf2581ed",
   "metadata": {},
   "source": [
    "# Creating & Training Decision Tree Model"
   ]
  },
  {
   "cell_type": "code",
   "execution_count": 89,
   "id": "e1bda8ab",
   "metadata": {},
   "outputs": [
    {
     "data": {
      "text/plain": [
       "0.8700911967243625"
      ]
     },
     "execution_count": 89,
     "metadata": {},
     "output_type": "execute_result"
    }
   ],
   "source": [
    "from sklearn import tree\n",
    "dt_clf=tree.DecisionTreeClassifier(max_depth=5)\n",
    "dt_clf.fit(x_train, y_train)\n",
    "dt_clf.score(x_test, y_test)\n",
    "\n",
    "y_pred= dt_clf.predict(x_test)\n",
    "dt_clf.score(x_test, y_test)\n"
   ]
  },
  {
   "cell_type": "code",
   "execution_count": 90,
   "id": "c1fe22e9",
   "metadata": {},
   "outputs": [],
   "source": [
    "#Accuracy= accuracy_score(y_test, y_pred) \n",
    "#Kappa= cohen_kappa_score(y_test, y_pred)\n",
    "#Accuracy, Kappa"
   ]
  },
  {
   "cell_type": "code",
   "execution_count": 91,
   "id": "e6ae8087",
   "metadata": {},
   "outputs": [],
   "source": [
    "#y_pred= dt_clf.predict(x_test)\n",
    "#from sklearn.metrics import confusion_matrix\n",
    "#mat=confusion_matrix(y_test, y_pred)\n",
    "#mat"
   ]
  },
  {
   "cell_type": "code",
   "execution_count": 97,
   "id": "674010cd",
   "metadata": {},
   "outputs": [
    {
     "data": {
      "text/plain": [
       "0.8700911967243625"
      ]
     },
     "execution_count": 97,
     "metadata": {},
     "output_type": "execute_result"
    }
   ],
   "source": [
    "accuracy_score(y_test, y_pred)"
   ]
  },
  {
   "cell_type": "code",
   "execution_count": 98,
   "id": "967a8620",
   "metadata": {},
   "outputs": [],
   "source": [
    "import time\n",
    " \n",
    "# we initialize the variable start\n",
    "# to store the starting time of\n",
    "# execution of program\n",
    "start = time.time()\n",
    " \n"
   ]
  },
  {
   "cell_type": "markdown",
   "id": "9bb78823",
   "metadata": {},
   "source": [
    "# K-fold Cross validation"
   ]
  },
  {
   "cell_type": "code",
   "execution_count": 99,
   "id": "d3bbdfb6",
   "metadata": {},
   "outputs": [
    {
     "name": "stderr",
     "output_type": "stream",
     "text": [
      "C:\\ProgramData\\Anaconda3\\lib\\site-packages\\sklearn\\model_selection\\_split.py:666: UserWarning: The least populated class in y has only 7 members, which is less than n_splits=10.\n",
      "  warnings.warn((\"The least populated class in y has only %d\"\n"
     ]
    },
    {
     "data": {
      "text/plain": [
       "array([0.8678824 , 0.87346483, 0.87048753, 0.87793078, 0.86969471,\n",
       "       0.86895011, 0.86857781, 0.87825763, 0.87527923, 0.87192852])"
      ]
     },
     "execution_count": 99,
     "metadata": {},
     "output_type": "execute_result"
    }
   ],
   "source": [
    "from sklearn.model_selection import cross_val_score\n",
    "scores = cross_val_score(dt_clf, x, y, cv=10)\n",
    "scores"
   ]
  },
  {
   "cell_type": "code",
   "execution_count": 100,
   "id": "b9fe447f",
   "metadata": {},
   "outputs": [
    {
     "name": "stdout",
     "output_type": "stream",
     "text": [
      "0.8722453549688096\n"
     ]
    }
   ],
   "source": [
    "print(np.mean(scores))"
   ]
  },
  {
   "cell_type": "code",
   "execution_count": 101,
   "id": "6eb74fda",
   "metadata": {},
   "outputs": [
    {
     "name": "stdout",
     "output_type": "stream",
     "text": [
      "The time of execution of above program is : 9.433733224868774\n"
     ]
    }
   ],
   "source": [
    "end = time.time()\n",
    " \n",
    "# difference of start and end variables\n",
    "# gives the time of execution of the\n",
    "# program in between\n",
    "print(\"The time of execution of above program is :\", end-start)"
   ]
  },
  {
   "cell_type": "code",
   "execution_count": 102,
   "id": "832e7a60",
   "metadata": {},
   "outputs": [],
   "source": [
    "import time\n",
    " \n",
    "# we initialize the variable start\n",
    "# to store the starting time of\n",
    "# execution of program\n",
    "start = time.time()\n",
    " "
   ]
  },
  {
   "cell_type": "markdown",
   "id": "d9f4fb00",
   "metadata": {},
   "source": [
    "# Stratified Cross Validation"
   ]
  },
  {
   "cell_type": "code",
   "execution_count": 103,
   "id": "d0624da2",
   "metadata": {},
   "outputs": [
    {
     "name": "stderr",
     "output_type": "stream",
     "text": [
      "C:\\ProgramData\\Anaconda3\\lib\\site-packages\\sklearn\\model_selection\\_split.py:666: UserWarning: The least populated class in y has only 7 members, which is less than n_splits=10.\n",
      "  warnings.warn((\"The least populated class in y has only %d\"\n"
     ]
    }
   ],
   "source": [
    "\n",
    "skfold=StratifiedKFold(n_splits=10)\n",
    "outcome = cross_val_score(dt_clf, x,y, cv=skfold)\n"
   ]
  },
  {
   "cell_type": "code",
   "execution_count": 104,
   "id": "9e328321",
   "metadata": {},
   "outputs": [
    {
     "name": "stdout",
     "output_type": "stream",
     "text": [
      "0.8722453549688096\n"
     ]
    }
   ],
   "source": [
    "print(np.mean(outcome))"
   ]
  },
  {
   "cell_type": "code",
   "execution_count": 105,
   "id": "40917371",
   "metadata": {},
   "outputs": [
    {
     "data": {
      "text/plain": [
       "array([0.8678824 , 0.87346483, 0.87048753, 0.87793078, 0.86969471,\n",
       "       0.86895011, 0.86857781, 0.87825763, 0.87527923, 0.87192852])"
      ]
     },
     "execution_count": 105,
     "metadata": {},
     "output_type": "execute_result"
    }
   ],
   "source": [
    "outcome"
   ]
  },
  {
   "cell_type": "code",
   "execution_count": 106,
   "id": "13c9c778",
   "metadata": {},
   "outputs": [
    {
     "name": "stdout",
     "output_type": "stream",
     "text": [
      "The time of execution of above program is : 22.437958478927612\n"
     ]
    }
   ],
   "source": [
    "end = time.time()\n",
    " \n",
    "# difference of start and end variables\n",
    "# gives the time of execution of the\n",
    "# program in between\n",
    "print(\"The time of execution of above program is :\", end-start)"
   ]
  },
  {
   "cell_type": "code",
   "execution_count": 107,
   "id": "a604d038",
   "metadata": {},
   "outputs": [],
   "source": [
    "import time\n",
    " \n",
    "# we initialize the variable start\n",
    "# to store the starting time of\n",
    "# execution of program\n",
    "start = time.time()\n",
    " "
   ]
  },
  {
   "cell_type": "markdown",
   "id": "c2e38b0e",
   "metadata": {},
   "source": [
    "# Repeated Random Train-Test Splits"
   ]
  },
  {
   "cell_type": "code",
   "execution_count": 108,
   "id": "b3de82ca",
   "metadata": {},
   "outputs": [],
   "source": [
    "from sklearn.model_selection import ShuffleSplit\n",
    "ssplit=ShuffleSplit(n_splits=10, test_size=0.30)\n",
    "results=cross_val_score(dt_clf,x,y,cv=ssplit)"
   ]
  },
  {
   "cell_type": "raw",
   "id": "cb6844b1",
   "metadata": {},
   "source": [
    "results"
   ]
  },
  {
   "cell_type": "code",
   "execution_count": 109,
   "id": "ce98ecb7",
   "metadata": {},
   "outputs": [
    {
     "name": "stdout",
     "output_type": "stream",
     "text": [
      "0.8749999999999998\n"
     ]
    }
   ],
   "source": [
    "print(np.mean(results))"
   ]
  },
  {
   "cell_type": "code",
   "execution_count": 110,
   "id": "f1f40596",
   "metadata": {},
   "outputs": [
    {
     "name": "stdout",
     "output_type": "stream",
     "text": [
      "The time of execution of above program is : 3.652717113494873\n"
     ]
    }
   ],
   "source": [
    "end = time.time()\n",
    " \n",
    "# difference of start and end variables\n",
    "# gives the time of execution of the\n",
    "# program in between\n",
    "print(\"The time of execution of above program is :\", end-start)"
   ]
  },
  {
   "cell_type": "markdown",
   "id": "e22e5a67",
   "metadata": {},
   "source": [
    "# Confusion Matrix"
   ]
  },
  {
   "cell_type": "code",
   "execution_count": 111,
   "id": "530ac2ec",
   "metadata": {},
   "outputs": [],
   "source": [
    "#from sklearn import matrics"
   ]
  },
  {
   "cell_type": "code",
   "execution_count": 112,
   "id": "15e0d05d",
   "metadata": {},
   "outputs": [],
   "source": [
    "#from sklearn.model_selection import cross_val_predict\n",
    "#pred= cross_val_predict(dt_clf, x_test, y_test)\n",
    "#pred"
   ]
  },
  {
   "cell_type": "code",
   "execution_count": 113,
   "id": "f2e0f9b1",
   "metadata": {},
   "outputs": [],
   "source": [
    "#scores_test = cross_val_score(dt_clf, x_train, y_train, scoring='r2', cv=10)\n",
    "#scores_test"
   ]
  },
  {
   "cell_type": "code",
   "execution_count": 114,
   "id": "b703f780",
   "metadata": {},
   "outputs": [],
   "source": [
    "#print(np.mean(scores_test))"
   ]
  },
  {
   "cell_type": "markdown",
   "id": "f8f1be52",
   "metadata": {},
   "source": [
    "# Random Forest Classifier"
   ]
  },
  {
   "cell_type": "code",
   "execution_count": 115,
   "id": "6a05673b",
   "metadata": {},
   "outputs": [
    {
     "data": {
      "text/plain": [
       "1.0"
      ]
     },
     "execution_count": 115,
     "metadata": {},
     "output_type": "execute_result"
    }
   ],
   "source": [
    "from sklearn import ensemble\n",
    "rf_clf= ensemble.RandomForestClassifier(n_estimators=100)\n",
    "rf_clf.fit(x_train, y_train)\n",
    "rf_clf.score(x_train, y_train)"
   ]
  },
  {
   "cell_type": "code",
   "execution_count": 116,
   "id": "554bbf6e",
   "metadata": {},
   "outputs": [],
   "source": [
    "import time\n",
    " \n",
    "# we initialize the variable start\n",
    "# to store the starting time of\n",
    "# execution of program\n",
    "start = time.time()\n",
    " "
   ]
  },
  {
   "cell_type": "markdown",
   "id": "be27637c",
   "metadata": {},
   "source": [
    "# K-fold Cross validation"
   ]
  },
  {
   "cell_type": "code",
   "execution_count": 117,
   "id": "737afbe0",
   "metadata": {},
   "outputs": [
    {
     "name": "stderr",
     "output_type": "stream",
     "text": [
      "C:\\ProgramData\\Anaconda3\\lib\\site-packages\\sklearn\\model_selection\\_split.py:666: UserWarning: The least populated class in y has only 7 members, which is less than n_splits=10.\n",
      "  warnings.warn((\"The least populated class in y has only %d\"\n"
     ]
    },
    {
     "data": {
      "text/plain": [
       "array([0.98846297, 0.95906215, 0.97655378, 0.86043915, 0.87862993,\n",
       "       0.85070737, 0.97915115, 0.97096054, 0.93521966, 0.80528667])"
      ]
     },
     "execution_count": 117,
     "metadata": {},
     "output_type": "execute_result"
    }
   ],
   "source": [
    "from sklearn.model_selection import cross_val_score\n",
    "scores = cross_val_score(rf_clf, x, y, cv=10)\n",
    "scores"
   ]
  },
  {
   "cell_type": "code",
   "execution_count": 118,
   "id": "c81fb136",
   "metadata": {},
   "outputs": [
    {
     "name": "stdout",
     "output_type": "stream",
     "text": [
      "0.9204473373771455\n"
     ]
    }
   ],
   "source": [
    "print(np.mean(scores))"
   ]
  },
  {
   "cell_type": "code",
   "execution_count": 119,
   "id": "8fa0b860",
   "metadata": {},
   "outputs": [
    {
     "name": "stdout",
     "output_type": "stream",
     "text": [
      "The time of execution of above program is : 47.077614545822144\n"
     ]
    }
   ],
   "source": [
    "end = time.time()\n",
    " \n",
    "# difference of start and end variables\n",
    "# gives the time of execution of the\n",
    "# program in between\n",
    "print(\"The time of execution of above program is :\", end-start)"
   ]
  },
  {
   "cell_type": "code",
   "execution_count": 120,
   "id": "0cb75f32",
   "metadata": {},
   "outputs": [],
   "source": [
    "import time\n",
    " \n",
    "# we initialize the variable start\n",
    "# to store the starting time of\n",
    "# execution of program\n",
    "start = time.time()\n",
    " "
   ]
  },
  {
   "cell_type": "markdown",
   "id": "6e2b7e0e",
   "metadata": {},
   "source": [
    "# Stratified Cross Validation"
   ]
  },
  {
   "cell_type": "code",
   "execution_count": 53,
   "id": "1c5d54cb",
   "metadata": {},
   "outputs": [
    {
     "name": "stderr",
     "output_type": "stream",
     "text": [
      "C:\\ProgramData\\Anaconda3\\lib\\site-packages\\sklearn\\model_selection\\_split.py:666: UserWarning: The least populated class in y has only 7 members, which is less than n_splits=10.\n",
      "  warnings.warn((\"The least populated class in y has only %d\"\n"
     ]
    }
   ],
   "source": [
    "skfold=StratifiedKFold(n_splits=10)\n",
    "outcome = cross_val_score(rf_clf, x,y, cv=skfold)\n"
   ]
  },
  {
   "cell_type": "code",
   "execution_count": 54,
   "id": "769d46ad",
   "metadata": {},
   "outputs": [
    {
     "name": "stdout",
     "output_type": "stream",
     "text": [
      "0.9192196175790277\n"
     ]
    }
   ],
   "source": [
    "print(np.mean(outcome))"
   ]
  },
  {
   "cell_type": "code",
   "execution_count": 55,
   "id": "c8249040",
   "metadata": {},
   "outputs": [
    {
     "data": {
      "text/plain": [
       "array([0.98809081, 0.93561593, 0.97543729, 0.8619278 , 0.84698436,\n",
       "       0.8655994 , 0.98361876, 0.96686523, 0.93521966, 0.83283693])"
      ]
     },
     "execution_count": 55,
     "metadata": {},
     "output_type": "execute_result"
    }
   ],
   "source": [
    "outcome"
   ]
  },
  {
   "cell_type": "code",
   "execution_count": 56,
   "id": "6ce557e8",
   "metadata": {},
   "outputs": [
    {
     "name": "stdout",
     "output_type": "stream",
     "text": [
      "The time of execution of above program is : 62.808117628097534\n"
     ]
    }
   ],
   "source": [
    "end = time.time()\n",
    " \n",
    "# difference of start and end variables\n",
    "# gives the time of execution of the\n",
    "# program in between\n",
    "print(\"The time of execution of above program is :\", end-start)"
   ]
  },
  {
   "cell_type": "code",
   "execution_count": 57,
   "id": "24cc0099",
   "metadata": {},
   "outputs": [],
   "source": [
    "import time\n",
    " \n",
    "# we initialize the variable start\n",
    "# to store the starting time of\n",
    "# execution of program\n",
    "start = time.time()\n",
    " "
   ]
  },
  {
   "cell_type": "markdown",
   "id": "bdcd93c2",
   "metadata": {},
   "source": [
    "# Repeated Random Train-Test Splits"
   ]
  },
  {
   "cell_type": "code",
   "execution_count": 58,
   "id": "bb23c81b",
   "metadata": {},
   "outputs": [],
   "source": [
    "from sklearn.model_selection import ShuffleSplit\n",
    "ssplit=ShuffleSplit(n_splits=10, test_size=0.30)\n",
    "results=cross_val_score(dt_clf,x,y,cv=ssplit)"
   ]
  },
  {
   "cell_type": "code",
   "execution_count": 59,
   "id": "3a0071e1",
   "metadata": {},
   "outputs": [
    {
     "data": {
      "text/plain": [
       "array([0.87555831, 0.87282878, 0.87382134, 0.87084367, 0.87171216,\n",
       "       0.87717122, 0.87320099, 0.87990074, 0.88039702, 0.87158809])"
      ]
     },
     "execution_count": 59,
     "metadata": {},
     "output_type": "execute_result"
    }
   ],
   "source": [
    "results"
   ]
  },
  {
   "cell_type": "code",
   "execution_count": 60,
   "id": "7d1147b6",
   "metadata": {},
   "outputs": [
    {
     "name": "stdout",
     "output_type": "stream",
     "text": [
      "0.8747022332506204\n"
     ]
    }
   ],
   "source": [
    "print(np.mean(results))"
   ]
  },
  {
   "cell_type": "code",
   "execution_count": 61,
   "id": "0fe391c5",
   "metadata": {},
   "outputs": [
    {
     "name": "stdout",
     "output_type": "stream",
     "text": [
      "The time of execution of above program is : 3.9291210174560547\n"
     ]
    }
   ],
   "source": [
    "end = time.time()\n",
    " \n",
    "# difference of start and end variables\n",
    "# gives the time of execution of the\n",
    "# program in between\n",
    "print(\"The time of execution of above program is :\", end-start)"
   ]
  },
  {
   "cell_type": "markdown",
   "id": "1de9f548",
   "metadata": {},
   "source": [
    "# Naive Bayes Classifier"
   ]
  },
  {
   "cell_type": "code",
   "execution_count": 121,
   "id": "29ba23a2",
   "metadata": {},
   "outputs": [
    {
     "data": {
      "text/plain": [
       "0.3882090177283514"
      ]
     },
     "execution_count": 121,
     "metadata": {},
     "output_type": "execute_result"
    }
   ],
   "source": [
    "from sklearn.naive_bayes import GaussianNB\n",
    "nb_clf= GaussianNB()\n",
    "nb_clf.fit(x_train, y_train)\n",
    "nb_clf.score(x_train, y_train)"
   ]
  },
  {
   "cell_type": "code",
   "execution_count": 122,
   "id": "9cd20c1a",
   "metadata": {},
   "outputs": [],
   "source": [
    "import time\n",
    " \n",
    "# we initialize the variable start\n",
    "# to store the starting time of\n",
    "# execution of program\n",
    "start = time.time()"
   ]
  },
  {
   "cell_type": "markdown",
   "id": "eefa229e",
   "metadata": {},
   "source": [
    "# K-fold Cross validation"
   ]
  },
  {
   "cell_type": "code",
   "execution_count": 123,
   "id": "c126d372",
   "metadata": {},
   "outputs": [
    {
     "name": "stderr",
     "output_type": "stream",
     "text": [
      "C:\\ProgramData\\Anaconda3\\lib\\site-packages\\sklearn\\model_selection\\_split.py:666: UserWarning: The least populated class in y has only 7 members, which is less than n_splits=10.\n",
      "  warnings.warn((\"The least populated class in y has only %d\"\n"
     ]
    },
    {
     "data": {
      "text/plain": [
       "array([0.39039821, 0.39039821, 0.39039821, 0.39039821, 0.39054356,\n",
       "       0.39054356, 0.39054356, 0.39054356, 0.39054356, 0.39054356])"
      ]
     },
     "execution_count": 123,
     "metadata": {},
     "output_type": "execute_result"
    }
   ],
   "source": [
    "from sklearn.model_selection import cross_val_score\n",
    "scores = cross_val_score(nb_clf, x, y, cv=10)\n",
    "scores"
   ]
  },
  {
   "cell_type": "code",
   "execution_count": 124,
   "id": "99edbcc5",
   "metadata": {},
   "outputs": [
    {
     "name": "stdout",
     "output_type": "stream",
     "text": [
      "0.3904854209659536\n"
     ]
    }
   ],
   "source": [
    "print(np.mean(scores))"
   ]
  },
  {
   "cell_type": "code",
   "execution_count": 125,
   "id": "69a04223",
   "metadata": {},
   "outputs": [
    {
     "name": "stdout",
     "output_type": "stream",
     "text": [
      "The time of execution of above program is : 3.703075408935547\n"
     ]
    }
   ],
   "source": [
    "end = time.time()\n",
    " \n",
    "# difference of start and end variables\n",
    "# gives the time of execution of the\n",
    "# program in between\n",
    "print(\"The time of execution of above program is :\", end-start)"
   ]
  },
  {
   "cell_type": "code",
   "execution_count": 126,
   "id": "9538bf47",
   "metadata": {},
   "outputs": [],
   "source": [
    "import time\n",
    " \n",
    "# we initialize the variable start\n",
    "# to store the starting time of\n",
    "# execution of program\n",
    "start = time.time()\n",
    " "
   ]
  },
  {
   "cell_type": "markdown",
   "id": "990734df",
   "metadata": {},
   "source": [
    "# Stratified Cross Validation"
   ]
  },
  {
   "cell_type": "code",
   "execution_count": 127,
   "id": "9c9d0a7b",
   "metadata": {},
   "outputs": [
    {
     "name": "stderr",
     "output_type": "stream",
     "text": [
      "C:\\ProgramData\\Anaconda3\\lib\\site-packages\\sklearn\\model_selection\\_split.py:666: UserWarning: The least populated class in y has only 7 members, which is less than n_splits=10.\n",
      "  warnings.warn((\"The least populated class in y has only %d\"\n"
     ]
    }
   ],
   "source": [
    "skfold=StratifiedKFold(n_splits=10)\n",
    "outcome = cross_val_score(nb_clf, x,y, cv=skfold)"
   ]
  },
  {
   "cell_type": "code",
   "execution_count": 128,
   "id": "e69066bd",
   "metadata": {},
   "outputs": [
    {
     "name": "stdout",
     "output_type": "stream",
     "text": [
      "0.3904854209659536\n"
     ]
    }
   ],
   "source": [
    "print(np.mean(outcome))"
   ]
  },
  {
   "cell_type": "code",
   "execution_count": 129,
   "id": "963d07b8",
   "metadata": {},
   "outputs": [
    {
     "data": {
      "text/plain": [
       "array([0.39039821, 0.39039821, 0.39039821, 0.39039821, 0.39054356,\n",
       "       0.39054356, 0.39054356, 0.39054356, 0.39054356, 0.39054356])"
      ]
     },
     "execution_count": 129,
     "metadata": {},
     "output_type": "execute_result"
    }
   ],
   "source": [
    "outcome"
   ]
  },
  {
   "cell_type": "code",
   "execution_count": 130,
   "id": "be345c10",
   "metadata": {},
   "outputs": [
    {
     "name": "stdout",
     "output_type": "stream",
     "text": [
      "The time of execution of above program is : 11.124524593353271\n"
     ]
    }
   ],
   "source": [
    "end = time.time()\n",
    " \n",
    "# difference of start and end variables\n",
    "# gives the time of execution of the\n",
    "# program in between\n",
    "print(\"The time of execution of above program is :\", end-start)"
   ]
  },
  {
   "cell_type": "code",
   "execution_count": 131,
   "id": "ae44c96c",
   "metadata": {},
   "outputs": [],
   "source": [
    "import time\n",
    " \n",
    "# we initialize the variable start\n",
    "# to store the starting time of\n",
    "# execution of program\n",
    "start = time.time()\n",
    " "
   ]
  },
  {
   "cell_type": "markdown",
   "id": "cab6a8b0",
   "metadata": {},
   "source": [
    "# Repeated Random Train-Test Splits"
   ]
  },
  {
   "cell_type": "code",
   "execution_count": 132,
   "id": "bf5d3109",
   "metadata": {},
   "outputs": [],
   "source": [
    "from sklearn.model_selection import ShuffleSplit\n",
    "ssplit=ShuffleSplit(n_splits=10, test_size=0.30)\n",
    "results=cross_val_score(nb_clf,x,y,cv=ssplit)"
   ]
  },
  {
   "cell_type": "code",
   "execution_count": 133,
   "id": "85e72e7c",
   "metadata": {},
   "outputs": [
    {
     "data": {
      "text/plain": [
       "array([0.38598015, 0.40372208, 0.38808933, 0.38672457, 0.38759305,\n",
       "       0.38647643, 0.39503722, 0.38436725, 0.39540943, 0.39739454])"
      ]
     },
     "execution_count": 133,
     "metadata": {},
     "output_type": "execute_result"
    }
   ],
   "source": [
    "results"
   ]
  },
  {
   "cell_type": "code",
   "execution_count": 134,
   "id": "540e27b6",
   "metadata": {},
   "outputs": [
    {
     "name": "stdout",
     "output_type": "stream",
     "text": [
      "0.39107940446650125\n"
     ]
    }
   ],
   "source": [
    "print(np.mean(results))"
   ]
  },
  {
   "cell_type": "code",
   "execution_count": 135,
   "id": "53f02ff4",
   "metadata": {},
   "outputs": [
    {
     "name": "stdout",
     "output_type": "stream",
     "text": [
      "The time of execution of above program is : 3.3933217525482178\n"
     ]
    }
   ],
   "source": [
    "end = time.time()\n",
    " \n",
    "# difference of start and end variables\n",
    "# gives the time of execution of the\n",
    "# program in between\n",
    "print(\"The time of execution of above program is :\", end-start)"
   ]
  },
  {
   "cell_type": "markdown",
   "id": "15ef89e5",
   "metadata": {},
   "source": [
    "# K-NearestNeighbour Classifier"
   ]
  },
  {
   "cell_type": "code",
   "execution_count": 136,
   "id": "296e4329",
   "metadata": {},
   "outputs": [
    {
     "data": {
      "text/plain": [
       "0.7524545158438416"
      ]
     },
     "execution_count": 136,
     "metadata": {},
     "output_type": "execute_result"
    }
   ],
   "source": [
    "from sklearn.neighbors import KNeighborsClassifier\n",
    "knn_clf= KNeighborsClassifier(n_neighbors=3)\n",
    "knn_clf.fit(x_train, y_train)\n",
    "knn_clf.score(x_train, y_train)"
   ]
  },
  {
   "cell_type": "code",
   "execution_count": 137,
   "id": "b590f87d",
   "metadata": {},
   "outputs": [],
   "source": [
    "import time\n",
    " \n",
    "# we initialize the variable start\n",
    "# to store the starting time of\n",
    "# execution of program\n",
    "start = time.time()"
   ]
  },
  {
   "cell_type": "markdown",
   "id": "697af33b",
   "metadata": {},
   "source": [
    "# K-fold Cross validation"
   ]
  },
  {
   "cell_type": "code",
   "execution_count": 138,
   "id": "5bb8d5f5",
   "metadata": {},
   "outputs": [
    {
     "name": "stderr",
     "output_type": "stream",
     "text": [
      "C:\\ProgramData\\Anaconda3\\lib\\site-packages\\sklearn\\model_selection\\_split.py:666: UserWarning: The least populated class in y has only 7 members, which is less than n_splits=10.\n",
      "  warnings.warn((\"The least populated class in y has only %d\"\n"
     ]
    },
    {
     "data": {
      "text/plain": [
       "array([0.3550428 , 0.29921846, 0.25120953, 0.30554522, 0.33172003,\n",
       "       0.23678332, 0.1824274 , 0.23864483, 0.2740134 , 0.06329114])"
      ]
     },
     "execution_count": 138,
     "metadata": {},
     "output_type": "execute_result"
    }
   ],
   "source": [
    "from sklearn.model_selection import cross_val_score\n",
    "scores = cross_val_score(knn_clf, x, y, cv=10)\n",
    "scores"
   ]
  },
  {
   "cell_type": "code",
   "execution_count": 139,
   "id": "a52e584c",
   "metadata": {},
   "outputs": [
    {
     "name": "stdout",
     "output_type": "stream",
     "text": [
      "0.25378961221135604\n"
     ]
    }
   ],
   "source": [
    "print(np.mean(scores))"
   ]
  },
  {
   "cell_type": "code",
   "execution_count": 140,
   "id": "8cf47862",
   "metadata": {},
   "outputs": [
    {
     "name": "stdout",
     "output_type": "stream",
     "text": [
      "The time of execution of above program is : 6.693057060241699\n"
     ]
    }
   ],
   "source": [
    "end = time.time()\n",
    " \n",
    "# difference of start and end variables\n",
    "# gives the time of execution of the\n",
    "# program in between\n",
    "print(\"The time of execution of above program is :\", end-start)"
   ]
  },
  {
   "cell_type": "code",
   "execution_count": 141,
   "id": "a42e33de",
   "metadata": {},
   "outputs": [],
   "source": [
    "import time\n",
    " \n",
    "# we initialize the variable start\n",
    "# to store the starting time of\n",
    "# execution of program\n",
    "start = time.time()\n",
    " "
   ]
  },
  {
   "cell_type": "markdown",
   "id": "becba0c1",
   "metadata": {},
   "source": [
    "# Stratified Cross Validation"
   ]
  },
  {
   "cell_type": "code",
   "execution_count": 83,
   "id": "72386657",
   "metadata": {},
   "outputs": [
    {
     "name": "stderr",
     "output_type": "stream",
     "text": [
      "C:\\ProgramData\\Anaconda3\\lib\\site-packages\\sklearn\\model_selection\\_split.py:666: UserWarning: The least populated class in y has only 7 members, which is less than n_splits=10.\n",
      "  warnings.warn((\"The least populated class in y has only %d\"\n"
     ]
    }
   ],
   "source": [
    "skfold=StratifiedKFold(n_splits=10)\n",
    "outcome = cross_val_score(knn_clf, x,y, cv=skfold)"
   ]
  },
  {
   "cell_type": "code",
   "execution_count": 84,
   "id": "121f0e9d",
   "metadata": {},
   "outputs": [
    {
     "name": "stdout",
     "output_type": "stream",
     "text": [
      "0.25378961221135604\n"
     ]
    }
   ],
   "source": [
    "print(np.mean(outcome))"
   ]
  },
  {
   "cell_type": "code",
   "execution_count": 85,
   "id": "d6da2af2",
   "metadata": {},
   "outputs": [
    {
     "data": {
      "text/plain": [
       "array([0.3550428 , 0.29921846, 0.25120953, 0.30554522, 0.33172003,\n",
       "       0.23678332, 0.1824274 , 0.23864483, 0.2740134 , 0.06329114])"
      ]
     },
     "execution_count": 85,
     "metadata": {},
     "output_type": "execute_result"
    }
   ],
   "source": [
    "outcome"
   ]
  },
  {
   "cell_type": "code",
   "execution_count": 86,
   "id": "2bc5aecd",
   "metadata": {},
   "outputs": [
    {
     "name": "stdout",
     "output_type": "stream",
     "text": [
      "The time of execution of above program is : 32.485968351364136\n"
     ]
    }
   ],
   "source": [
    "end = time.time()\n",
    " \n",
    "# difference of start and end variables\n",
    "# gives the time of execution of the\n",
    "# program in between\n",
    "print(\"The time of execution of above program is :\", end-start)"
   ]
  },
  {
   "cell_type": "code",
   "execution_count": 87,
   "id": "e0c79d69",
   "metadata": {},
   "outputs": [],
   "source": [
    "import time\n",
    " \n",
    "# we initialize the variable start\n",
    "# to store the starting time of\n",
    "# execution of program\n",
    "start = time.time()\n",
    " "
   ]
  },
  {
   "cell_type": "markdown",
   "id": "b37dab1e",
   "metadata": {},
   "source": [
    "# Repeated Random Train-Test Splits"
   ]
  },
  {
   "cell_type": "code",
   "execution_count": 88,
   "id": "a4df046a",
   "metadata": {},
   "outputs": [],
   "source": [
    "from sklearn.model_selection import ShuffleSplit\n",
    "ssplit=ShuffleSplit(n_splits=10, test_size=0.30)\n",
    "results=cross_val_score(knn_clf,x,y,cv=ssplit)"
   ]
  },
  {
   "cell_type": "code",
   "execution_count": 89,
   "id": "ddf3f357",
   "metadata": {},
   "outputs": [
    {
     "data": {
      "text/plain": [
       "array([0.567866  , 0.55533499, 0.55880893, 0.55111663, 0.55781638,\n",
       "       0.558933  , 0.55322581, 0.56389578, 0.5528536 , 0.56054591])"
      ]
     },
     "execution_count": 89,
     "metadata": {},
     "output_type": "execute_result"
    }
   ],
   "source": [
    "results"
   ]
  },
  {
   "cell_type": "code",
   "execution_count": 90,
   "id": "8f2fabb3",
   "metadata": {},
   "outputs": [
    {
     "name": "stdout",
     "output_type": "stream",
     "text": [
      "0.5580397022332505\n"
     ]
    }
   ],
   "source": [
    "print(np.mean(results))"
   ]
  },
  {
   "cell_type": "code",
   "execution_count": 91,
   "id": "1f550895",
   "metadata": {},
   "outputs": [
    {
     "name": "stdout",
     "output_type": "stream",
     "text": [
      "The time of execution of above program is : 20.105567932128906\n"
     ]
    }
   ],
   "source": [
    "end = time.time()\n",
    " \n",
    "# difference of start and end variables\n",
    "# gives the time of execution of the\n",
    "# program in between\n",
    "print(\"The time of execution of above program is :\", end-start)"
   ]
  },
  {
   "cell_type": "markdown",
   "id": "a9e59e45",
   "metadata": {},
   "source": [
    "# Logistic Regression Classifier"
   ]
  },
  {
   "cell_type": "code",
   "execution_count": 92,
   "id": "f40dc917",
   "metadata": {},
   "outputs": [
    {
     "name": "stderr",
     "output_type": "stream",
     "text": [
      "C:\\ProgramData\\Anaconda3\\lib\\site-packages\\sklearn\\linear_model\\_logistic.py:763: ConvergenceWarning: lbfgs failed to converge (status=1):\n",
      "STOP: TOTAL NO. of ITERATIONS REACHED LIMIT.\n",
      "\n",
      "Increase the number of iterations (max_iter) or scale the data as shown in:\n",
      "    https://scikit-learn.org/stable/modules/preprocessing.html\n",
      "Please also refer to the documentation for alternative solver options:\n",
      "    https://scikit-learn.org/stable/modules/linear_model.html#logistic-regression\n",
      "  n_iter_i = _check_optimize_result(\n"
     ]
    },
    {
     "data": {
      "text/plain": [
       "0.3882090177283514"
      ]
     },
     "execution_count": 92,
     "metadata": {},
     "output_type": "execute_result"
    }
   ],
   "source": [
    "from sklearn.linear_model import LogisticRegression\n",
    "lr_clf= LogisticRegression()\n",
    "lr_clf.fit(x_train, y_train)\n",
    "lr_clf.score(x_train, y_train)"
   ]
  },
  {
   "cell_type": "code",
   "execution_count": 93,
   "id": "53ee0004",
   "metadata": {},
   "outputs": [],
   "source": [
    "import time\n",
    " \n",
    "# we initialize the variable start\n",
    "# to store the starting time of\n",
    "# execution of program\n",
    "start = time.time()"
   ]
  },
  {
   "cell_type": "markdown",
   "id": "071cbfbb",
   "metadata": {},
   "source": [
    "# K-fold Cross validation"
   ]
  },
  {
   "cell_type": "code",
   "execution_count": 94,
   "id": "a7896e63",
   "metadata": {},
   "outputs": [
    {
     "name": "stderr",
     "output_type": "stream",
     "text": [
      "C:\\ProgramData\\Anaconda3\\lib\\site-packages\\sklearn\\model_selection\\_split.py:666: UserWarning: The least populated class in y has only 7 members, which is less than n_splits=10.\n",
      "  warnings.warn((\"The least populated class in y has only %d\"\n",
      "C:\\ProgramData\\Anaconda3\\lib\\site-packages\\sklearn\\linear_model\\_logistic.py:763: ConvergenceWarning: lbfgs failed to converge (status=1):\n",
      "STOP: TOTAL NO. of ITERATIONS REACHED LIMIT.\n",
      "\n",
      "Increase the number of iterations (max_iter) or scale the data as shown in:\n",
      "    https://scikit-learn.org/stable/modules/preprocessing.html\n",
      "Please also refer to the documentation for alternative solver options:\n",
      "    https://scikit-learn.org/stable/modules/linear_model.html#logistic-regression\n",
      "  n_iter_i = _check_optimize_result(\n",
      "C:\\ProgramData\\Anaconda3\\lib\\site-packages\\sklearn\\linear_model\\_logistic.py:763: ConvergenceWarning: lbfgs failed to converge (status=1):\n",
      "STOP: TOTAL NO. of ITERATIONS REACHED LIMIT.\n",
      "\n",
      "Increase the number of iterations (max_iter) or scale the data as shown in:\n",
      "    https://scikit-learn.org/stable/modules/preprocessing.html\n",
      "Please also refer to the documentation for alternative solver options:\n",
      "    https://scikit-learn.org/stable/modules/linear_model.html#logistic-regression\n",
      "  n_iter_i = _check_optimize_result(\n",
      "C:\\ProgramData\\Anaconda3\\lib\\site-packages\\sklearn\\linear_model\\_logistic.py:763: ConvergenceWarning: lbfgs failed to converge (status=1):\n",
      "STOP: TOTAL NO. of ITERATIONS REACHED LIMIT.\n",
      "\n",
      "Increase the number of iterations (max_iter) or scale the data as shown in:\n",
      "    https://scikit-learn.org/stable/modules/preprocessing.html\n",
      "Please also refer to the documentation for alternative solver options:\n",
      "    https://scikit-learn.org/stable/modules/linear_model.html#logistic-regression\n",
      "  n_iter_i = _check_optimize_result(\n",
      "C:\\ProgramData\\Anaconda3\\lib\\site-packages\\sklearn\\linear_model\\_logistic.py:763: ConvergenceWarning: lbfgs failed to converge (status=1):\n",
      "STOP: TOTAL NO. of ITERATIONS REACHED LIMIT.\n",
      "\n",
      "Increase the number of iterations (max_iter) or scale the data as shown in:\n",
      "    https://scikit-learn.org/stable/modules/preprocessing.html\n",
      "Please also refer to the documentation for alternative solver options:\n",
      "    https://scikit-learn.org/stable/modules/linear_model.html#logistic-regression\n",
      "  n_iter_i = _check_optimize_result(\n",
      "C:\\ProgramData\\Anaconda3\\lib\\site-packages\\sklearn\\linear_model\\_logistic.py:763: ConvergenceWarning: lbfgs failed to converge (status=1):\n",
      "STOP: TOTAL NO. of ITERATIONS REACHED LIMIT.\n",
      "\n",
      "Increase the number of iterations (max_iter) or scale the data as shown in:\n",
      "    https://scikit-learn.org/stable/modules/preprocessing.html\n",
      "Please also refer to the documentation for alternative solver options:\n",
      "    https://scikit-learn.org/stable/modules/linear_model.html#logistic-regression\n",
      "  n_iter_i = _check_optimize_result(\n",
      "C:\\ProgramData\\Anaconda3\\lib\\site-packages\\sklearn\\linear_model\\_logistic.py:763: ConvergenceWarning: lbfgs failed to converge (status=1):\n",
      "STOP: TOTAL NO. of ITERATIONS REACHED LIMIT.\n",
      "\n",
      "Increase the number of iterations (max_iter) or scale the data as shown in:\n",
      "    https://scikit-learn.org/stable/modules/preprocessing.html\n",
      "Please also refer to the documentation for alternative solver options:\n",
      "    https://scikit-learn.org/stable/modules/linear_model.html#logistic-regression\n",
      "  n_iter_i = _check_optimize_result(\n",
      "C:\\ProgramData\\Anaconda3\\lib\\site-packages\\sklearn\\linear_model\\_logistic.py:763: ConvergenceWarning: lbfgs failed to converge (status=1):\n",
      "STOP: TOTAL NO. of ITERATIONS REACHED LIMIT.\n",
      "\n",
      "Increase the number of iterations (max_iter) or scale the data as shown in:\n",
      "    https://scikit-learn.org/stable/modules/preprocessing.html\n",
      "Please also refer to the documentation for alternative solver options:\n",
      "    https://scikit-learn.org/stable/modules/linear_model.html#logistic-regression\n",
      "  n_iter_i = _check_optimize_result(\n",
      "C:\\ProgramData\\Anaconda3\\lib\\site-packages\\sklearn\\linear_model\\_logistic.py:763: ConvergenceWarning: lbfgs failed to converge (status=1):\n",
      "STOP: TOTAL NO. of ITERATIONS REACHED LIMIT.\n",
      "\n",
      "Increase the number of iterations (max_iter) or scale the data as shown in:\n",
      "    https://scikit-learn.org/stable/modules/preprocessing.html\n",
      "Please also refer to the documentation for alternative solver options:\n",
      "    https://scikit-learn.org/stable/modules/linear_model.html#logistic-regression\n",
      "  n_iter_i = _check_optimize_result(\n",
      "C:\\ProgramData\\Anaconda3\\lib\\site-packages\\sklearn\\linear_model\\_logistic.py:763: ConvergenceWarning: lbfgs failed to converge (status=1):\n",
      "STOP: TOTAL NO. of ITERATIONS REACHED LIMIT.\n",
      "\n",
      "Increase the number of iterations (max_iter) or scale the data as shown in:\n",
      "    https://scikit-learn.org/stable/modules/preprocessing.html\n",
      "Please also refer to the documentation for alternative solver options:\n",
      "    https://scikit-learn.org/stable/modules/linear_model.html#logistic-regression\n",
      "  n_iter_i = _check_optimize_result(\n",
      "C:\\ProgramData\\Anaconda3\\lib\\site-packages\\sklearn\\linear_model\\_logistic.py:763: ConvergenceWarning: lbfgs failed to converge (status=1):\n",
      "STOP: TOTAL NO. of ITERATIONS REACHED LIMIT.\n",
      "\n",
      "Increase the number of iterations (max_iter) or scale the data as shown in:\n",
      "    https://scikit-learn.org/stable/modules/preprocessing.html\n",
      "Please also refer to the documentation for alternative solver options:\n",
      "    https://scikit-learn.org/stable/modules/linear_model.html#logistic-regression\n",
      "  n_iter_i = _check_optimize_result(\n"
     ]
    },
    {
     "data": {
      "text/plain": [
       "array([0.39039821, 0.39039821, 0.39039821, 0.39039821, 0.39054356,\n",
       "       0.39054356, 0.39054356, 0.39054356, 0.39054356, 0.39054356])"
      ]
     },
     "execution_count": 94,
     "metadata": {},
     "output_type": "execute_result"
    }
   ],
   "source": [
    "from sklearn.model_selection import cross_val_score\n",
    "scores = cross_val_score(lr_clf, x, y, cv=10)\n",
    "scores"
   ]
  },
  {
   "cell_type": "code",
   "execution_count": 95,
   "id": "1cff5ebf",
   "metadata": {},
   "outputs": [
    {
     "name": "stdout",
     "output_type": "stream",
     "text": [
      "0.3904854209659536\n"
     ]
    }
   ],
   "source": [
    "print(np.mean(scores))"
   ]
  },
  {
   "cell_type": "code",
   "execution_count": 96,
   "id": "a51c906e",
   "metadata": {},
   "outputs": [
    {
     "name": "stdout",
     "output_type": "stream",
     "text": [
      "The time of execution of above program is : 123.16754484176636\n"
     ]
    }
   ],
   "source": [
    "end = time.time()\n",
    " \n",
    "# difference of start and end variables\n",
    "# gives the time of execution of the\n",
    "# program in between\n",
    "print(\"The time of execution of above program is :\", end-start)"
   ]
  },
  {
   "cell_type": "code",
   "execution_count": 97,
   "id": "2789eac5",
   "metadata": {},
   "outputs": [],
   "source": [
    "import time\n",
    " \n",
    "# we initialize the variable start\n",
    "# to store the starting time of\n",
    "# execution of program\n",
    "start = time.time()\n",
    " "
   ]
  },
  {
   "cell_type": "markdown",
   "id": "b29c3cc4",
   "metadata": {},
   "source": []
  },
  {
   "cell_type": "markdown",
   "id": "b7d6d188",
   "metadata": {},
   "source": [
    "# Stratified Cross Validation"
   ]
  },
  {
   "cell_type": "markdown",
   "id": "afc0f243",
   "metadata": {},
   "source": [
    " "
   ]
  },
  {
   "cell_type": "code",
   "execution_count": 98,
   "id": "753e6a97",
   "metadata": {},
   "outputs": [
    {
     "name": "stderr",
     "output_type": "stream",
     "text": [
      "C:\\ProgramData\\Anaconda3\\lib\\site-packages\\sklearn\\model_selection\\_split.py:666: UserWarning: The least populated class in y has only 7 members, which is less than n_splits=10.\n",
      "  warnings.warn((\"The least populated class in y has only %d\"\n",
      "C:\\ProgramData\\Anaconda3\\lib\\site-packages\\sklearn\\linear_model\\_logistic.py:763: ConvergenceWarning: lbfgs failed to converge (status=1):\n",
      "STOP: TOTAL NO. of ITERATIONS REACHED LIMIT.\n",
      "\n",
      "Increase the number of iterations (max_iter) or scale the data as shown in:\n",
      "    https://scikit-learn.org/stable/modules/preprocessing.html\n",
      "Please also refer to the documentation for alternative solver options:\n",
      "    https://scikit-learn.org/stable/modules/linear_model.html#logistic-regression\n",
      "  n_iter_i = _check_optimize_result(\n",
      "C:\\ProgramData\\Anaconda3\\lib\\site-packages\\sklearn\\linear_model\\_logistic.py:763: ConvergenceWarning: lbfgs failed to converge (status=1):\n",
      "STOP: TOTAL NO. of ITERATIONS REACHED LIMIT.\n",
      "\n",
      "Increase the number of iterations (max_iter) or scale the data as shown in:\n",
      "    https://scikit-learn.org/stable/modules/preprocessing.html\n",
      "Please also refer to the documentation for alternative solver options:\n",
      "    https://scikit-learn.org/stable/modules/linear_model.html#logistic-regression\n",
      "  n_iter_i = _check_optimize_result(\n",
      "C:\\ProgramData\\Anaconda3\\lib\\site-packages\\sklearn\\linear_model\\_logistic.py:763: ConvergenceWarning: lbfgs failed to converge (status=1):\n",
      "STOP: TOTAL NO. of ITERATIONS REACHED LIMIT.\n",
      "\n",
      "Increase the number of iterations (max_iter) or scale the data as shown in:\n",
      "    https://scikit-learn.org/stable/modules/preprocessing.html\n",
      "Please also refer to the documentation for alternative solver options:\n",
      "    https://scikit-learn.org/stable/modules/linear_model.html#logistic-regression\n",
      "  n_iter_i = _check_optimize_result(\n",
      "C:\\ProgramData\\Anaconda3\\lib\\site-packages\\sklearn\\linear_model\\_logistic.py:763: ConvergenceWarning: lbfgs failed to converge (status=1):\n",
      "STOP: TOTAL NO. of ITERATIONS REACHED LIMIT.\n",
      "\n",
      "Increase the number of iterations (max_iter) or scale the data as shown in:\n",
      "    https://scikit-learn.org/stable/modules/preprocessing.html\n",
      "Please also refer to the documentation for alternative solver options:\n",
      "    https://scikit-learn.org/stable/modules/linear_model.html#logistic-regression\n",
      "  n_iter_i = _check_optimize_result(\n",
      "C:\\ProgramData\\Anaconda3\\lib\\site-packages\\sklearn\\linear_model\\_logistic.py:763: ConvergenceWarning: lbfgs failed to converge (status=1):\n",
      "STOP: TOTAL NO. of ITERATIONS REACHED LIMIT.\n",
      "\n",
      "Increase the number of iterations (max_iter) or scale the data as shown in:\n",
      "    https://scikit-learn.org/stable/modules/preprocessing.html\n",
      "Please also refer to the documentation for alternative solver options:\n",
      "    https://scikit-learn.org/stable/modules/linear_model.html#logistic-regression\n",
      "  n_iter_i = _check_optimize_result(\n",
      "C:\\ProgramData\\Anaconda3\\lib\\site-packages\\sklearn\\linear_model\\_logistic.py:763: ConvergenceWarning: lbfgs failed to converge (status=1):\n",
      "STOP: TOTAL NO. of ITERATIONS REACHED LIMIT.\n",
      "\n",
      "Increase the number of iterations (max_iter) or scale the data as shown in:\n",
      "    https://scikit-learn.org/stable/modules/preprocessing.html\n",
      "Please also refer to the documentation for alternative solver options:\n",
      "    https://scikit-learn.org/stable/modules/linear_model.html#logistic-regression\n",
      "  n_iter_i = _check_optimize_result(\n",
      "C:\\ProgramData\\Anaconda3\\lib\\site-packages\\sklearn\\linear_model\\_logistic.py:763: ConvergenceWarning: lbfgs failed to converge (status=1):\n",
      "STOP: TOTAL NO. of ITERATIONS REACHED LIMIT.\n",
      "\n",
      "Increase the number of iterations (max_iter) or scale the data as shown in:\n",
      "    https://scikit-learn.org/stable/modules/preprocessing.html\n",
      "Please also refer to the documentation for alternative solver options:\n",
      "    https://scikit-learn.org/stable/modules/linear_model.html#logistic-regression\n",
      "  n_iter_i = _check_optimize_result(\n",
      "C:\\ProgramData\\Anaconda3\\lib\\site-packages\\sklearn\\linear_model\\_logistic.py:763: ConvergenceWarning: lbfgs failed to converge (status=1):\n",
      "STOP: TOTAL NO. of ITERATIONS REACHED LIMIT.\n",
      "\n",
      "Increase the number of iterations (max_iter) or scale the data as shown in:\n",
      "    https://scikit-learn.org/stable/modules/preprocessing.html\n",
      "Please also refer to the documentation for alternative solver options:\n",
      "    https://scikit-learn.org/stable/modules/linear_model.html#logistic-regression\n",
      "  n_iter_i = _check_optimize_result(\n",
      "C:\\ProgramData\\Anaconda3\\lib\\site-packages\\sklearn\\linear_model\\_logistic.py:763: ConvergenceWarning: lbfgs failed to converge (status=1):\n",
      "STOP: TOTAL NO. of ITERATIONS REACHED LIMIT.\n",
      "\n",
      "Increase the number of iterations (max_iter) or scale the data as shown in:\n",
      "    https://scikit-learn.org/stable/modules/preprocessing.html\n",
      "Please also refer to the documentation for alternative solver options:\n",
      "    https://scikit-learn.org/stable/modules/linear_model.html#logistic-regression\n",
      "  n_iter_i = _check_optimize_result(\n",
      "C:\\ProgramData\\Anaconda3\\lib\\site-packages\\sklearn\\linear_model\\_logistic.py:763: ConvergenceWarning: lbfgs failed to converge (status=1):\n",
      "STOP: TOTAL NO. of ITERATIONS REACHED LIMIT.\n",
      "\n",
      "Increase the number of iterations (max_iter) or scale the data as shown in:\n",
      "    https://scikit-learn.org/stable/modules/preprocessing.html\n",
      "Please also refer to the documentation for alternative solver options:\n",
      "    https://scikit-learn.org/stable/modules/linear_model.html#logistic-regression\n",
      "  n_iter_i = _check_optimize_result(\n"
     ]
    }
   ],
   "source": [
    "skfold=StratifiedKFold(n_splits=10)\n",
    "outcome = cross_val_score(lr_clf, x,y, cv=skfold)"
   ]
  },
  {
   "cell_type": "code",
   "execution_count": 99,
   "id": "b7bcbf57",
   "metadata": {},
   "outputs": [
    {
     "name": "stdout",
     "output_type": "stream",
     "text": [
      "0.3904854209659536\n"
     ]
    }
   ],
   "source": [
    "print(np.mean(outcome))"
   ]
  },
  {
   "cell_type": "code",
   "execution_count": 100,
   "id": "93599a4c",
   "metadata": {},
   "outputs": [
    {
     "data": {
      "text/plain": [
       "array([0.39039821, 0.39039821, 0.39039821, 0.39039821, 0.39054356,\n",
       "       0.39054356, 0.39054356, 0.39054356, 0.39054356, 0.39054356])"
      ]
     },
     "execution_count": 100,
     "metadata": {},
     "output_type": "execute_result"
    }
   ],
   "source": [
    "outcome"
   ]
  },
  {
   "cell_type": "code",
   "execution_count": 101,
   "id": "ceeb400d",
   "metadata": {},
   "outputs": [
    {
     "name": "stdout",
     "output_type": "stream",
     "text": [
      "The time of execution of above program is : 245.62329053878784\n"
     ]
    }
   ],
   "source": [
    "end = time.time()\n",
    " \n",
    "# difference of start and end variables\n",
    "# gives the time of execution of the\n",
    "# program in between\n",
    "print(\"The time of execution of above program is :\", end-start)"
   ]
  },
  {
   "cell_type": "code",
   "execution_count": 102,
   "id": "02f80a9f",
   "metadata": {},
   "outputs": [],
   "source": [
    "import time\n",
    " \n",
    "# we initialize the variable start\n",
    "# to store the starting time of\n",
    "# execution of program\n",
    "start = time.time()\n",
    " "
   ]
  },
  {
   "cell_type": "markdown",
   "id": "b202fd33",
   "metadata": {},
   "source": [
    "# Repeated Random Train-Test Splits"
   ]
  },
  {
   "cell_type": "code",
   "execution_count": 103,
   "id": "57b7a4ee",
   "metadata": {},
   "outputs": [],
   "source": [
    "from sklearn.model_selection import ShuffleSplit\n",
    "ssplit=ShuffleSplit(n_splits=10, test_size=0.30)\n",
    "results=cross_val_score(knn_clf,x,y,cv=ssplit)"
   ]
  },
  {
   "cell_type": "code",
   "execution_count": 104,
   "id": "e02323d1",
   "metadata": {},
   "outputs": [
    {
     "data": {
      "text/plain": [
       "array([0.55260546, 0.55806452, 0.56439206, 0.5560794 , 0.56054591,\n",
       "       0.55918114, 0.5601737 , 0.55669975, 0.56029777, 0.55372208])"
      ]
     },
     "execution_count": 104,
     "metadata": {},
     "output_type": "execute_result"
    }
   ],
   "source": [
    "results"
   ]
  },
  {
   "cell_type": "code",
   "execution_count": 105,
   "id": "a0b94398",
   "metadata": {},
   "outputs": [
    {
     "name": "stdout",
     "output_type": "stream",
     "text": [
      "0.5581761786600496\n"
     ]
    }
   ],
   "source": [
    "print(np.mean(results))"
   ]
  },
  {
   "cell_type": "code",
   "execution_count": 106,
   "id": "3e9deeae",
   "metadata": {},
   "outputs": [
    {
     "name": "stdout",
     "output_type": "stream",
     "text": [
      "The time of execution of above program is : 11.847171306610107\n"
     ]
    }
   ],
   "source": [
    "end = time.time()\n",
    " \n",
    "# difference of start and end variables\n",
    "# gives the time of execution of the\n",
    "# program in between\n",
    "print(\"The time of execution of above program is :\", end-start)"
   ]
  },
  {
   "cell_type": "code",
   "execution_count": null,
   "id": "cf2b4384",
   "metadata": {},
   "outputs": [],
   "source": []
  }
 ],
 "metadata": {
  "kernelspec": {
   "display_name": "Python 3 (ipykernel)",
   "language": "python",
   "name": "python3"
  },
  "language_info": {
   "codemirror_mode": {
    "name": "ipython",
    "version": 3
   },
   "file_extension": ".py",
   "mimetype": "text/x-python",
   "name": "python",
   "nbconvert_exporter": "python",
   "pygments_lexer": "ipython3",
   "version": "3.9.7"
  }
 },
 "nbformat": 4,
 "nbformat_minor": 5
}
