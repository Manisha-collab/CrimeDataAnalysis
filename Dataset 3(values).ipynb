{
 "cells": [
  {
   "cell_type": "markdown",
   "id": "60aac2b4",
   "metadata": {},
   "source": [
    "# Load Data"
   ]
  },
  {
   "cell_type": "code",
   "execution_count": 1,
   "id": "790d299f",
   "metadata": {},
   "outputs": [],
   "source": [
    "import pandas as pd\n",
    "import numpy as np\n",
    "import matplotlib.pyplot as plt\n",
    "import seaborn as sns\n",
    "from sklearn.ensemble import RandomForestClassifier\n",
    "from sklearn.neural_network import MLPClassifier\n",
    "from sklearn.metrics import confusion_matrix, classification_report\n",
    "from sklearn.preprocessing import StandardScaler, LabelEncoder\n",
    "from sklearn.model_selection import train_test_split\n",
    "%matplotlib inline\n",
    "from sklearn.model_selection import StratifiedKFold\n",
    "from sklearn.model_selection import KFold\n",
    "from sklearn.metrics import accuracy_score, cohen_kappa_score"
   ]
  },
  {
   "cell_type": "markdown",
   "id": "1eba6a65",
   "metadata": {},
   "source": [
    "# Import data"
   ]
  },
  {
   "cell_type": "code",
   "execution_count": 2,
   "id": "f33c1f3a",
   "metadata": {},
   "outputs": [],
   "source": [
    "df=pd.read_csv('crime 2.csv')\n",
    "df=pd.read_csv('crime 2.csv')\n"
   ]
  },
  {
   "cell_type": "code",
   "execution_count": 3,
   "id": "8915875a",
   "metadata": {},
   "outputs": [
    {
     "data": {
      "text/html": [
       "<div>\n",
       "<style scoped>\n",
       "    .dataframe tbody tr th:only-of-type {\n",
       "        vertical-align: middle;\n",
       "    }\n",
       "\n",
       "    .dataframe tbody tr th {\n",
       "        vertical-align: top;\n",
       "    }\n",
       "\n",
       "    .dataframe thead th {\n",
       "        text-align: right;\n",
       "    }\n",
       "</style>\n",
       "<table border=\"1\" class=\"dataframe\">\n",
       "  <thead>\n",
       "    <tr style=\"text-align: right;\">\n",
       "      <th></th>\n",
       "      <th>REGION</th>\n",
       "      <th>GARDA DIVISION</th>\n",
       "      <th>OFFENCE CODE</th>\n",
       "      <th>OFFENCE</th>\n",
       "      <th>TYPE OF OFFENCE</th>\n",
       "      <th>2003Q1</th>\n",
       "      <th>2003Q2</th>\n",
       "      <th>2003Q3</th>\n",
       "      <th>2003Q4</th>\n",
       "      <th>2004Q1</th>\n",
       "      <th>...</th>\n",
       "      <th>2017Q2</th>\n",
       "      <th>2017Q3</th>\n",
       "      <th>2017Q4</th>\n",
       "      <th>2018Q1</th>\n",
       "      <th>2018Q2</th>\n",
       "      <th>2018Q3</th>\n",
       "      <th>2018Q4</th>\n",
       "      <th>2019Q1</th>\n",
       "      <th>2019Q2</th>\n",
       "      <th>2019Q3</th>\n",
       "    </tr>\n",
       "  </thead>\n",
       "  <tbody>\n",
       "    <tr>\n",
       "      <th>0</th>\n",
       "      <td>NORTHERN REGION</td>\n",
       "      <td>CAVAN/MONAGHAN</td>\n",
       "      <td>111</td>\n",
       "      <td>Murder</td>\n",
       "      <td>HOMICIDE OFFENCES</td>\n",
       "      <td>0</td>\n",
       "      <td>0</td>\n",
       "      <td>0</td>\n",
       "      <td>0</td>\n",
       "      <td>0</td>\n",
       "      <td>...</td>\n",
       "      <td>0</td>\n",
       "      <td>0</td>\n",
       "      <td>1</td>\n",
       "      <td>0</td>\n",
       "      <td>0</td>\n",
       "      <td>1</td>\n",
       "      <td>0</td>\n",
       "      <td>0</td>\n",
       "      <td>0</td>\n",
       "      <td>0</td>\n",
       "    </tr>\n",
       "    <tr>\n",
       "      <th>1</th>\n",
       "      <td>NORTHERN REGION</td>\n",
       "      <td>CAVAN/MONAGHAN</td>\n",
       "      <td>112</td>\n",
       "      <td>Manslaughter</td>\n",
       "      <td>HOMICIDE OFFENCES</td>\n",
       "      <td>0</td>\n",
       "      <td>0</td>\n",
       "      <td>0</td>\n",
       "      <td>0</td>\n",
       "      <td>0</td>\n",
       "      <td>...</td>\n",
       "      <td>0</td>\n",
       "      <td>0</td>\n",
       "      <td>0</td>\n",
       "      <td>1</td>\n",
       "      <td>0</td>\n",
       "      <td>0</td>\n",
       "      <td>1</td>\n",
       "      <td>0</td>\n",
       "      <td>0</td>\n",
       "      <td>0</td>\n",
       "    </tr>\n",
       "    <tr>\n",
       "      <th>2</th>\n",
       "      <td>NORTHERN REGION</td>\n",
       "      <td>CAVAN/MONAGHAN</td>\n",
       "      <td>113</td>\n",
       "      <td>Infanticide</td>\n",
       "      <td>HOMICIDE OFFENCES</td>\n",
       "      <td>0</td>\n",
       "      <td>0</td>\n",
       "      <td>0</td>\n",
       "      <td>0</td>\n",
       "      <td>0</td>\n",
       "      <td>...</td>\n",
       "      <td>0</td>\n",
       "      <td>0</td>\n",
       "      <td>0</td>\n",
       "      <td>0</td>\n",
       "      <td>0</td>\n",
       "      <td>0</td>\n",
       "      <td>0</td>\n",
       "      <td>0</td>\n",
       "      <td>0</td>\n",
       "      <td>0</td>\n",
       "    </tr>\n",
       "    <tr>\n",
       "      <th>3</th>\n",
       "      <td>NORTHERN REGION</td>\n",
       "      <td>CAVAN/MONAGHAN</td>\n",
       "      <td>12</td>\n",
       "      <td>Dangerous driving leading to death</td>\n",
       "      <td>HOMICIDE OFFENCES</td>\n",
       "      <td>1</td>\n",
       "      <td>0</td>\n",
       "      <td>1</td>\n",
       "      <td>0</td>\n",
       "      <td>0</td>\n",
       "      <td>...</td>\n",
       "      <td>1</td>\n",
       "      <td>1</td>\n",
       "      <td>1</td>\n",
       "      <td>0</td>\n",
       "      <td>0</td>\n",
       "      <td>0</td>\n",
       "      <td>1</td>\n",
       "      <td>0</td>\n",
       "      <td>0</td>\n",
       "      <td>0</td>\n",
       "    </tr>\n",
       "    <tr>\n",
       "      <th>4</th>\n",
       "      <td>NORTHERN REGION</td>\n",
       "      <td>CAVAN/MONAGHAN</td>\n",
       "      <td>21</td>\n",
       "      <td>Rape and sexual assault</td>\n",
       "      <td>SEXUAL OFFENCES</td>\n",
       "      <td>24</td>\n",
       "      <td>15</td>\n",
       "      <td>5</td>\n",
       "      <td>5</td>\n",
       "      <td>14</td>\n",
       "      <td>...</td>\n",
       "      <td>16</td>\n",
       "      <td>8</td>\n",
       "      <td>14</td>\n",
       "      <td>23</td>\n",
       "      <td>21</td>\n",
       "      <td>13</td>\n",
       "      <td>23</td>\n",
       "      <td>19</td>\n",
       "      <td>20</td>\n",
       "      <td>17</td>\n",
       "    </tr>\n",
       "  </tbody>\n",
       "</table>\n",
       "<p>5 rows × 72 columns</p>\n",
       "</div>"
      ],
      "text/plain": [
       "            REGION  GARDA DIVISION  OFFENCE CODE  \\\n",
       "0  NORTHERN REGION  CAVAN/MONAGHAN           111   \n",
       "1  NORTHERN REGION  CAVAN/MONAGHAN           112   \n",
       "2  NORTHERN REGION  CAVAN/MONAGHAN           113   \n",
       "3  NORTHERN REGION  CAVAN/MONAGHAN            12   \n",
       "4  NORTHERN REGION  CAVAN/MONAGHAN            21   \n",
       "\n",
       "                              OFFENCE    TYPE OF OFFENCE  2003Q1  2003Q2  \\\n",
       "0                              Murder  HOMICIDE OFFENCES       0       0   \n",
       "1                        Manslaughter  HOMICIDE OFFENCES       0       0   \n",
       "2                         Infanticide  HOMICIDE OFFENCES       0       0   \n",
       "3  Dangerous driving leading to death  HOMICIDE OFFENCES       1       0   \n",
       "4             Rape and sexual assault    SEXUAL OFFENCES      24      15   \n",
       "\n",
       "   2003Q3  2003Q4  2004Q1  ...  2017Q2  2017Q3  2017Q4  2018Q1  2018Q2  \\\n",
       "0       0       0       0  ...       0       0       1       0       0   \n",
       "1       0       0       0  ...       0       0       0       1       0   \n",
       "2       0       0       0  ...       0       0       0       0       0   \n",
       "3       1       0       0  ...       1       1       1       0       0   \n",
       "4       5       5      14  ...      16       8      14      23      21   \n",
       "\n",
       "   2018Q3  2018Q4  2019Q1  2019Q2  2019Q3  \n",
       "0       1       0       0       0       0  \n",
       "1       0       1       0       0       0  \n",
       "2       0       0       0       0       0  \n",
       "3       0       1       0       0       0  \n",
       "4      13      23      19      20      17  \n",
       "\n",
       "[5 rows x 72 columns]"
      ]
     },
     "execution_count": 3,
     "metadata": {},
     "output_type": "execute_result"
    }
   ],
   "source": [
    "df.head()"
   ]
  },
  {
   "cell_type": "code",
   "execution_count": 4,
   "id": "72e01275",
   "metadata": {},
   "outputs": [
    {
     "data": {
      "text/plain": [
       "REGION             0\n",
       "GARDA DIVISION     0\n",
       "OFFENCE CODE       0\n",
       "OFFENCE            0\n",
       "TYPE OF OFFENCE    0\n",
       "                  ..\n",
       "2018Q3             0\n",
       "2018Q4             0\n",
       "2019Q1             0\n",
       "2019Q2             0\n",
       "2019Q3             0\n",
       "Length: 72, dtype: int64"
      ]
     },
     "execution_count": 4,
     "metadata": {},
     "output_type": "execute_result"
    }
   ],
   "source": [
    "df.isnull().sum()"
   ]
  },
  {
   "cell_type": "code",
   "execution_count": 5,
   "id": "944b1884",
   "metadata": {},
   "outputs": [
    {
     "data": {
      "text/plain": [
       "REGION             object\n",
       "GARDA DIVISION     object\n",
       "OFFENCE CODE        int64\n",
       "OFFENCE            object\n",
       "TYPE OF OFFENCE    object\n",
       "                    ...  \n",
       "2018Q3              int64\n",
       "2018Q4              int64\n",
       "2019Q1              int64\n",
       "2019Q2              int64\n",
       "2019Q3              int64\n",
       "Length: 72, dtype: object"
      ]
     },
     "execution_count": 5,
     "metadata": {},
     "output_type": "execute_result"
    }
   ],
   "source": [
    "df.dtypes"
   ]
  },
  {
   "cell_type": "markdown",
   "id": "6cfcbeab",
   "metadata": {},
   "source": [
    "# Label Encoder"
   ]
  },
  {
   "cell_type": "code",
   "execution_count": 6,
   "id": "0b542a45",
   "metadata": {},
   "outputs": [
    {
     "data": {
      "text/plain": [
       "array(['Murder', 'Manslaughter', 'Infanticide',\n",
       "       'Dangerous driving leading to death', 'Rape and sexual assault',\n",
       "       'Other sexual offences', 'Murder-attempt', 'Murder-threat',\n",
       "       'Harassment and related offences',\n",
       "       'Assault causing harm/ poisoning', 'Other assault',\n",
       "       'Dangerous driving causing serious bodily harm',\n",
       "       'Driving/in charge of a vehicle while over legal alcohol limit',\n",
       "       'Driving/in charge of a vehicle under the influence of drugs',\n",
       "       'Endangerment with potential for serious harm/death',\n",
       "       'Abandoning a child/ child neglect and cruelty',\n",
       "       'Unseaworthy/dangerous use of boat or ship',\n",
       "       'False alarm/interference with aircraft or air transport facilities',\n",
       "       'Endangering traffic offences', 'False imprisonment',\n",
       "       'Abduction of person under 16 years of age',\n",
       "       'Human trafficking offences',\n",
       "       'Robbery of an establishment or institution',\n",
       "       'Robbery of cash or goods in transit', 'Robbery from the person',\n",
       "       'Blackmail or extortion',\n",
       "       'Carjacking/ hijacking/unlawful seizure of aircraft/vessel',\n",
       "       'Aggravated burglary', 'Burglary (not aggravated)',\n",
       "       'Possession of an article (with intent to burgle/ steal/ demand)',\n",
       "       'Theft/taking of vehicle and related offences',\n",
       "       'Theft from person', 'Theft from shop',\n",
       "       'Other thefts/ handling stolen property',\n",
       "       'Fraud/ deception and related offences', 'Importation of drugs',\n",
       "       'Cultivation or manufacture of drugs',\n",
       "       'Possession of drugs for sale or supply',\n",
       "       'Possession of drugs for personal use', 'Other drug offences',\n",
       "       'Explosives/ chemical weapons offences', 'Discharging a firearm',\n",
       "       'Possession of a firearm', 'Offensive weapons offences (n.e.c.)',\n",
       "       'Fireworks offences', 'Arson', 'Criminal damage (not arson)',\n",
       "       'Litter offences', 'Disorderly conduct', 'Trespass offences',\n",
       "       'Liquor licensing offences', 'Prostitution offences',\n",
       "       'Regulated betting/money/ collection/trading offences',\n",
       "       'Social code offences (n.e.c.)',\n",
       "       'Offences against government and its agents',\n",
       "       'Organisation of crime and conspiracy to commit crime',\n",
       "       'Perverting the course of justice',\n",
       "       'Offences while in custody/ breach of court orders'], dtype=object)"
      ]
     },
     "execution_count": 6,
     "metadata": {},
     "output_type": "execute_result"
    }
   ],
   "source": [
    "df['OFFENCE'].unique()"
   ]
  },
  {
   "cell_type": "code",
   "execution_count": 7,
   "id": "b39a865c",
   "metadata": {},
   "outputs": [],
   "source": [
    "lbl_encode=LabelEncoder()\n",
    "df['REGION']=lbl_encode.fit_transform(df['REGION'])\n",
    "df['GARDA DIVISION']=lbl_encode.fit_transform(df['GARDA DIVISION'])\n",
    "df['OFFENCE']=lbl_encode.fit_transform(df['OFFENCE'])\n",
    "df['TYPE OF OFFENCE']=lbl_encode.fit_transform(df['TYPE OF OFFENCE'])\n"
   ]
  },
  {
   "cell_type": "code",
   "execution_count": 8,
   "id": "754d2cfa",
   "metadata": {},
   "outputs": [
    {
     "data": {
      "text/html": [
       "<div>\n",
       "<style scoped>\n",
       "    .dataframe tbody tr th:only-of-type {\n",
       "        vertical-align: middle;\n",
       "    }\n",
       "\n",
       "    .dataframe tbody tr th {\n",
       "        vertical-align: top;\n",
       "    }\n",
       "\n",
       "    .dataframe thead th {\n",
       "        text-align: right;\n",
       "    }\n",
       "</style>\n",
       "<table border=\"1\" class=\"dataframe\">\n",
       "  <thead>\n",
       "    <tr style=\"text-align: right;\">\n",
       "      <th></th>\n",
       "      <th>REGION</th>\n",
       "      <th>GARDA DIVISION</th>\n",
       "      <th>OFFENCE CODE</th>\n",
       "      <th>OFFENCE</th>\n",
       "      <th>TYPE OF OFFENCE</th>\n",
       "      <th>2003Q1</th>\n",
       "      <th>2003Q2</th>\n",
       "      <th>2003Q3</th>\n",
       "      <th>2003Q4</th>\n",
       "      <th>2004Q1</th>\n",
       "      <th>...</th>\n",
       "      <th>2017Q2</th>\n",
       "      <th>2017Q3</th>\n",
       "      <th>2017Q4</th>\n",
       "      <th>2018Q1</th>\n",
       "      <th>2018Q2</th>\n",
       "      <th>2018Q3</th>\n",
       "      <th>2018Q4</th>\n",
       "      <th>2019Q1</th>\n",
       "      <th>2019Q2</th>\n",
       "      <th>2019Q3</th>\n",
       "    </tr>\n",
       "  </thead>\n",
       "  <tbody>\n",
       "    <tr>\n",
       "      <th>0</th>\n",
       "      <td>2</td>\n",
       "      <td>0</td>\n",
       "      <td>111</td>\n",
       "      <td>30</td>\n",
       "      <td>6</td>\n",
       "      <td>0</td>\n",
       "      <td>0</td>\n",
       "      <td>0</td>\n",
       "      <td>0</td>\n",
       "      <td>0</td>\n",
       "      <td>...</td>\n",
       "      <td>0</td>\n",
       "      <td>0</td>\n",
       "      <td>1</td>\n",
       "      <td>0</td>\n",
       "      <td>0</td>\n",
       "      <td>1</td>\n",
       "      <td>0</td>\n",
       "      <td>0</td>\n",
       "      <td>0</td>\n",
       "      <td>0</td>\n",
       "    </tr>\n",
       "    <tr>\n",
       "      <th>1</th>\n",
       "      <td>2</td>\n",
       "      <td>0</td>\n",
       "      <td>112</td>\n",
       "      <td>29</td>\n",
       "      <td>6</td>\n",
       "      <td>0</td>\n",
       "      <td>0</td>\n",
       "      <td>0</td>\n",
       "      <td>0</td>\n",
       "      <td>0</td>\n",
       "      <td>...</td>\n",
       "      <td>0</td>\n",
       "      <td>0</td>\n",
       "      <td>0</td>\n",
       "      <td>1</td>\n",
       "      <td>0</td>\n",
       "      <td>0</td>\n",
       "      <td>1</td>\n",
       "      <td>0</td>\n",
       "      <td>0</td>\n",
       "      <td>0</td>\n",
       "    </tr>\n",
       "    <tr>\n",
       "      <th>2</th>\n",
       "      <td>2</td>\n",
       "      <td>0</td>\n",
       "      <td>113</td>\n",
       "      <td>26</td>\n",
       "      <td>6</td>\n",
       "      <td>0</td>\n",
       "      <td>0</td>\n",
       "      <td>0</td>\n",
       "      <td>0</td>\n",
       "      <td>0</td>\n",
       "      <td>...</td>\n",
       "      <td>0</td>\n",
       "      <td>0</td>\n",
       "      <td>0</td>\n",
       "      <td>0</td>\n",
       "      <td>0</td>\n",
       "      <td>0</td>\n",
       "      <td>0</td>\n",
       "      <td>0</td>\n",
       "      <td>0</td>\n",
       "      <td>0</td>\n",
       "    </tr>\n",
       "    <tr>\n",
       "      <th>3</th>\n",
       "      <td>2</td>\n",
       "      <td>0</td>\n",
       "      <td>12</td>\n",
       "      <td>11</td>\n",
       "      <td>6</td>\n",
       "      <td>1</td>\n",
       "      <td>0</td>\n",
       "      <td>1</td>\n",
       "      <td>0</td>\n",
       "      <td>0</td>\n",
       "      <td>...</td>\n",
       "      <td>1</td>\n",
       "      <td>1</td>\n",
       "      <td>1</td>\n",
       "      <td>0</td>\n",
       "      <td>0</td>\n",
       "      <td>0</td>\n",
       "      <td>1</td>\n",
       "      <td>0</td>\n",
       "      <td>0</td>\n",
       "      <td>0</td>\n",
       "    </tr>\n",
       "    <tr>\n",
       "      <th>4</th>\n",
       "      <td>2</td>\n",
       "      <td>0</td>\n",
       "      <td>21</td>\n",
       "      <td>47</td>\n",
       "      <td>11</td>\n",
       "      <td>24</td>\n",
       "      <td>15</td>\n",
       "      <td>5</td>\n",
       "      <td>5</td>\n",
       "      <td>14</td>\n",
       "      <td>...</td>\n",
       "      <td>16</td>\n",
       "      <td>8</td>\n",
       "      <td>14</td>\n",
       "      <td>23</td>\n",
       "      <td>21</td>\n",
       "      <td>13</td>\n",
       "      <td>23</td>\n",
       "      <td>19</td>\n",
       "      <td>20</td>\n",
       "      <td>17</td>\n",
       "    </tr>\n",
       "    <tr>\n",
       "      <th>...</th>\n",
       "      <td>...</td>\n",
       "      <td>...</td>\n",
       "      <td>...</td>\n",
       "      <td>...</td>\n",
       "      <td>...</td>\n",
       "      <td>...</td>\n",
       "      <td>...</td>\n",
       "      <td>...</td>\n",
       "      <td>...</td>\n",
       "      <td>...</td>\n",
       "      <td>...</td>\n",
       "      <td>...</td>\n",
       "      <td>...</td>\n",
       "      <td>...</td>\n",
       "      <td>...</td>\n",
       "      <td>...</td>\n",
       "      <td>...</td>\n",
       "      <td>...</td>\n",
       "      <td>...</td>\n",
       "      <td>...</td>\n",
       "      <td>...</td>\n",
       "    </tr>\n",
       "    <tr>\n",
       "      <th>1619</th>\n",
       "      <td>0</td>\n",
       "      <td>10</td>\n",
       "      <td>136</td>\n",
       "      <td>52</td>\n",
       "      <td>9</td>\n",
       "      <td>8</td>\n",
       "      <td>5</td>\n",
       "      <td>6</td>\n",
       "      <td>6</td>\n",
       "      <td>7</td>\n",
       "      <td>...</td>\n",
       "      <td>8</td>\n",
       "      <td>5</td>\n",
       "      <td>3</td>\n",
       "      <td>10</td>\n",
       "      <td>4</td>\n",
       "      <td>5</td>\n",
       "      <td>5</td>\n",
       "      <td>6</td>\n",
       "      <td>16</td>\n",
       "      <td>9</td>\n",
       "    </tr>\n",
       "    <tr>\n",
       "      <th>1620</th>\n",
       "      <td>0</td>\n",
       "      <td>10</td>\n",
       "      <td>151</td>\n",
       "      <td>33</td>\n",
       "      <td>8</td>\n",
       "      <td>3</td>\n",
       "      <td>0</td>\n",
       "      <td>0</td>\n",
       "      <td>7</td>\n",
       "      <td>0</td>\n",
       "      <td>...</td>\n",
       "      <td>2</td>\n",
       "      <td>3</td>\n",
       "      <td>0</td>\n",
       "      <td>2</td>\n",
       "      <td>0</td>\n",
       "      <td>0</td>\n",
       "      <td>2</td>\n",
       "      <td>5</td>\n",
       "      <td>4</td>\n",
       "      <td>5</td>\n",
       "    </tr>\n",
       "    <tr>\n",
       "      <th>1621</th>\n",
       "      <td>0</td>\n",
       "      <td>10</td>\n",
       "      <td>152</td>\n",
       "      <td>36</td>\n",
       "      <td>8</td>\n",
       "      <td>0</td>\n",
       "      <td>0</td>\n",
       "      <td>0</td>\n",
       "      <td>0</td>\n",
       "      <td>1</td>\n",
       "      <td>...</td>\n",
       "      <td>1</td>\n",
       "      <td>0</td>\n",
       "      <td>0</td>\n",
       "      <td>1</td>\n",
       "      <td>0</td>\n",
       "      <td>0</td>\n",
       "      <td>0</td>\n",
       "      <td>0</td>\n",
       "      <td>0</td>\n",
       "      <td>1</td>\n",
       "    </tr>\n",
       "    <tr>\n",
       "      <th>1622</th>\n",
       "      <td>0</td>\n",
       "      <td>10</td>\n",
       "      <td>153</td>\n",
       "      <td>41</td>\n",
       "      <td>8</td>\n",
       "      <td>2</td>\n",
       "      <td>1</td>\n",
       "      <td>0</td>\n",
       "      <td>1</td>\n",
       "      <td>2</td>\n",
       "      <td>...</td>\n",
       "      <td>1</td>\n",
       "      <td>2</td>\n",
       "      <td>1</td>\n",
       "      <td>0</td>\n",
       "      <td>1</td>\n",
       "      <td>0</td>\n",
       "      <td>0</td>\n",
       "      <td>0</td>\n",
       "      <td>1</td>\n",
       "      <td>0</td>\n",
       "    </tr>\n",
       "    <tr>\n",
       "      <th>1623</th>\n",
       "      <td>0</td>\n",
       "      <td>10</td>\n",
       "      <td>157</td>\n",
       "      <td>34</td>\n",
       "      <td>8</td>\n",
       "      <td>134</td>\n",
       "      <td>102</td>\n",
       "      <td>128</td>\n",
       "      <td>116</td>\n",
       "      <td>121</td>\n",
       "      <td>...</td>\n",
       "      <td>280</td>\n",
       "      <td>318</td>\n",
       "      <td>308</td>\n",
       "      <td>410</td>\n",
       "      <td>447</td>\n",
       "      <td>393</td>\n",
       "      <td>455</td>\n",
       "      <td>437</td>\n",
       "      <td>417</td>\n",
       "      <td>305</td>\n",
       "    </tr>\n",
       "  </tbody>\n",
       "</table>\n",
       "<p>1624 rows × 72 columns</p>\n",
       "</div>"
      ],
      "text/plain": [
       "      REGION  GARDA DIVISION  OFFENCE CODE  OFFENCE  TYPE OF OFFENCE  2003Q1  \\\n",
       "0          2               0           111       30                6       0   \n",
       "1          2               0           112       29                6       0   \n",
       "2          2               0           113       26                6       0   \n",
       "3          2               0            12       11                6       1   \n",
       "4          2               0            21       47               11      24   \n",
       "...      ...             ...           ...      ...              ...     ...   \n",
       "1619       0              10           136       52                9       8   \n",
       "1620       0              10           151       33                8       3   \n",
       "1621       0              10           152       36                8       0   \n",
       "1622       0              10           153       41                8       2   \n",
       "1623       0              10           157       34                8     134   \n",
       "\n",
       "      2003Q2  2003Q3  2003Q4  2004Q1  ...  2017Q2  2017Q3  2017Q4  2018Q1  \\\n",
       "0          0       0       0       0  ...       0       0       1       0   \n",
       "1          0       0       0       0  ...       0       0       0       1   \n",
       "2          0       0       0       0  ...       0       0       0       0   \n",
       "3          0       1       0       0  ...       1       1       1       0   \n",
       "4         15       5       5      14  ...      16       8      14      23   \n",
       "...      ...     ...     ...     ...  ...     ...     ...     ...     ...   \n",
       "1619       5       6       6       7  ...       8       5       3      10   \n",
       "1620       0       0       7       0  ...       2       3       0       2   \n",
       "1621       0       0       0       1  ...       1       0       0       1   \n",
       "1622       1       0       1       2  ...       1       2       1       0   \n",
       "1623     102     128     116     121  ...     280     318     308     410   \n",
       "\n",
       "      2018Q2  2018Q3  2018Q4  2019Q1  2019Q2  2019Q3  \n",
       "0          0       1       0       0       0       0  \n",
       "1          0       0       1       0       0       0  \n",
       "2          0       0       0       0       0       0  \n",
       "3          0       0       1       0       0       0  \n",
       "4         21      13      23      19      20      17  \n",
       "...      ...     ...     ...     ...     ...     ...  \n",
       "1619       4       5       5       6      16       9  \n",
       "1620       0       0       2       5       4       5  \n",
       "1621       0       0       0       0       0       1  \n",
       "1622       1       0       0       0       1       0  \n",
       "1623     447     393     455     437     417     305  \n",
       "\n",
       "[1624 rows x 72 columns]"
      ]
     },
     "execution_count": 8,
     "metadata": {},
     "output_type": "execute_result"
    }
   ],
   "source": [
    "df"
   ]
  },
  {
   "cell_type": "code",
   "execution_count": 9,
   "id": "69092448",
   "metadata": {},
   "outputs": [
    {
     "data": {
      "text/plain": [
       "array([2, 2, 2, ..., 0, 0, 0], dtype=int64)"
      ]
     },
     "execution_count": 9,
     "metadata": {},
     "output_type": "execute_result"
    }
   ],
   "source": [
    "lbl_encode=LabelEncoder()\n",
    "lbl_encode.fit_transform(df['REGION'])"
   ]
  },
  {
   "cell_type": "code",
   "execution_count": 10,
   "id": "4ea00b76",
   "metadata": {},
   "outputs": [
    {
     "data": {
      "text/plain": [
       "array([ 0,  0,  0, ..., 10, 10, 10], dtype=int64)"
      ]
     },
     "execution_count": 10,
     "metadata": {},
     "output_type": "execute_result"
    }
   ],
   "source": [
    "lbl_encode=LabelEncoder()\n",
    "lbl_encode.fit_transform(df['GARDA DIVISION'])"
   ]
  },
  {
   "cell_type": "code",
   "execution_count": 11,
   "id": "8ff886f7",
   "metadata": {},
   "outputs": [
    {
     "data": {
      "text/plain": [
       "array([30, 29, 26, ..., 36, 41, 34], dtype=int64)"
      ]
     },
     "execution_count": 11,
     "metadata": {},
     "output_type": "execute_result"
    }
   ],
   "source": [
    "lbl_encode=LabelEncoder()\n",
    "lbl_encode.fit_transform(df['OFFENCE'])"
   ]
  },
  {
   "cell_type": "code",
   "execution_count": 12,
   "id": "0de18421",
   "metadata": {},
   "outputs": [
    {
     "data": {
      "text/plain": [
       "array([6, 6, 6, ..., 8, 8, 8], dtype=int64)"
      ]
     },
     "execution_count": 12,
     "metadata": {},
     "output_type": "execute_result"
    }
   ],
   "source": [
    "lbl_encode=LabelEncoder()\n",
    "lbl_encode.fit_transform(df['TYPE OF OFFENCE'])"
   ]
  },
  {
   "cell_type": "code",
   "execution_count": 13,
   "id": "8bc74186",
   "metadata": {},
   "outputs": [
    {
     "data": {
      "text/html": [
       "<div>\n",
       "<style scoped>\n",
       "    .dataframe tbody tr th:only-of-type {\n",
       "        vertical-align: middle;\n",
       "    }\n",
       "\n",
       "    .dataframe tbody tr th {\n",
       "        vertical-align: top;\n",
       "    }\n",
       "\n",
       "    .dataframe thead th {\n",
       "        text-align: right;\n",
       "    }\n",
       "</style>\n",
       "<table border=\"1\" class=\"dataframe\">\n",
       "  <thead>\n",
       "    <tr style=\"text-align: right;\">\n",
       "      <th></th>\n",
       "      <th>REGION</th>\n",
       "      <th>GARDA DIVISION</th>\n",
       "      <th>OFFENCE CODE</th>\n",
       "      <th>OFFENCE</th>\n",
       "      <th>TYPE OF OFFENCE</th>\n",
       "      <th>2003Q1</th>\n",
       "      <th>2003Q2</th>\n",
       "      <th>2003Q3</th>\n",
       "      <th>2003Q4</th>\n",
       "      <th>2004Q1</th>\n",
       "      <th>...</th>\n",
       "      <th>2017Q2</th>\n",
       "      <th>2017Q3</th>\n",
       "      <th>2017Q4</th>\n",
       "      <th>2018Q1</th>\n",
       "      <th>2018Q2</th>\n",
       "      <th>2018Q3</th>\n",
       "      <th>2018Q4</th>\n",
       "      <th>2019Q1</th>\n",
       "      <th>2019Q2</th>\n",
       "      <th>2019Q3</th>\n",
       "    </tr>\n",
       "  </thead>\n",
       "  <tbody>\n",
       "    <tr>\n",
       "      <th>0</th>\n",
       "      <td>2</td>\n",
       "      <td>0</td>\n",
       "      <td>111</td>\n",
       "      <td>30</td>\n",
       "      <td>6</td>\n",
       "      <td>0</td>\n",
       "      <td>0</td>\n",
       "      <td>0</td>\n",
       "      <td>0</td>\n",
       "      <td>0</td>\n",
       "      <td>...</td>\n",
       "      <td>0</td>\n",
       "      <td>0</td>\n",
       "      <td>1</td>\n",
       "      <td>0</td>\n",
       "      <td>0</td>\n",
       "      <td>1</td>\n",
       "      <td>0</td>\n",
       "      <td>0</td>\n",
       "      <td>0</td>\n",
       "      <td>0</td>\n",
       "    </tr>\n",
       "    <tr>\n",
       "      <th>1</th>\n",
       "      <td>2</td>\n",
       "      <td>0</td>\n",
       "      <td>112</td>\n",
       "      <td>29</td>\n",
       "      <td>6</td>\n",
       "      <td>0</td>\n",
       "      <td>0</td>\n",
       "      <td>0</td>\n",
       "      <td>0</td>\n",
       "      <td>0</td>\n",
       "      <td>...</td>\n",
       "      <td>0</td>\n",
       "      <td>0</td>\n",
       "      <td>0</td>\n",
       "      <td>1</td>\n",
       "      <td>0</td>\n",
       "      <td>0</td>\n",
       "      <td>1</td>\n",
       "      <td>0</td>\n",
       "      <td>0</td>\n",
       "      <td>0</td>\n",
       "    </tr>\n",
       "    <tr>\n",
       "      <th>2</th>\n",
       "      <td>2</td>\n",
       "      <td>0</td>\n",
       "      <td>113</td>\n",
       "      <td>26</td>\n",
       "      <td>6</td>\n",
       "      <td>0</td>\n",
       "      <td>0</td>\n",
       "      <td>0</td>\n",
       "      <td>0</td>\n",
       "      <td>0</td>\n",
       "      <td>...</td>\n",
       "      <td>0</td>\n",
       "      <td>0</td>\n",
       "      <td>0</td>\n",
       "      <td>0</td>\n",
       "      <td>0</td>\n",
       "      <td>0</td>\n",
       "      <td>0</td>\n",
       "      <td>0</td>\n",
       "      <td>0</td>\n",
       "      <td>0</td>\n",
       "    </tr>\n",
       "    <tr>\n",
       "      <th>3</th>\n",
       "      <td>2</td>\n",
       "      <td>0</td>\n",
       "      <td>12</td>\n",
       "      <td>11</td>\n",
       "      <td>6</td>\n",
       "      <td>1</td>\n",
       "      <td>0</td>\n",
       "      <td>1</td>\n",
       "      <td>0</td>\n",
       "      <td>0</td>\n",
       "      <td>...</td>\n",
       "      <td>1</td>\n",
       "      <td>1</td>\n",
       "      <td>1</td>\n",
       "      <td>0</td>\n",
       "      <td>0</td>\n",
       "      <td>0</td>\n",
       "      <td>1</td>\n",
       "      <td>0</td>\n",
       "      <td>0</td>\n",
       "      <td>0</td>\n",
       "    </tr>\n",
       "    <tr>\n",
       "      <th>4</th>\n",
       "      <td>2</td>\n",
       "      <td>0</td>\n",
       "      <td>21</td>\n",
       "      <td>47</td>\n",
       "      <td>11</td>\n",
       "      <td>24</td>\n",
       "      <td>15</td>\n",
       "      <td>5</td>\n",
       "      <td>5</td>\n",
       "      <td>14</td>\n",
       "      <td>...</td>\n",
       "      <td>16</td>\n",
       "      <td>8</td>\n",
       "      <td>14</td>\n",
       "      <td>23</td>\n",
       "      <td>21</td>\n",
       "      <td>13</td>\n",
       "      <td>23</td>\n",
       "      <td>19</td>\n",
       "      <td>20</td>\n",
       "      <td>17</td>\n",
       "    </tr>\n",
       "  </tbody>\n",
       "</table>\n",
       "<p>5 rows × 72 columns</p>\n",
       "</div>"
      ],
      "text/plain": [
       "   REGION  GARDA DIVISION  OFFENCE CODE  OFFENCE  TYPE OF OFFENCE  2003Q1  \\\n",
       "0       2               0           111       30                6       0   \n",
       "1       2               0           112       29                6       0   \n",
       "2       2               0           113       26                6       0   \n",
       "3       2               0            12       11                6       1   \n",
       "4       2               0            21       47               11      24   \n",
       "\n",
       "   2003Q2  2003Q3  2003Q4  2004Q1  ...  2017Q2  2017Q3  2017Q4  2018Q1  \\\n",
       "0       0       0       0       0  ...       0       0       1       0   \n",
       "1       0       0       0       0  ...       0       0       0       1   \n",
       "2       0       0       0       0  ...       0       0       0       0   \n",
       "3       0       1       0       0  ...       1       1       1       0   \n",
       "4      15       5       5      14  ...      16       8      14      23   \n",
       "\n",
       "   2018Q2  2018Q3  2018Q4  2019Q1  2019Q2  2019Q3  \n",
       "0       0       1       0       0       0       0  \n",
       "1       0       0       1       0       0       0  \n",
       "2       0       0       0       0       0       0  \n",
       "3       0       0       1       0       0       0  \n",
       "4      21      13      23      19      20      17  \n",
       "\n",
       "[5 rows x 72 columns]"
      ]
     },
     "execution_count": 13,
     "metadata": {},
     "output_type": "execute_result"
    }
   ],
   "source": [
    "df.head()"
   ]
  },
  {
   "cell_type": "markdown",
   "id": "2b0ee4a1",
   "metadata": {},
   "source": [
    "# Test and Split"
   ]
  },
  {
   "cell_type": "code",
   "execution_count": 14,
   "id": "339f5551",
   "metadata": {},
   "outputs": [],
   "source": [
    "x=df.drop(\"OFFENCE\",axis=1)\n",
    "y=df[\"OFFENCE\"]"
   ]
  },
  {
   "cell_type": "code",
   "execution_count": 15,
   "id": "1ded959e",
   "metadata": {},
   "outputs": [
    {
     "name": "stdout",
     "output_type": "stream",
     "text": [
      "1299\n",
      "325\n"
     ]
    }
   ],
   "source": [
    "x_train, x_test, y_train, y_test = train_test_split(x, y, test_size=0.2, random_state=0)\n",
    "\n",
    "print(len(y_train))\n",
    "print(len(y_test))\n"
   ]
  },
  {
   "cell_type": "markdown",
   "id": "e2fcc035",
   "metadata": {},
   "source": [
    "# Decision Tree Classifier"
   ]
  },
  {
   "cell_type": "code",
   "execution_count": 16,
   "id": "6fdf4686",
   "metadata": {},
   "outputs": [
    {
     "data": {
      "text/plain": [
       "0.17846153846153845"
      ]
     },
     "execution_count": 16,
     "metadata": {},
     "output_type": "execute_result"
    }
   ],
   "source": [
    "from sklearn import tree\n",
    "dt_clf=tree.DecisionTreeClassifier(max_depth=5)\n",
    "dt_clf.fit(x_train, y_train)\n",
    "dt_clf.score(x_test, y_test)\n",
    "\n",
    "y_pred= dt_clf.predict(x_test)\n",
    "dt_clf.score(x_test, y_test)\n"
   ]
  },
  {
   "cell_type": "code",
   "execution_count": 17,
   "id": "fb1ac8f0",
   "metadata": {},
   "outputs": [
    {
     "data": {
      "text/plain": [
       "0.17846153846153845"
      ]
     },
     "execution_count": 17,
     "metadata": {},
     "output_type": "execute_result"
    }
   ],
   "source": [
    "y_pred1= dt_clf.predict(x_test)\n",
    "dt_clf.score(x_test, y_test)"
   ]
  },
  {
   "cell_type": "code",
   "execution_count": 18,
   "id": "a68bcee7",
   "metadata": {},
   "outputs": [
    {
     "name": "stdout",
     "output_type": "stream",
     "text": [
      "Decision Tree Classifier\n",
      "\n",
      "              precision    recall  f1-score   support\n",
      "\n",
      "           0       0.00      0.00      0.00         3\n",
      "           1       0.00      0.00      0.00         5\n",
      "           2       0.00      0.00      0.00         8\n",
      "           3       0.00      0.00      0.00        10\n",
      "           4       0.00      0.00      0.00         5\n",
      "           5       0.00      0.00      0.00         6\n",
      "           6       0.00      0.00      0.00         7\n",
      "           7       0.11      1.00      0.19         3\n",
      "           8       0.00      0.00      0.00         5\n",
      "           9       0.00      0.00      0.00         7\n",
      "          10       0.00      0.00      0.00         4\n",
      "          11       1.00      1.00      1.00         5\n",
      "          12       1.00      1.00      1.00         5\n",
      "          13       0.00      0.00      0.00         3\n",
      "          14       0.00      0.00      0.00         9\n",
      "          15       0.00      0.00      0.00         4\n",
      "          16       0.00      0.00      0.00         6\n",
      "          17       0.00      0.00      0.00         7\n",
      "          18       1.00      1.00      1.00         7\n",
      "          19       0.00      0.00      0.00        10\n",
      "          20       0.00      0.00      0.00         5\n",
      "          21       1.00      1.00      1.00         4\n",
      "          22       1.00      1.00      1.00         5\n",
      "          23       0.00      0.00      0.00        11\n",
      "          24       0.00      0.00      0.00         5\n",
      "          25       0.00      0.00      0.00         7\n",
      "          26       0.00      0.00      0.00         6\n",
      "          27       1.00      1.00      1.00         4\n",
      "          28       0.00      0.00      0.00         6\n",
      "          29       0.00      0.00      0.00         3\n",
      "          30       0.00      0.00      0.00         4\n",
      "          31       0.36      1.00      0.53         4\n",
      "          32       0.00      0.00      0.00         7\n",
      "          33       0.00      0.00      0.00         8\n",
      "          34       0.01      1.00      0.02         2\n",
      "          35       1.00      1.00      1.00         4\n",
      "          36       0.00      0.00      0.00         7\n",
      "          37       0.00      0.00      0.00         7\n",
      "          38       0.01      1.00      0.03         1\n",
      "          39       0.00      0.00      0.00         7\n",
      "          40       0.00      0.00      0.00         6\n",
      "          41       0.00      0.00      0.00         5\n",
      "          42       1.00      1.00      1.00         5\n",
      "          43       0.00      0.00      0.00         8\n",
      "          44       0.00      0.00      0.00         2\n",
      "          45       0.00      0.00      0.00         6\n",
      "          46       1.00      1.00      1.00         2\n",
      "          47       1.00      1.00      1.00         4\n",
      "          48       0.00      0.00      0.00         8\n",
      "          49       0.00      0.00      0.00         4\n",
      "          50       0.00      0.00      0.00         7\n",
      "          51       0.30      1.00      0.46         3\n",
      "          52       0.00      0.00      0.00         6\n",
      "          53       0.00      0.00      0.00         8\n",
      "          54       0.00      0.00      0.00         7\n",
      "          55       0.00      0.00      0.00         7\n",
      "          56       0.00      0.00      0.00         7\n",
      "          57       0.00      0.00      0.00         4\n",
      "\n",
      "    accuracy                           0.18       325\n",
      "   macro avg       0.19      0.26      0.19       325\n",
      "weighted avg       0.15      0.18      0.15       325\n",
      "\n",
      "\n",
      "\n",
      "Confusion matrix\n"
     ]
    },
    {
     "name": "stderr",
     "output_type": "stream",
     "text": [
      "C:\\ProgramData\\Anaconda3\\lib\\site-packages\\sklearn\\metrics\\_classification.py:1248: UndefinedMetricWarning: Precision and F-score are ill-defined and being set to 0.0 in labels with no predicted samples. Use `zero_division` parameter to control this behavior.\n",
      "  _warn_prf(average, modifier, msg_start, len(result))\n",
      "C:\\ProgramData\\Anaconda3\\lib\\site-packages\\sklearn\\metrics\\_classification.py:1248: UndefinedMetricWarning: Precision and F-score are ill-defined and being set to 0.0 in labels with no predicted samples. Use `zero_division` parameter to control this behavior.\n",
      "  _warn_prf(average, modifier, msg_start, len(result))\n",
      "C:\\ProgramData\\Anaconda3\\lib\\site-packages\\sklearn\\metrics\\_classification.py:1248: UndefinedMetricWarning: Precision and F-score are ill-defined and being set to 0.0 in labels with no predicted samples. Use `zero_division` parameter to control this behavior.\n",
      "  _warn_prf(average, modifier, msg_start, len(result))\n"
     ]
    }
   ],
   "source": [
    "print('Decision Tree Classifier' + '\\n')\n",
    "print(classification_report(y_test,y_pred1))\n",
    "\n",
    "print('\\n')\n",
    "\n",
    "print('Confusion matrix')"
   ]
  },
  {
   "cell_type": "code",
   "execution_count": 19,
   "id": "dc906d42",
   "metadata": {},
   "outputs": [
    {
     "data": {
      "image/png": "[encoded data removed]",
      "text/plain": [
       "<Figure size 432x288 with 2 Axes>"
      ]
     },
     "metadata": {
      "needs_background": "light"
     },
     "output_type": "display_data"
    }
   ],
   "source": [
    "import matplotlib.pyplot as plt\n",
    "from sklearn.metrics import plot_confusion_matrix\n",
    "plot_confusion_matrix(dt_clf, x_test, y_test)\n",
    "plt.show()"
   ]
  },
  {
   "cell_type": "code",
   "execution_count": 20,
   "id": "96a234ab",
   "metadata": {},
   "outputs": [],
   "source": [
    "#Accuracy= accuracy_score(y_test, y_pred) \n",
    "#Kappa= cohen_kappa_score(y_test, y_pred)\n",
    "#Accuracy, Kappa"
   ]
  },
  {
   "cell_type": "code",
   "execution_count": 21,
   "id": "3908cf4c",
   "metadata": {},
   "outputs": [],
   "source": [
    "#y_pred= dt_clf.predict(x_test)\n",
    "#from sklearn.metrics import confusion_matrix\n",
    "#confusion_matrix(y_test, y_pred)"
   ]
  },
  {
   "cell_type": "markdown",
   "id": "56da994c",
   "metadata": {},
   "source": [
    "# Random Forest Classifier"
   ]
  },
  {
   "cell_type": "code",
   "execution_count": 21,
   "id": "b77de00a",
   "metadata": {},
   "outputs": [
    {
     "data": {
      "text/plain": [
       "0.8523076923076923"
      ]
     },
     "execution_count": 21,
     "metadata": {},
     "output_type": "execute_result"
    }
   ],
   "source": [
    "from sklearn import ensemble\n",
    "import matplotlib.pyplot as plt\n",
    "from sklearn.metrics import plot_confusion_matrix\n",
    "from sklearn.svm import SVC\n",
    "rf_clf= ensemble.RandomForestClassifier(n_estimators=100)\n",
    "rf_clf.fit(x_train, y_train)\n",
    "rf_clf.score(x_train, y_train)\n",
    "y_pred= rf_clf.predict(x_test)\n",
    "rf_clf.score(x_test, y_test)"
   ]
  },
  {
   "cell_type": "code",
   "execution_count": 22,
   "id": "5278e0c6",
   "metadata": {},
   "outputs": [
    {
     "data": {
      "image/png": "[encoded data removed]",
      "text/plain": [
       "<Figure size 432x288 with 2 Axes>"
      ]
     },
     "metadata": {
      "needs_background": "light"
     },
     "output_type": "display_data"
    }
   ],
   "source": [
    "plot_confusion_matrix(rf_clf, x_test, y_test)\n",
    "plt.show()"
   ]
  },
  {
   "cell_type": "code",
   "execution_count": 23,
   "id": "949e75b1",
   "metadata": {},
   "outputs": [
    {
     "name": "stdout",
     "output_type": "stream",
     "text": [
      "Random Forest Classifier\n",
      "\n",
      "              precision    recall  f1-score   support\n",
      "\n",
      "           0       0.50      1.00      0.67         3\n",
      "           1       0.67      0.80      0.73         5\n",
      "           2       0.88      0.88      0.88         8\n",
      "           3       1.00      1.00      1.00        10\n",
      "           4       0.75      0.60      0.67         5\n",
      "           5       1.00      1.00      1.00         6\n",
      "           6       1.00      0.86      0.92         7\n",
      "           7       0.50      0.33      0.40         3\n",
      "           8       1.00      1.00      1.00         5\n",
      "           9       0.58      1.00      0.74         7\n",
      "          10       0.67      1.00      0.80         4\n",
      "          11       0.83      1.00      0.91         5\n",
      "          12       1.00      0.60      0.75         5\n",
      "          13       1.00      1.00      1.00         3\n",
      "          14       1.00      0.56      0.71         9\n",
      "          15       1.00      1.00      1.00         4\n",
      "          16       0.67      0.67      0.67         6\n",
      "          17       0.83      0.71      0.77         7\n",
      "          18       1.00      1.00      1.00         7\n",
      "          19       1.00      0.90      0.95        10\n",
      "          20       0.60      0.60      0.60         5\n",
      "          21       1.00      1.00      1.00         4\n",
      "          22       1.00      1.00      1.00         5\n",
      "          23       1.00      0.91      0.95        11\n",
      "          24       0.67      0.80      0.73         5\n",
      "          25       1.00      0.86      0.92         7\n",
      "          26       1.00      1.00      1.00         6\n",
      "          27       1.00      1.00      1.00         4\n",
      "          28       1.00      1.00      1.00         6\n",
      "          29       1.00      1.00      1.00         3\n",
      "          30       1.00      0.50      0.67         4\n",
      "          31       1.00      1.00      1.00         4\n",
      "          32       1.00      0.86      0.92         7\n",
      "          33       1.00      0.50      0.67         8\n",
      "          34       1.00      1.00      1.00         2\n",
      "          35       1.00      1.00      1.00         4\n",
      "          36       0.88      1.00      0.93         7\n",
      "          37       0.70      1.00      0.82         7\n",
      "          38       1.00      1.00      1.00         1\n",
      "          39       1.00      1.00      1.00         7\n",
      "          40       1.00      1.00      1.00         6\n",
      "          41       0.40      0.80      0.53         5\n",
      "          42       0.83      1.00      0.91         5\n",
      "          43       0.80      0.50      0.62         8\n",
      "          44       1.00      1.00      1.00         2\n",
      "          45       0.86      1.00      0.92         6\n",
      "          46       1.00      0.50      0.67         2\n",
      "          47       1.00      1.00      1.00         4\n",
      "          48       0.80      0.50      0.62         8\n",
      "          49       0.40      0.50      0.44         4\n",
      "          50       0.80      0.57      0.67         7\n",
      "          51       0.75      1.00      0.86         3\n",
      "          52       1.00      0.83      0.91         6\n",
      "          53       0.67      0.75      0.71         8\n",
      "          54       0.88      1.00      0.93         7\n",
      "          55       0.88      1.00      0.93         7\n",
      "          56       0.88      1.00      0.93         7\n",
      "          57       1.00      1.00      1.00         4\n",
      "\n",
      "    accuracy                           0.85       325\n",
      "   macro avg       0.87      0.86      0.85       325\n",
      "weighted avg       0.88      0.85      0.85       325\n",
      "\n",
      "\n",
      "\n",
      "Confusion matrix\n"
     ]
    }
   ],
   "source": [
    "print('Random Forest Classifier' + '\\n')\n",
    "print(classification_report(y_test,y_pred))\n",
    "\n",
    "print('\\n')\n",
    "\n",
    "print('Confusion matrix')"
   ]
  },
  {
   "cell_type": "code",
   "execution_count": null,
   "id": "47221d8a",
   "metadata": {},
   "outputs": [],
   "source": []
  },
  {
   "cell_type": "markdown",
   "id": "707657e0",
   "metadata": {},
   "source": [
    "# Naive Bayes Classifier"
   ]
  },
  {
   "cell_type": "code",
   "execution_count": 24,
   "id": "d90cd2e0",
   "metadata": {},
   "outputs": [
    {
     "data": {
      "text/plain": [
       "0.9969230769230769"
      ]
     },
     "execution_count": 24,
     "metadata": {},
     "output_type": "execute_result"
    }
   ],
   "source": [
    "from sklearn.naive_bayes import GaussianNB\n",
    "nb_clf= GaussianNB()\n",
    "nb_clf.fit(x_train, y_train)\n",
    "nb_clf.score(x_train, y_train)\n",
    "y_pred3= nb_clf.predict(x_test)\n",
    "nb_clf.score(x_test, y_test)"
   ]
  },
  {
   "cell_type": "markdown",
   "id": "c941a92f",
   "metadata": {},
   "source": []
  },
  {
   "cell_type": "code",
   "execution_count": 25,
   "id": "c74fa417",
   "metadata": {},
   "outputs": [
    {
     "name": "stdout",
     "output_type": "stream",
     "text": [
      "Naive Bayes Classifier\n",
      "\n",
      "              precision    recall  f1-score   support\n",
      "\n",
      "           0       1.00      1.00      1.00         3\n",
      "           1       1.00      1.00      1.00         5\n",
      "           2       1.00      1.00      1.00         8\n",
      "           3       1.00      1.00      1.00        10\n",
      "           4       1.00      1.00      1.00         5\n",
      "           5       1.00      1.00      1.00         6\n",
      "           6       1.00      1.00      1.00         7\n",
      "           7       1.00      1.00      1.00         3\n",
      "           8       1.00      1.00      1.00         5\n",
      "           9       1.00      1.00      1.00         7\n",
      "          10       1.00      1.00      1.00         4\n",
      "          11       1.00      1.00      1.00         5\n",
      "          12       1.00      1.00      1.00         5\n",
      "          13       1.00      1.00      1.00         3\n",
      "          14       1.00      1.00      1.00         9\n",
      "          15       1.00      1.00      1.00         4\n",
      "          16       0.86      1.00      0.92         6\n",
      "          17       1.00      1.00      1.00         7\n",
      "          18       1.00      1.00      1.00         7\n",
      "          19       1.00      0.90      0.95        10\n",
      "          20       1.00      1.00      1.00         5\n",
      "          21       1.00      1.00      1.00         4\n",
      "          22       1.00      1.00      1.00         5\n",
      "          23       1.00      1.00      1.00        11\n",
      "          24       1.00      1.00      1.00         5\n",
      "          25       1.00      1.00      1.00         7\n",
      "          26       1.00      1.00      1.00         6\n",
      "          27       1.00      1.00      1.00         4\n",
      "          28       1.00      1.00      1.00         6\n",
      "          29       1.00      1.00      1.00         3\n",
      "          30       1.00      1.00      1.00         4\n",
      "          31       1.00      1.00      1.00         4\n",
      "          32       1.00      1.00      1.00         7\n",
      "          33       1.00      1.00      1.00         8\n",
      "          34       1.00      1.00      1.00         2\n",
      "          35       1.00      1.00      1.00         4\n",
      "          36       1.00      1.00      1.00         7\n",
      "          37       1.00      1.00      1.00         7\n",
      "          38       1.00      1.00      1.00         1\n",
      "          39       1.00      1.00      1.00         7\n",
      "          40       1.00      1.00      1.00         6\n",
      "          41       1.00      1.00      1.00         5\n",
      "          42       1.00      1.00      1.00         5\n",
      "          43       1.00      1.00      1.00         8\n",
      "          44       1.00      1.00      1.00         2\n",
      "          45       1.00      1.00      1.00         6\n",
      "          46       1.00      1.00      1.00         2\n",
      "          47       1.00      1.00      1.00         4\n",
      "          48       1.00      1.00      1.00         8\n",
      "          49       1.00      1.00      1.00         4\n",
      "          50       1.00      1.00      1.00         7\n",
      "          51       1.00      1.00      1.00         3\n",
      "          52       1.00      1.00      1.00         6\n",
      "          53       1.00      1.00      1.00         8\n",
      "          54       1.00      1.00      1.00         7\n",
      "          55       1.00      1.00      1.00         7\n",
      "          56       1.00      1.00      1.00         7\n",
      "          57       1.00      1.00      1.00         4\n",
      "\n",
      "    accuracy                           1.00       325\n",
      "   macro avg       1.00      1.00      1.00       325\n",
      "weighted avg       1.00      1.00      1.00       325\n",
      "\n",
      "\n",
      "\n",
      "Confusion matrix\n"
     ]
    }
   ],
   "source": [
    "print('Naive Bayes Classifier' + '\\n')\n",
    "print(classification_report(y_test,y_pred3))\n",
    "\n",
    "print('\\n')\n",
    "\n",
    "print('Confusion matrix')"
   ]
  },
  {
   "cell_type": "code",
   "execution_count": 26,
   "id": "3357331f",
   "metadata": {},
   "outputs": [
    {
     "data": {
      "image/png": "[encoded data removed]",
      "text/plain": [
       "<Figure size 432x288 with 2 Axes>"
      ]
     },
     "metadata": {
      "needs_background": "light"
     },
     "output_type": "display_data"
    }
   ],
   "source": [
    "plot_confusion_matrix(nb_clf, x_test, y_test)\n",
    "plt.show()"
   ]
  },
  {
   "cell_type": "code",
   "execution_count": 27,
   "id": "39615cf2",
   "metadata": {},
   "outputs": [],
   "source": [
    "#from sklearn.model_selection import cross_val_score\n",
    "#scores = cross_val_score(rf_clf, x, y, scoring='r2', cv=10)\n",
    "#scores"
   ]
  },
  {
   "cell_type": "code",
   "execution_count": 53,
   "id": "1abb3f5d",
   "metadata": {},
   "outputs": [],
   "source": [
    "#print(np.mean(scores))"
   ]
  },
  {
   "cell_type": "code",
   "execution_count": 54,
   "id": "81381142",
   "metadata": {},
   "outputs": [],
   "source": [
    "#from sklearn.naive_bayes import GaussianNB\n",
    "#nb_clf= GaussianNB()\n",
    "#nb_clf.fit(x_train, y_train)\n",
    "#nb_clf.score(x_train, y_train)"
   ]
  },
  {
   "cell_type": "code",
   "execution_count": 55,
   "id": "7d88eaf8",
   "metadata": {},
   "outputs": [],
   "source": [
    "#from sklearn.model_selection import cross_val_score\n",
    "#scores = cross_val_score(nb_clf, x, y, scoring='r2', cv=10)\n",
    "#scores"
   ]
  },
  {
   "cell_type": "code",
   "execution_count": 56,
   "id": "f6ed2502",
   "metadata": {},
   "outputs": [],
   "source": [
    "#print(np.mean(scores))"
   ]
  },
  {
   "cell_type": "markdown",
   "id": "98335cbc",
   "metadata": {},
   "source": [
    "# K-Nearest Neighbour Classifier"
   ]
  },
  {
   "cell_type": "code",
   "execution_count": 28,
   "id": "52cdb402",
   "metadata": {},
   "outputs": [
    {
     "data": {
      "text/plain": [
       "0.76"
      ]
     },
     "execution_count": 28,
     "metadata": {},
     "output_type": "execute_result"
    }
   ],
   "source": [
    "from sklearn.neighbors import KNeighborsClassifier\n",
    "knn_clf= KNeighborsClassifier(n_neighbors=3)\n",
    "knn_clf.fit(x_train, y_train)\n",
    "knn_clf.score(x_train, y_train)\n",
    "y_pred4= knn_clf.predict(x_test)\n",
    "knn_clf.score(x_test, y_test)"
   ]
  },
  {
   "cell_type": "code",
   "execution_count": 29,
   "id": "3d48696c",
   "metadata": {},
   "outputs": [
    {
     "data": {
      "image/png": "[encoded data removed]",
      "text/plain": [
       "<Figure size 432x288 with 2 Axes>"
      ]
     },
     "metadata": {
      "needs_background": "light"
     },
     "output_type": "display_data"
    }
   ],
   "source": [
    "plot_confusion_matrix(knn_clf, x_test, y_test)\n",
    "plt.show()"
   ]
  },
  {
   "cell_type": "code",
   "execution_count": 30,
   "id": "4d1fa895",
   "metadata": {},
   "outputs": [
    {
     "name": "stdout",
     "output_type": "stream",
     "text": [
      "K-Nearest Neighbour Classifier\n",
      "\n",
      "              precision    recall  f1-score   support\n",
      "\n",
      "           0       1.00      0.33      0.50         3\n",
      "           1       0.14      0.20      0.17         5\n",
      "           2       0.71      0.62      0.67         8\n",
      "           3       1.00      1.00      1.00        10\n",
      "           4       0.43      0.60      0.50         5\n",
      "           5       1.00      1.00      1.00         6\n",
      "           6       1.00      1.00      1.00         7\n",
      "           7       1.00      1.00      1.00         3\n",
      "           8       1.00      1.00      1.00         5\n",
      "           9       1.00      1.00      1.00         7\n",
      "          10       0.80      1.00      0.89         4\n",
      "          11       1.00      1.00      1.00         5\n",
      "          12       0.75      0.60      0.67         5\n",
      "          13       0.75      1.00      0.86         3\n",
      "          14       1.00      0.67      0.80         9\n",
      "          15       1.00      1.00      1.00         4\n",
      "          16       0.67      1.00      0.80         6\n",
      "          17       0.67      0.57      0.62         7\n",
      "          18       1.00      1.00      1.00         7\n",
      "          19       0.67      0.20      0.31        10\n",
      "          20       0.00      0.00      0.00         5\n",
      "          21       1.00      1.00      1.00         4\n",
      "          22       1.00      0.40      0.57         5\n",
      "          23       1.00      1.00      1.00        11\n",
      "          24       0.25      0.40      0.31         5\n",
      "          25       1.00      1.00      1.00         7\n",
      "          26       0.60      1.00      0.75         6\n",
      "          27       1.00      0.50      0.67         4\n",
      "          28       1.00      1.00      1.00         6\n",
      "          29       0.00      0.00      0.00         3\n",
      "          30       1.00      0.25      0.40         4\n",
      "          31       0.80      1.00      0.89         4\n",
      "          32       1.00      0.86      0.92         7\n",
      "          33       1.00      0.38      0.55         8\n",
      "          34       0.67      1.00      0.80         2\n",
      "          35       0.50      1.00      0.67         4\n",
      "          36       0.78      1.00      0.88         7\n",
      "          37       0.78      1.00      0.88         7\n",
      "          38       1.00      1.00      1.00         1\n",
      "          39       1.00      1.00      1.00         7\n",
      "          40       1.00      1.00      1.00         6\n",
      "          41       0.40      0.80      0.53         5\n",
      "          42       0.67      0.80      0.73         5\n",
      "          43       0.67      0.75      0.71         8\n",
      "          44       0.67      1.00      0.80         2\n",
      "          45       1.00      0.83      0.91         6\n",
      "          46       0.14      0.50      0.22         2\n",
      "          47       1.00      0.75      0.86         4\n",
      "          48       0.67      0.25      0.36         8\n",
      "          49       0.67      1.00      0.80         4\n",
      "          50       1.00      0.43      0.60         7\n",
      "          51       0.60      1.00      0.75         3\n",
      "          52       1.00      0.50      0.67         6\n",
      "          53       1.00      0.88      0.93         8\n",
      "          54       0.88      1.00      0.93         7\n",
      "          55       1.00      0.71      0.83         7\n",
      "          56       0.83      0.71      0.77         7\n",
      "          57       0.23      0.75      0.35         4\n",
      "\n",
      "    accuracy                           0.76       325\n",
      "   macro avg       0.78      0.76      0.74       325\n",
      "weighted avg       0.81      0.76      0.75       325\n",
      "\n",
      "\n",
      "\n",
      "Confusion matrix\n"
     ]
    },
    {
     "name": "stderr",
     "output_type": "stream",
     "text": [
      "C:\\ProgramData\\Anaconda3\\lib\\site-packages\\sklearn\\metrics\\_classification.py:1248: UndefinedMetricWarning: Precision and F-score are ill-defined and being set to 0.0 in labels with no predicted samples. Use `zero_division` parameter to control this behavior.\n",
      "  _warn_prf(average, modifier, msg_start, len(result))\n",
      "C:\\ProgramData\\Anaconda3\\lib\\site-packages\\sklearn\\metrics\\_classification.py:1248: UndefinedMetricWarning: Precision and F-score are ill-defined and being set to 0.0 in labels with no predicted samples. Use `zero_division` parameter to control this behavior.\n",
      "  _warn_prf(average, modifier, msg_start, len(result))\n",
      "C:\\ProgramData\\Anaconda3\\lib\\site-packages\\sklearn\\metrics\\_classification.py:1248: UndefinedMetricWarning: Precision and F-score are ill-defined and being set to 0.0 in labels with no predicted samples. Use `zero_division` parameter to control this behavior.\n",
      "  _warn_prf(average, modifier, msg_start, len(result))\n"
     ]
    }
   ],
   "source": [
    "print('K-Nearest Neighbour Classifier' + '\\n')\n",
    "print(classification_report(y_test,y_pred4))\n",
    "\n",
    "print('\\n')\n",
    "\n",
    "print('Confusion matrix')"
   ]
  },
  {
   "cell_type": "code",
   "execution_count": null,
   "id": "9aeded0f",
   "metadata": {},
   "outputs": [],
   "source": []
  },
  {
   "cell_type": "code",
   "execution_count": null,
   "id": "9a3144fb",
   "metadata": {},
   "outputs": [],
   "source": []
  },
  {
   "cell_type": "markdown",
   "id": "44e38e87",
   "metadata": {},
   "source": [
    "# Logistic Regression Classifier"
   ]
  },
  {
   "cell_type": "code",
   "execution_count": 31,
   "id": "b83b5eb2",
   "metadata": {},
   "outputs": [
    {
     "name": "stderr",
     "output_type": "stream",
     "text": [
      "C:\\ProgramData\\Anaconda3\\lib\\site-packages\\sklearn\\linear_model\\_logistic.py:763: ConvergenceWarning: lbfgs failed to converge (status=1):\n",
      "STOP: TOTAL NO. of ITERATIONS REACHED LIMIT.\n",
      "\n",
      "Increase the number of iterations (max_iter) or scale the data as shown in:\n",
      "    https://scikit-learn.org/stable/modules/preprocessing.html\n",
      "Please also refer to the documentation for alternative solver options:\n",
      "    https://scikit-learn.org/stable/modules/linear_model.html#logistic-regression\n",
      "  n_iter_i = _check_optimize_result(\n"
     ]
    },
    {
     "data": {
      "text/plain": [
       "0.5323076923076923"
      ]
     },
     "execution_count": 31,
     "metadata": {},
     "output_type": "execute_result"
    }
   ],
   "source": [
    "from sklearn.linear_model import LogisticRegression\n",
    "lr_clf= LogisticRegression()\n",
    "lr_clf.fit(x_train, y_train)\n",
    "lr_clf.score(x_train, y_train)\n",
    "y_pred5= lr_clf.predict(x_test)\n",
    "lr_clf.score(x_test, y_test)"
   ]
  },
  {
   "cell_type": "code",
   "execution_count": 32,
   "id": "5a969295",
   "metadata": {},
   "outputs": [
    {
     "data": {
      "image/png": "[encoded data removed]",
      "text/plain": [
       "<Figure size 432x288 with 2 Axes>"
      ]
     },
     "metadata": {
      "needs_background": "light"
     },
     "output_type": "display_data"
    }
   ],
   "source": [
    "plot_confusion_matrix(lr_clf, x_test, y_test)\n",
    "plt.show()"
   ]
  },
  {
   "cell_type": "code",
   "execution_count": 33,
   "id": "c174baf2",
   "metadata": {},
   "outputs": [
    {
     "name": "stdout",
     "output_type": "stream",
     "text": [
      "Logistic Regression Classifier\n",
      "\n",
      "              precision    recall  f1-score   support\n",
      "\n",
      "           0       0.75      1.00      0.86         3\n",
      "           1       0.00      0.00      0.00         5\n",
      "           2       0.62      0.62      0.62         8\n",
      "           3       1.00      0.70      0.82        10\n",
      "           4       0.50      0.80      0.62         5\n",
      "           5       1.00      0.17      0.29         6\n",
      "           6       0.75      0.86      0.80         7\n",
      "           7       0.20      0.33      0.25         3\n",
      "           8       0.50      0.80      0.62         5\n",
      "           9       0.86      0.86      0.86         7\n",
      "          10       0.00      0.00      0.00         4\n",
      "          11       0.00      0.00      0.00         5\n",
      "          12       0.00      0.00      0.00         5\n",
      "          13       1.00      1.00      1.00         3\n",
      "          14       1.00      0.78      0.88         9\n",
      "          15       1.00      1.00      1.00         4\n",
      "          16       0.50      0.67      0.57         6\n",
      "          17       0.50      0.14      0.22         7\n",
      "          18       1.00      0.43      0.60         7\n",
      "          19       0.00      0.00      0.00        10\n",
      "          20       1.00      0.20      0.33         5\n",
      "          21       1.00      1.00      1.00         4\n",
      "          22       0.75      0.60      0.67         5\n",
      "          23       1.00      0.82      0.90        11\n",
      "          24       0.00      0.00      0.00         5\n",
      "          25       0.55      0.86      0.67         7\n",
      "          26       0.00      0.00      0.00         6\n",
      "          27       1.00      0.50      0.67         4\n",
      "          28       0.44      0.67      0.53         6\n",
      "          29       0.00      0.00      0.00         3\n",
      "          30       0.00      0.00      0.00         4\n",
      "          31       1.00      0.75      0.86         4\n",
      "          32       1.00      0.57      0.73         7\n",
      "          33       0.50      0.38      0.43         8\n",
      "          34       0.50      1.00      0.67         2\n",
      "          35       1.00      0.50      0.67         4\n",
      "          36       0.67      0.29      0.40         7\n",
      "          37       0.50      0.29      0.36         7\n",
      "          38       0.00      0.00      0.00         1\n",
      "          39       0.58      1.00      0.74         7\n",
      "          40       1.00      1.00      1.00         6\n",
      "          41       0.00      0.00      0.00         5\n",
      "          42       0.38      1.00      0.56         5\n",
      "          43       0.50      0.38      0.43         8\n",
      "          44       0.50      1.00      0.67         2\n",
      "          45       0.44      0.67      0.53         6\n",
      "          46       0.00      0.00      0.00         2\n",
      "          47       1.00      1.00      1.00         4\n",
      "          48       0.33      0.50      0.40         8\n",
      "          49       0.09      0.25      0.13         4\n",
      "          50       0.50      0.29      0.36         7\n",
      "          51       0.12      0.67      0.21         3\n",
      "          52       1.00      0.33      0.50         6\n",
      "          53       0.56      0.62      0.59         8\n",
      "          54       0.78      1.00      0.88         7\n",
      "          55       1.00      0.86      0.92         7\n",
      "          56       0.75      0.86      0.80         7\n",
      "          57       0.10      0.25      0.14         4\n",
      "\n",
      "    accuracy                           0.53       325\n",
      "   macro avg       0.55      0.52      0.50       325\n",
      "weighted avg       0.59      0.53      0.52       325\n",
      "\n",
      "\n",
      "\n",
      "Confusion matrix\n"
     ]
    },
    {
     "name": "stderr",
     "output_type": "stream",
     "text": [
      "C:\\ProgramData\\Anaconda3\\lib\\site-packages\\sklearn\\metrics\\_classification.py:1248: UndefinedMetricWarning: Precision and F-score are ill-defined and being set to 0.0 in labels with no predicted samples. Use `zero_division` parameter to control this behavior.\n",
      "  _warn_prf(average, modifier, msg_start, len(result))\n",
      "C:\\ProgramData\\Anaconda3\\lib\\site-packages\\sklearn\\metrics\\_classification.py:1248: UndefinedMetricWarning: Precision and F-score are ill-defined and being set to 0.0 in labels with no predicted samples. Use `zero_division` parameter to control this behavior.\n",
      "  _warn_prf(average, modifier, msg_start, len(result))\n",
      "C:\\ProgramData\\Anaconda3\\lib\\site-packages\\sklearn\\metrics\\_classification.py:1248: UndefinedMetricWarning: Precision and F-score are ill-defined and being set to 0.0 in labels with no predicted samples. Use `zero_division` parameter to control this behavior.\n",
      "  _warn_prf(average, modifier, msg_start, len(result))\n"
     ]
    }
   ],
   "source": [
    "print('Logistic Regression Classifier' + '\\n')\n",
    "print(classification_report(y_test,y_pred5))\n",
    "\n",
    "print('\\n')\n",
    "\n",
    "print('Confusion matrix')"
   ]
  },
  {
   "cell_type": "code",
   "execution_count": 95,
   "id": "1ceadb6b",
   "metadata": {},
   "outputs": [
    {
     "ename": "SyntaxError",
     "evalue": "invalid syntax (Temp/ipykernel_16704/2084767577.py, line 2)",
     "output_type": "error",
     "traceback": [
      "\u001b[1;36m  File \u001b[1;32m\"C:\\Users\\malak\\AppData\\Local\\Temp/ipykernel_16704/2084767577.py\"\u001b[1;36m, line \u001b[1;32m2\u001b[0m\n\u001b[1;33m    np.array, predicted_classes : np.array, sorted_labels : list):\u001b[0m\n\u001b[1;37m    ^\u001b[0m\n\u001b[1;31mSyntaxError\u001b[0m\u001b[1;31m:\u001b[0m invalid syntax\n"
     ]
    }
   ],
   "source": [
    "\n"
   ]
  },
  {
   "cell_type": "code",
   "execution_count": null,
   "id": "ff2c3334",
   "metadata": {},
   "outputs": [],
   "source": []
  }
 ],
 "metadata": {
  "kernelspec": {
   "display_name": "Python 3 (ipykernel)",
   "language": "python",
   "name": "python3"
  },
  "language_info": {
   "codemirror_mode": {
    "name": "ipython",
    "version": 3
   },
   "file_extension": ".py",
   "mimetype": "text/x-python",
   "name": "python",
   "nbconvert_exporter": "python",
   "pygments_lexer": "ipython3",
   "version": "3.9.7"
  }
 },
 "nbformat": 4,
 "nbformat_minor": 5
}
