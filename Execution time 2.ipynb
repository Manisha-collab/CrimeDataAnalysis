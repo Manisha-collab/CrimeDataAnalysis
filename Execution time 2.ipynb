{
 "cells": [
  {
   "cell_type": "markdown",
   "id": "355243cd",
   "metadata": {},
   "source": [
    "# Load Data"
   ]
  },
  {
   "cell_type": "code",
   "execution_count": 1,
   "id": "b8df70da",
   "metadata": {},
   "outputs": [],
   "source": [
    "import pandas as pd\n",
    "import numpy as np\n",
    "import matplotlib.pyplot as plt\n",
    "import seaborn as sns\n",
    "from sklearn.ensemble import RandomForestClassifier\n",
    "from sklearn.svm import SVC\n",
    "from sklearn import svm\n",
    "from sklearn.neural_network import MLPClassifier\n",
    "from sklearn.metrics import confusion_matrix, classification_report\n",
    "from sklearn.preprocessing import StandardScaler, LabelEncoder\n",
    "from sklearn.model_selection import train_test_split\n",
    "%matplotlib inline\n",
    "from sklearn.metrics import accuracy_score, cohen_kappa_score\n",
    "from sklearn.model_selection import StratifiedKFold"
   ]
  },
  {
   "cell_type": "markdown",
   "id": "f53c7d07",
   "metadata": {},
   "source": [
    "# Import data"
   ]
  },
  {
   "cell_type": "code",
   "execution_count": 2,
   "id": "1886dfbf",
   "metadata": {},
   "outputs": [],
   "source": [
    "df=pd.read_csv('crime 1.csv')\n",
    "df=pd.read_csv('crime 1.csv')\n"
   ]
  },
  {
   "cell_type": "code",
   "execution_count": 3,
   "id": "630ce9fa",
   "metadata": {},
   "outputs": [
    {
     "data": {
      "text/html": [
       "<div>\n",
       "<style scoped>\n",
       "    .dataframe tbody tr th:only-of-type {\n",
       "        vertical-align: middle;\n",
       "    }\n",
       "\n",
       "    .dataframe tbody tr th {\n",
       "        vertical-align: top;\n",
       "    }\n",
       "\n",
       "    .dataframe thead th {\n",
       "        text-align: right;\n",
       "    }\n",
       "</style>\n",
       "<table border=\"1\" class=\"dataframe\">\n",
       "  <thead>\n",
       "    <tr style=\"text-align: right;\">\n",
       "      <th></th>\n",
       "      <th>incident_id</th>\n",
       "      <th>offense_id</th>\n",
       "      <th>OFFENSE_CODE</th>\n",
       "      <th>OFFENSE_CODE_EXTENSION</th>\n",
       "      <th>OFFENSE_TYPE_ID</th>\n",
       "      <th>OFFENSE_CATEGORY_ID</th>\n",
       "      <th>FIRST_OCCURRENCE_DATE</th>\n",
       "      <th>LAST_OCCURRENCE_DATE</th>\n",
       "      <th>REPORTED_DATE</th>\n",
       "      <th>INCIDENT_ADDRESS</th>\n",
       "      <th>GEO_X</th>\n",
       "      <th>GEO_Y</th>\n",
       "      <th>GEO_LON</th>\n",
       "      <th>GEO_LAT</th>\n",
       "      <th>DISTRICT_ID</th>\n",
       "      <th>PRECINCT_ID</th>\n",
       "      <th>NEIGHBORHOOD_ID</th>\n",
       "      <th>IS_CRIME</th>\n",
       "      <th>IS_TRAFFIC</th>\n",
       "    </tr>\n",
       "  </thead>\n",
       "  <tbody>\n",
       "    <tr>\n",
       "      <th>0</th>\n",
       "      <td>2.022600e+10</td>\n",
       "      <td>2.022600e+16</td>\n",
       "      <td>2999</td>\n",
       "      <td>0</td>\n",
       "      <td>criminal-mischief-other</td>\n",
       "      <td>public-disorder</td>\n",
       "      <td>01-04-2022 11:30</td>\n",
       "      <td>01-04-2022 12:00</td>\n",
       "      <td>01-04-2022 20:36</td>\n",
       "      <td>128 S CANOSA CT                               ...</td>\n",
       "      <td>3135366.0</td>\n",
       "      <td>1685410.0</td>\n",
       "      <td>-105.018825</td>\n",
       "      <td>39.714268</td>\n",
       "      <td>4.0</td>\n",
       "      <td>411.0</td>\n",
       "      <td>valverde</td>\n",
       "      <td>1</td>\n",
       "      <td>0</td>\n",
       "    </tr>\n",
       "    <tr>\n",
       "      <th>1</th>\n",
       "      <td>2.022332e+07</td>\n",
       "      <td>2.022330e+13</td>\n",
       "      <td>2999</td>\n",
       "      <td>0</td>\n",
       "      <td>criminal-mischief-other</td>\n",
       "      <td>public-disorder</td>\n",
       "      <td>01-03-2022 06:45</td>\n",
       "      <td>NaN</td>\n",
       "      <td>01-03-2022 11:01</td>\n",
       "      <td>650 15TH ST                                   ...</td>\n",
       "      <td>3142454.0</td>\n",
       "      <td>1696151.0</td>\n",
       "      <td>-104.993418</td>\n",
       "      <td>39.743649</td>\n",
       "      <td>6.0</td>\n",
       "      <td>611.0</td>\n",
       "      <td>cbd</td>\n",
       "      <td>1</td>\n",
       "      <td>0</td>\n",
       "    </tr>\n",
       "    <tr>\n",
       "      <th>2</th>\n",
       "      <td>2.022309e+07</td>\n",
       "      <td>2.022310e+13</td>\n",
       "      <td>2999</td>\n",
       "      <td>0</td>\n",
       "      <td>criminal-mischief-other</td>\n",
       "      <td>public-disorder</td>\n",
       "      <td>01-03-2022 01:00</td>\n",
       "      <td>NaN</td>\n",
       "      <td>01-03-2022 06:11</td>\n",
       "      <td>919 E COLFAX AVE                              ...</td>\n",
       "      <td>3147484.0</td>\n",
       "      <td>1694898.0</td>\n",
       "      <td>-104.975557</td>\n",
       "      <td>39.740130</td>\n",
       "      <td>6.0</td>\n",
       "      <td>621.0</td>\n",
       "      <td>north-capitol-hill</td>\n",
       "      <td>1</td>\n",
       "      <td>0</td>\n",
       "    </tr>\n",
       "    <tr>\n",
       "      <th>3</th>\n",
       "      <td>2.022400e+07</td>\n",
       "      <td>2.022400e+13</td>\n",
       "      <td>2999</td>\n",
       "      <td>0</td>\n",
       "      <td>criminal-mischief-other</td>\n",
       "      <td>public-disorder</td>\n",
       "      <td>01-03-2022 19:47</td>\n",
       "      <td>NaN</td>\n",
       "      <td>01-03-2022 21:12</td>\n",
       "      <td>2345 W ALAMEDA AVE                            ...</td>\n",
       "      <td>3136478.0</td>\n",
       "      <td>1684414.0</td>\n",
       "      <td>-105.014892</td>\n",
       "      <td>39.711518</td>\n",
       "      <td>4.0</td>\n",
       "      <td>411.0</td>\n",
       "      <td>valverde</td>\n",
       "      <td>1</td>\n",
       "      <td>0</td>\n",
       "    </tr>\n",
       "    <tr>\n",
       "      <th>4</th>\n",
       "      <td>2.022396e+07</td>\n",
       "      <td>2.022400e+13</td>\n",
       "      <td>2999</td>\n",
       "      <td>0</td>\n",
       "      <td>criminal-mischief-other</td>\n",
       "      <td>public-disorder</td>\n",
       "      <td>01-03-2022 17:06</td>\n",
       "      <td>NaN</td>\n",
       "      <td>01-03-2022 20:31</td>\n",
       "      <td>7800 E SMITH RD                               ...</td>\n",
       "      <td>3169237.0</td>\n",
       "      <td>1705800.0</td>\n",
       "      <td>-104.897950</td>\n",
       "      <td>39.769688</td>\n",
       "      <td>5.0</td>\n",
       "      <td>512.0</td>\n",
       "      <td>central-park</td>\n",
       "      <td>1</td>\n",
       "      <td>0</td>\n",
       "    </tr>\n",
       "    <tr>\n",
       "      <th>5</th>\n",
       "      <td>2.022390e+07</td>\n",
       "      <td>2.022390e+13</td>\n",
       "      <td>2999</td>\n",
       "      <td>0</td>\n",
       "      <td>criminal-mischief-other</td>\n",
       "      <td>public-disorder</td>\n",
       "      <td>01-03-2022 16:40</td>\n",
       "      <td>NaN</td>\n",
       "      <td>01-03-2022 19:07</td>\n",
       "      <td>857 E COLFAX AVE                              ...</td>\n",
       "      <td>3147195.0</td>\n",
       "      <td>1695029.0</td>\n",
       "      <td>-104.976582</td>\n",
       "      <td>39.740495</td>\n",
       "      <td>6.0</td>\n",
       "      <td>621.0</td>\n",
       "      <td>north-capitol-hill</td>\n",
       "      <td>1</td>\n",
       "      <td>0</td>\n",
       "    </tr>\n",
       "    <tr>\n",
       "      <th>6</th>\n",
       "      <td>2.022390e+07</td>\n",
       "      <td>2.022390e+13</td>\n",
       "      <td>2999</td>\n",
       "      <td>0</td>\n",
       "      <td>criminal-mischief-other</td>\n",
       "      <td>public-disorder</td>\n",
       "      <td>01-03-2022 16:19</td>\n",
       "      <td>NaN</td>\n",
       "      <td>01-03-2022 16:21</td>\n",
       "      <td>1501 S COLORADO BLVD                          ...</td>\n",
       "      <td>3157325.0</td>\n",
       "      <td>1676368.0</td>\n",
       "      <td>-104.940969</td>\n",
       "      <td>39.689101</td>\n",
       "      <td>3.0</td>\n",
       "      <td>312.0</td>\n",
       "      <td>cory-merrill</td>\n",
       "      <td>1</td>\n",
       "      <td>0</td>\n",
       "    </tr>\n",
       "    <tr>\n",
       "      <th>7</th>\n",
       "      <td>2.022389e+07</td>\n",
       "      <td>2.022390e+13</td>\n",
       "      <td>2999</td>\n",
       "      <td>0</td>\n",
       "      <td>criminal-mischief-other</td>\n",
       "      <td>public-disorder</td>\n",
       "      <td>01-03-2022 16:15</td>\n",
       "      <td>NaN</td>\n",
       "      <td>01-03-2022 23:05</td>\n",
       "      <td>1133 N LINCOLN ST                             ...</td>\n",
       "      <td>3144418.0</td>\n",
       "      <td>1692850.0</td>\n",
       "      <td>-104.986500</td>\n",
       "      <td>39.734556</td>\n",
       "      <td>6.0</td>\n",
       "      <td>623.0</td>\n",
       "      <td>capitol-hill</td>\n",
       "      <td>1</td>\n",
       "      <td>0</td>\n",
       "    </tr>\n",
       "    <tr>\n",
       "      <th>8</th>\n",
       "      <td>2.022808e+07</td>\n",
       "      <td>2.022810e+13</td>\n",
       "      <td>2999</td>\n",
       "      <td>0</td>\n",
       "      <td>criminal-mischief-other</td>\n",
       "      <td>public-disorder</td>\n",
       "      <td>01-05-2022 19:00</td>\n",
       "      <td>01-06-2022 07:00</td>\n",
       "      <td>01-06-2022 09:03</td>\n",
       "      <td>2500 E CHERRY CREEK S DR                      ...</td>\n",
       "      <td>3152806.0</td>\n",
       "      <td>1685804.0</td>\n",
       "      <td>-104.956826</td>\n",
       "      <td>39.715080</td>\n",
       "      <td>3.0</td>\n",
       "      <td>311.0</td>\n",
       "      <td>belcaro</td>\n",
       "      <td>1</td>\n",
       "      <td>0</td>\n",
       "    </tr>\n",
       "    <tr>\n",
       "      <th>9</th>\n",
       "      <td>2.022456e+07</td>\n",
       "      <td>2.022460e+13</td>\n",
       "      <td>2999</td>\n",
       "      <td>0</td>\n",
       "      <td>criminal-mischief-other</td>\n",
       "      <td>public-disorder</td>\n",
       "      <td>01-04-2022 04:30</td>\n",
       "      <td>01-04-2022 04:40</td>\n",
       "      <td>01-04-2022 05:09</td>\n",
       "      <td>620 N SANTA FE DR                             ...</td>\n",
       "      <td>3141081.0</td>\n",
       "      <td>1689737.0</td>\n",
       "      <td>-104.998426</td>\n",
       "      <td>39.726062</td>\n",
       "      <td>1.0</td>\n",
       "      <td>123.0</td>\n",
       "      <td>lincoln-park</td>\n",
       "      <td>1</td>\n",
       "      <td>0</td>\n",
       "    </tr>\n",
       "  </tbody>\n",
       "</table>\n",
       "</div>"
      ],
      "text/plain": [
       "    incident_id    offense_id  OFFENSE_CODE  OFFENSE_CODE_EXTENSION  \\\n",
       "0  2.022600e+10  2.022600e+16          2999                       0   \n",
       "1  2.022332e+07  2.022330e+13          2999                       0   \n",
       "2  2.022309e+07  2.022310e+13          2999                       0   \n",
       "3  2.022400e+07  2.022400e+13          2999                       0   \n",
       "4  2.022396e+07  2.022400e+13          2999                       0   \n",
       "5  2.022390e+07  2.022390e+13          2999                       0   \n",
       "6  2.022390e+07  2.022390e+13          2999                       0   \n",
       "7  2.022389e+07  2.022390e+13          2999                       0   \n",
       "8  2.022808e+07  2.022810e+13          2999                       0   \n",
       "9  2.022456e+07  2.022460e+13          2999                       0   \n",
       "\n",
       "           OFFENSE_TYPE_ID OFFENSE_CATEGORY_ID FIRST_OCCURRENCE_DATE  \\\n",
       "0  criminal-mischief-other     public-disorder      01-04-2022 11:30   \n",
       "1  criminal-mischief-other     public-disorder      01-03-2022 06:45   \n",
       "2  criminal-mischief-other     public-disorder      01-03-2022 01:00   \n",
       "3  criminal-mischief-other     public-disorder      01-03-2022 19:47   \n",
       "4  criminal-mischief-other     public-disorder      01-03-2022 17:06   \n",
       "5  criminal-mischief-other     public-disorder      01-03-2022 16:40   \n",
       "6  criminal-mischief-other     public-disorder      01-03-2022 16:19   \n",
       "7  criminal-mischief-other     public-disorder      01-03-2022 16:15   \n",
       "8  criminal-mischief-other     public-disorder      01-05-2022 19:00   \n",
       "9  criminal-mischief-other     public-disorder      01-04-2022 04:30   \n",
       "\n",
       "  LAST_OCCURRENCE_DATE     REPORTED_DATE  \\\n",
       "0     01-04-2022 12:00  01-04-2022 20:36   \n",
       "1                  NaN  01-03-2022 11:01   \n",
       "2                  NaN  01-03-2022 06:11   \n",
       "3                  NaN  01-03-2022 21:12   \n",
       "4                  NaN  01-03-2022 20:31   \n",
       "5                  NaN  01-03-2022 19:07   \n",
       "6                  NaN  01-03-2022 16:21   \n",
       "7                  NaN  01-03-2022 23:05   \n",
       "8     01-06-2022 07:00  01-06-2022 09:03   \n",
       "9     01-04-2022 04:40  01-04-2022 05:09   \n",
       "\n",
       "                                    INCIDENT_ADDRESS      GEO_X      GEO_Y  \\\n",
       "0  128 S CANOSA CT                               ...  3135366.0  1685410.0   \n",
       "1  650 15TH ST                                   ...  3142454.0  1696151.0   \n",
       "2  919 E COLFAX AVE                              ...  3147484.0  1694898.0   \n",
       "3  2345 W ALAMEDA AVE                            ...  3136478.0  1684414.0   \n",
       "4  7800 E SMITH RD                               ...  3169237.0  1705800.0   \n",
       "5  857 E COLFAX AVE                              ...  3147195.0  1695029.0   \n",
       "6  1501 S COLORADO BLVD                          ...  3157325.0  1676368.0   \n",
       "7  1133 N LINCOLN ST                             ...  3144418.0  1692850.0   \n",
       "8  2500 E CHERRY CREEK S DR                      ...  3152806.0  1685804.0   \n",
       "9  620 N SANTA FE DR                             ...  3141081.0  1689737.0   \n",
       "\n",
       "      GEO_LON    GEO_LAT  DISTRICT_ID  PRECINCT_ID     NEIGHBORHOOD_ID  \\\n",
       "0 -105.018825  39.714268          4.0        411.0            valverde   \n",
       "1 -104.993418  39.743649          6.0        611.0                 cbd   \n",
       "2 -104.975557  39.740130          6.0        621.0  north-capitol-hill   \n",
       "3 -105.014892  39.711518          4.0        411.0            valverde   \n",
       "4 -104.897950  39.769688          5.0        512.0        central-park   \n",
       "5 -104.976582  39.740495          6.0        621.0  north-capitol-hill   \n",
       "6 -104.940969  39.689101          3.0        312.0        cory-merrill   \n",
       "7 -104.986500  39.734556          6.0        623.0        capitol-hill   \n",
       "8 -104.956826  39.715080          3.0        311.0             belcaro   \n",
       "9 -104.998426  39.726062          1.0        123.0        lincoln-park   \n",
       "\n",
       "   IS_CRIME  IS_TRAFFIC  \n",
       "0         1           0  \n",
       "1         1           0  \n",
       "2         1           0  \n",
       "3         1           0  \n",
       "4         1           0  \n",
       "5         1           0  \n",
       "6         1           0  \n",
       "7         1           0  \n",
       "8         1           0  \n",
       "9         1           0  "
      ]
     },
     "execution_count": 3,
     "metadata": {},
     "output_type": "execute_result"
    }
   ],
   "source": [
    "df.head(10)"
   ]
  },
  {
   "cell_type": "code",
   "execution_count": 4,
   "id": "77289697",
   "metadata": {},
   "outputs": [
    {
     "data": {
      "text/plain": [
       "incident_id                    0\n",
       "offense_id                     0\n",
       "OFFENSE_CODE                   0\n",
       "OFFENSE_CODE_EXTENSION         0\n",
       "OFFENSE_TYPE_ID                0\n",
       "OFFENSE_CATEGORY_ID            0\n",
       "FIRST_OCCURRENCE_DATE          0\n",
       "LAST_OCCURRENCE_DATE      303919\n",
       "REPORTED_DATE                  0\n",
       "INCIDENT_ADDRESS           38901\n",
       "GEO_X                       4179\n",
       "GEO_Y                       4179\n",
       "GEO_LON                     4180\n",
       "GEO_LAT                     4180\n",
       "DISTRICT_ID                    1\n",
       "PRECINCT_ID                    1\n",
       "NEIGHBORHOOD_ID                1\n",
       "IS_CRIME                       0\n",
       "IS_TRAFFIC                     0\n",
       "dtype: int64"
      ]
     },
     "execution_count": 4,
     "metadata": {},
     "output_type": "execute_result"
    }
   ],
   "source": [
    "df.isnull().sum()"
   ]
  },
  {
   "cell_type": "code",
   "execution_count": 5,
   "id": "682c5f04",
   "metadata": {},
   "outputs": [
    {
     "data": {
      "text/html": [
       "<div>\n",
       "<style scoped>\n",
       "    .dataframe tbody tr th:only-of-type {\n",
       "        vertical-align: middle;\n",
       "    }\n",
       "\n",
       "    .dataframe tbody tr th {\n",
       "        vertical-align: top;\n",
       "    }\n",
       "\n",
       "    .dataframe thead th {\n",
       "        text-align: right;\n",
       "    }\n",
       "</style>\n",
       "<table border=\"1\" class=\"dataframe\">\n",
       "  <thead>\n",
       "    <tr style=\"text-align: right;\">\n",
       "      <th></th>\n",
       "      <th>incident_id</th>\n",
       "      <th>offense_id</th>\n",
       "      <th>OFFENSE_CODE</th>\n",
       "      <th>OFFENSE_CODE_EXTENSION</th>\n",
       "      <th>OFFENSE_TYPE_ID</th>\n",
       "      <th>OFFENSE_CATEGORY_ID</th>\n",
       "      <th>FIRST_OCCURRENCE_DATE</th>\n",
       "      <th>LAST_OCCURRENCE_DATE</th>\n",
       "      <th>REPORTED_DATE</th>\n",
       "      <th>INCIDENT_ADDRESS</th>\n",
       "      <th>GEO_X</th>\n",
       "      <th>GEO_Y</th>\n",
       "      <th>GEO_LON</th>\n",
       "      <th>GEO_LAT</th>\n",
       "      <th>DISTRICT_ID</th>\n",
       "      <th>PRECINCT_ID</th>\n",
       "      <th>NEIGHBORHOOD_ID</th>\n",
       "      <th>IS_CRIME</th>\n",
       "      <th>IS_TRAFFIC</th>\n",
       "    </tr>\n",
       "  </thead>\n",
       "  <tbody>\n",
       "    <tr>\n",
       "      <th>0</th>\n",
       "      <td>2.022600e+10</td>\n",
       "      <td>2.022600e+16</td>\n",
       "      <td>2999</td>\n",
       "      <td>0</td>\n",
       "      <td>criminal-mischief-other</td>\n",
       "      <td>public-disorder</td>\n",
       "      <td>01-04-2022 11:30</td>\n",
       "      <td>01-04-2022 12:00</td>\n",
       "      <td>01-04-2022 20:36</td>\n",
       "      <td>128 S CANOSA CT                               ...</td>\n",
       "      <td>3135366.0</td>\n",
       "      <td>1685410.0</td>\n",
       "      <td>-105.018825</td>\n",
       "      <td>39.714268</td>\n",
       "      <td>4.0</td>\n",
       "      <td>411.0</td>\n",
       "      <td>valverde</td>\n",
       "      <td>1</td>\n",
       "      <td>0</td>\n",
       "    </tr>\n",
       "    <tr>\n",
       "      <th>1</th>\n",
       "      <td>2.022332e+07</td>\n",
       "      <td>2.022330e+13</td>\n",
       "      <td>2999</td>\n",
       "      <td>0</td>\n",
       "      <td>criminal-mischief-other</td>\n",
       "      <td>public-disorder</td>\n",
       "      <td>01-03-2022 06:45</td>\n",
       "      <td>0</td>\n",
       "      <td>01-03-2022 11:01</td>\n",
       "      <td>650 15TH ST                                   ...</td>\n",
       "      <td>3142454.0</td>\n",
       "      <td>1696151.0</td>\n",
       "      <td>-104.993418</td>\n",
       "      <td>39.743649</td>\n",
       "      <td>6.0</td>\n",
       "      <td>611.0</td>\n",
       "      <td>cbd</td>\n",
       "      <td>1</td>\n",
       "      <td>0</td>\n",
       "    </tr>\n",
       "    <tr>\n",
       "      <th>2</th>\n",
       "      <td>2.022309e+07</td>\n",
       "      <td>2.022310e+13</td>\n",
       "      <td>2999</td>\n",
       "      <td>0</td>\n",
       "      <td>criminal-mischief-other</td>\n",
       "      <td>public-disorder</td>\n",
       "      <td>01-03-2022 01:00</td>\n",
       "      <td>0</td>\n",
       "      <td>01-03-2022 06:11</td>\n",
       "      <td>919 E COLFAX AVE                              ...</td>\n",
       "      <td>3147484.0</td>\n",
       "      <td>1694898.0</td>\n",
       "      <td>-104.975557</td>\n",
       "      <td>39.740130</td>\n",
       "      <td>6.0</td>\n",
       "      <td>621.0</td>\n",
       "      <td>north-capitol-hill</td>\n",
       "      <td>1</td>\n",
       "      <td>0</td>\n",
       "    </tr>\n",
       "    <tr>\n",
       "      <th>3</th>\n",
       "      <td>2.022400e+07</td>\n",
       "      <td>2.022400e+13</td>\n",
       "      <td>2999</td>\n",
       "      <td>0</td>\n",
       "      <td>criminal-mischief-other</td>\n",
       "      <td>public-disorder</td>\n",
       "      <td>01-03-2022 19:47</td>\n",
       "      <td>0</td>\n",
       "      <td>01-03-2022 21:12</td>\n",
       "      <td>2345 W ALAMEDA AVE                            ...</td>\n",
       "      <td>3136478.0</td>\n",
       "      <td>1684414.0</td>\n",
       "      <td>-105.014892</td>\n",
       "      <td>39.711518</td>\n",
       "      <td>4.0</td>\n",
       "      <td>411.0</td>\n",
       "      <td>valverde</td>\n",
       "      <td>1</td>\n",
       "      <td>0</td>\n",
       "    </tr>\n",
       "    <tr>\n",
       "      <th>4</th>\n",
       "      <td>2.022396e+07</td>\n",
       "      <td>2.022400e+13</td>\n",
       "      <td>2999</td>\n",
       "      <td>0</td>\n",
       "      <td>criminal-mischief-other</td>\n",
       "      <td>public-disorder</td>\n",
       "      <td>01-03-2022 17:06</td>\n",
       "      <td>0</td>\n",
       "      <td>01-03-2022 20:31</td>\n",
       "      <td>7800 E SMITH RD                               ...</td>\n",
       "      <td>3169237.0</td>\n",
       "      <td>1705800.0</td>\n",
       "      <td>-104.897950</td>\n",
       "      <td>39.769688</td>\n",
       "      <td>5.0</td>\n",
       "      <td>512.0</td>\n",
       "      <td>central-park</td>\n",
       "      <td>1</td>\n",
       "      <td>0</td>\n",
       "    </tr>\n",
       "    <tr>\n",
       "      <th>...</th>\n",
       "      <td>...</td>\n",
       "      <td>...</td>\n",
       "      <td>...</td>\n",
       "      <td>...</td>\n",
       "      <td>...</td>\n",
       "      <td>...</td>\n",
       "      <td>...</td>\n",
       "      <td>...</td>\n",
       "      <td>...</td>\n",
       "      <td>...</td>\n",
       "      <td>...</td>\n",
       "      <td>...</td>\n",
       "      <td>...</td>\n",
       "      <td>...</td>\n",
       "      <td>...</td>\n",
       "      <td>...</td>\n",
       "      <td>...</td>\n",
       "      <td>...</td>\n",
       "      <td>...</td>\n",
       "    </tr>\n",
       "    <tr>\n",
       "      <th>486881</th>\n",
       "      <td>2.022211e+09</td>\n",
       "      <td>2.022210e+15</td>\n",
       "      <td>2501</td>\n",
       "      <td>0</td>\n",
       "      <td>forgery-checks</td>\n",
       "      <td>white-collar-crime</td>\n",
       "      <td>4/27/2022 1:00:00 PM</td>\n",
       "      <td>0</td>\n",
       "      <td>4/28/2022 1:34:00 PM</td>\n",
       "      <td>1617 E COLFAX AVE                             ...</td>\n",
       "      <td>3149527.0</td>\n",
       "      <td>1694928.0</td>\n",
       "      <td>-104.968291</td>\n",
       "      <td>39.740180</td>\n",
       "      <td>6.0</td>\n",
       "      <td>622.0</td>\n",
       "      <td>city-park-west</td>\n",
       "      <td>1</td>\n",
       "      <td>0</td>\n",
       "    </tr>\n",
       "    <tr>\n",
       "      <th>486882</th>\n",
       "      <td>2.022211e+09</td>\n",
       "      <td>2.022210e+15</td>\n",
       "      <td>2604</td>\n",
       "      <td>1</td>\n",
       "      <td>fraud-criminal-impersonation</td>\n",
       "      <td>white-collar-crime</td>\n",
       "      <td>6/16/2021 12:00:00 AM</td>\n",
       "      <td>02-03-2022 23:59</td>\n",
       "      <td>4/28/2022 3:10:00 PM</td>\n",
       "      <td>2979 S PONTIAC ST                             ...</td>\n",
       "      <td>3167278.0</td>\n",
       "      <td>1666422.0</td>\n",
       "      <td>-104.905835</td>\n",
       "      <td>39.661623</td>\n",
       "      <td>3.0</td>\n",
       "      <td>323.0</td>\n",
       "      <td>hampden</td>\n",
       "      <td>1</td>\n",
       "      <td>0</td>\n",
       "    </tr>\n",
       "    <tr>\n",
       "      <th>486883</th>\n",
       "      <td>2.022212e+09</td>\n",
       "      <td>2.022210e+15</td>\n",
       "      <td>2605</td>\n",
       "      <td>0</td>\n",
       "      <td>theft-unauth-use-of-ftd</td>\n",
       "      <td>white-collar-crime</td>\n",
       "      <td>4/23/2022 6:30:00 PM</td>\n",
       "      <td>0</td>\n",
       "      <td>4/28/2022 3:56:00 PM</td>\n",
       "      <td>2727 W EVANS AVE                              ...</td>\n",
       "      <td>3134706.0</td>\n",
       "      <td>1672808.0</td>\n",
       "      <td>-105.021407</td>\n",
       "      <td>39.679682</td>\n",
       "      <td>4.0</td>\n",
       "      <td>422.0</td>\n",
       "      <td>college-view-south-platte</td>\n",
       "      <td>1</td>\n",
       "      <td>0</td>\n",
       "    </tr>\n",
       "    <tr>\n",
       "      <th>486884</th>\n",
       "      <td>2.022601e+10</td>\n",
       "      <td>2.022600e+16</td>\n",
       "      <td>2605</td>\n",
       "      <td>0</td>\n",
       "      <td>theft-unauth-use-of-ftd</td>\n",
       "      <td>white-collar-crime</td>\n",
       "      <td>4/27/2022 7:42:00 PM</td>\n",
       "      <td>4/27/2022 7:42:00 PM</td>\n",
       "      <td>4/27/2022 10:28:00 PM</td>\n",
       "      <td>1201 16TH ST                                  ...</td>\n",
       "      <td>3141432.0</td>\n",
       "      <td>1698125.0</td>\n",
       "      <td>-104.997013</td>\n",
       "      <td>39.749083</td>\n",
       "      <td>6.0</td>\n",
       "      <td>612.0</td>\n",
       "      <td>union-station</td>\n",
       "      <td>1</td>\n",
       "      <td>0</td>\n",
       "    </tr>\n",
       "    <tr>\n",
       "      <th>486885</th>\n",
       "      <td>2.022211e+09</td>\n",
       "      <td>2.022210e+15</td>\n",
       "      <td>2607</td>\n",
       "      <td>0</td>\n",
       "      <td>fraud-by-telephone</td>\n",
       "      <td>white-collar-crime</td>\n",
       "      <td>4/26/2022 1:29:00 PM</td>\n",
       "      <td>0</td>\n",
       "      <td>4/28/2022 1:44:00 PM</td>\n",
       "      <td>3120 W ILIFF AVE                              ...</td>\n",
       "      <td>3132996.0</td>\n",
       "      <td>1671068.0</td>\n",
       "      <td>-105.027515</td>\n",
       "      <td>39.674930</td>\n",
       "      <td>4.0</td>\n",
       "      <td>421.0</td>\n",
       "      <td>harvey-park</td>\n",
       "      <td>1</td>\n",
       "      <td>0</td>\n",
       "    </tr>\n",
       "  </tbody>\n",
       "</table>\n",
       "<p>486886 rows × 19 columns</p>\n",
       "</div>"
      ],
      "text/plain": [
       "         incident_id    offense_id  OFFENSE_CODE  OFFENSE_CODE_EXTENSION  \\\n",
       "0       2.022600e+10  2.022600e+16          2999                       0   \n",
       "1       2.022332e+07  2.022330e+13          2999                       0   \n",
       "2       2.022309e+07  2.022310e+13          2999                       0   \n",
       "3       2.022400e+07  2.022400e+13          2999                       0   \n",
       "4       2.022396e+07  2.022400e+13          2999                       0   \n",
       "...              ...           ...           ...                     ...   \n",
       "486881  2.022211e+09  2.022210e+15          2501                       0   \n",
       "486882  2.022211e+09  2.022210e+15          2604                       1   \n",
       "486883  2.022212e+09  2.022210e+15          2605                       0   \n",
       "486884  2.022601e+10  2.022600e+16          2605                       0   \n",
       "486885  2.022211e+09  2.022210e+15          2607                       0   \n",
       "\n",
       "                     OFFENSE_TYPE_ID OFFENSE_CATEGORY_ID  \\\n",
       "0            criminal-mischief-other     public-disorder   \n",
       "1            criminal-mischief-other     public-disorder   \n",
       "2            criminal-mischief-other     public-disorder   \n",
       "3            criminal-mischief-other     public-disorder   \n",
       "4            criminal-mischief-other     public-disorder   \n",
       "...                              ...                 ...   \n",
       "486881                forgery-checks  white-collar-crime   \n",
       "486882  fraud-criminal-impersonation  white-collar-crime   \n",
       "486883       theft-unauth-use-of-ftd  white-collar-crime   \n",
       "486884       theft-unauth-use-of-ftd  white-collar-crime   \n",
       "486885            fraud-by-telephone  white-collar-crime   \n",
       "\n",
       "        FIRST_OCCURRENCE_DATE  LAST_OCCURRENCE_DATE          REPORTED_DATE  \\\n",
       "0            01-04-2022 11:30      01-04-2022 12:00       01-04-2022 20:36   \n",
       "1            01-03-2022 06:45                     0       01-03-2022 11:01   \n",
       "2            01-03-2022 01:00                     0       01-03-2022 06:11   \n",
       "3            01-03-2022 19:47                     0       01-03-2022 21:12   \n",
       "4            01-03-2022 17:06                     0       01-03-2022 20:31   \n",
       "...                       ...                   ...                    ...   \n",
       "486881   4/27/2022 1:00:00 PM                     0   4/28/2022 1:34:00 PM   \n",
       "486882  6/16/2021 12:00:00 AM      02-03-2022 23:59   4/28/2022 3:10:00 PM   \n",
       "486883   4/23/2022 6:30:00 PM                     0   4/28/2022 3:56:00 PM   \n",
       "486884   4/27/2022 7:42:00 PM  4/27/2022 7:42:00 PM  4/27/2022 10:28:00 PM   \n",
       "486885   4/26/2022 1:29:00 PM                     0   4/28/2022 1:44:00 PM   \n",
       "\n",
       "                                         INCIDENT_ADDRESS      GEO_X  \\\n",
       "0       128 S CANOSA CT                               ...  3135366.0   \n",
       "1       650 15TH ST                                   ...  3142454.0   \n",
       "2       919 E COLFAX AVE                              ...  3147484.0   \n",
       "3       2345 W ALAMEDA AVE                            ...  3136478.0   \n",
       "4       7800 E SMITH RD                               ...  3169237.0   \n",
       "...                                                   ...        ...   \n",
       "486881  1617 E COLFAX AVE                             ...  3149527.0   \n",
       "486882  2979 S PONTIAC ST                             ...  3167278.0   \n",
       "486883  2727 W EVANS AVE                              ...  3134706.0   \n",
       "486884  1201 16TH ST                                  ...  3141432.0   \n",
       "486885  3120 W ILIFF AVE                              ...  3132996.0   \n",
       "\n",
       "            GEO_Y     GEO_LON    GEO_LAT  DISTRICT_ID  PRECINCT_ID  \\\n",
       "0       1685410.0 -105.018825  39.714268          4.0        411.0   \n",
       "1       1696151.0 -104.993418  39.743649          6.0        611.0   \n",
       "2       1694898.0 -104.975557  39.740130          6.0        621.0   \n",
       "3       1684414.0 -105.014892  39.711518          4.0        411.0   \n",
       "4       1705800.0 -104.897950  39.769688          5.0        512.0   \n",
       "...           ...         ...        ...          ...          ...   \n",
       "486881  1694928.0 -104.968291  39.740180          6.0        622.0   \n",
       "486882  1666422.0 -104.905835  39.661623          3.0        323.0   \n",
       "486883  1672808.0 -105.021407  39.679682          4.0        422.0   \n",
       "486884  1698125.0 -104.997013  39.749083          6.0        612.0   \n",
       "486885  1671068.0 -105.027515  39.674930          4.0        421.0   \n",
       "\n",
       "                  NEIGHBORHOOD_ID  IS_CRIME  IS_TRAFFIC  \n",
       "0                        valverde         1           0  \n",
       "1                             cbd         1           0  \n",
       "2              north-capitol-hill         1           0  \n",
       "3                        valverde         1           0  \n",
       "4                    central-park         1           0  \n",
       "...                           ...       ...         ...  \n",
       "486881             city-park-west         1           0  \n",
       "486882                    hampden         1           0  \n",
       "486883  college-view-south-platte         1           0  \n",
       "486884              union-station         1           0  \n",
       "486885                harvey-park         1           0  \n",
       "\n",
       "[486886 rows x 19 columns]"
      ]
     },
     "execution_count": 5,
     "metadata": {},
     "output_type": "execute_result"
    }
   ],
   "source": [
    "new_df= df.fillna(0)\n",
    "new_df"
   ]
  },
  {
   "cell_type": "markdown",
   "id": "4f4d7eb3",
   "metadata": {},
   "source": [
    "# Drop null values"
   ]
  },
  {
   "cell_type": "code",
   "execution_count": 6,
   "id": "cd1176f4",
   "metadata": {},
   "outputs": [
    {
     "name": "stdout",
     "output_type": "stream",
     "text": [
      "<class 'pandas.core.frame.DataFrame'>\n",
      "RangeIndex: 486886 entries, 0 to 486885\n",
      "Data columns (total 10 columns):\n",
      " #   Column                  Non-Null Count   Dtype  \n",
      "---  ------                  --------------   -----  \n",
      " 0   incident_id             486886 non-null  float64\n",
      " 1   offense_id              486886 non-null  float64\n",
      " 2   OFFENSE_CODE            486886 non-null  int64  \n",
      " 3   OFFENSE_CODE_EXTENSION  486886 non-null  int64  \n",
      " 4   OFFENSE_TYPE_ID         486886 non-null  object \n",
      " 5   OFFENSE_CATEGORY_ID     486886 non-null  object \n",
      " 6   FIRST_OCCURRENCE_DATE   486886 non-null  object \n",
      " 7   REPORTED_DATE           486886 non-null  object \n",
      " 8   IS_CRIME                486886 non-null  int64  \n",
      " 9   IS_TRAFFIC              486886 non-null  int64  \n",
      "dtypes: float64(2), int64(4), object(4)\n",
      "memory usage: 37.1+ MB\n"
     ]
    }
   ],
   "source": [
    "new_df=df.dropna(axis=1)\n",
    "new_df.info()"
   ]
  },
  {
   "cell_type": "code",
   "execution_count": 7,
   "id": "b9548a36",
   "metadata": {},
   "outputs": [
    {
     "data": {
      "text/html": [
       "<div>\n",
       "<style scoped>\n",
       "    .dataframe tbody tr th:only-of-type {\n",
       "        vertical-align: middle;\n",
       "    }\n",
       "\n",
       "    .dataframe tbody tr th {\n",
       "        vertical-align: top;\n",
       "    }\n",
       "\n",
       "    .dataframe thead th {\n",
       "        text-align: right;\n",
       "    }\n",
       "</style>\n",
       "<table border=\"1\" class=\"dataframe\">\n",
       "  <thead>\n",
       "    <tr style=\"text-align: right;\">\n",
       "      <th></th>\n",
       "      <th>incident_id</th>\n",
       "      <th>offense_id</th>\n",
       "      <th>OFFENSE_CODE</th>\n",
       "      <th>OFFENSE_CODE_EXTENSION</th>\n",
       "      <th>OFFENSE_TYPE_ID</th>\n",
       "      <th>OFFENSE_CATEGORY_ID</th>\n",
       "      <th>FIRST_OCCURRENCE_DATE</th>\n",
       "      <th>REPORTED_DATE</th>\n",
       "      <th>IS_CRIME</th>\n",
       "      <th>IS_TRAFFIC</th>\n",
       "    </tr>\n",
       "  </thead>\n",
       "  <tbody>\n",
       "    <tr>\n",
       "      <th>0</th>\n",
       "      <td>2.022600e+10</td>\n",
       "      <td>2.022600e+16</td>\n",
       "      <td>2999</td>\n",
       "      <td>0</td>\n",
       "      <td>criminal-mischief-other</td>\n",
       "      <td>public-disorder</td>\n",
       "      <td>01-04-2022 11:30</td>\n",
       "      <td>01-04-2022 20:36</td>\n",
       "      <td>1</td>\n",
       "      <td>0</td>\n",
       "    </tr>\n",
       "    <tr>\n",
       "      <th>1</th>\n",
       "      <td>2.022332e+07</td>\n",
       "      <td>2.022330e+13</td>\n",
       "      <td>2999</td>\n",
       "      <td>0</td>\n",
       "      <td>criminal-mischief-other</td>\n",
       "      <td>public-disorder</td>\n",
       "      <td>01-03-2022 06:45</td>\n",
       "      <td>01-03-2022 11:01</td>\n",
       "      <td>1</td>\n",
       "      <td>0</td>\n",
       "    </tr>\n",
       "    <tr>\n",
       "      <th>2</th>\n",
       "      <td>2.022309e+07</td>\n",
       "      <td>2.022310e+13</td>\n",
       "      <td>2999</td>\n",
       "      <td>0</td>\n",
       "      <td>criminal-mischief-other</td>\n",
       "      <td>public-disorder</td>\n",
       "      <td>01-03-2022 01:00</td>\n",
       "      <td>01-03-2022 06:11</td>\n",
       "      <td>1</td>\n",
       "      <td>0</td>\n",
       "    </tr>\n",
       "    <tr>\n",
       "      <th>3</th>\n",
       "      <td>2.022400e+07</td>\n",
       "      <td>2.022400e+13</td>\n",
       "      <td>2999</td>\n",
       "      <td>0</td>\n",
       "      <td>criminal-mischief-other</td>\n",
       "      <td>public-disorder</td>\n",
       "      <td>01-03-2022 19:47</td>\n",
       "      <td>01-03-2022 21:12</td>\n",
       "      <td>1</td>\n",
       "      <td>0</td>\n",
       "    </tr>\n",
       "    <tr>\n",
       "      <th>4</th>\n",
       "      <td>2.022396e+07</td>\n",
       "      <td>2.022400e+13</td>\n",
       "      <td>2999</td>\n",
       "      <td>0</td>\n",
       "      <td>criminal-mischief-other</td>\n",
       "      <td>public-disorder</td>\n",
       "      <td>01-03-2022 17:06</td>\n",
       "      <td>01-03-2022 20:31</td>\n",
       "      <td>1</td>\n",
       "      <td>0</td>\n",
       "    </tr>\n",
       "    <tr>\n",
       "      <th>5</th>\n",
       "      <td>2.022390e+07</td>\n",
       "      <td>2.022390e+13</td>\n",
       "      <td>2999</td>\n",
       "      <td>0</td>\n",
       "      <td>criminal-mischief-other</td>\n",
       "      <td>public-disorder</td>\n",
       "      <td>01-03-2022 16:40</td>\n",
       "      <td>01-03-2022 19:07</td>\n",
       "      <td>1</td>\n",
       "      <td>0</td>\n",
       "    </tr>\n",
       "    <tr>\n",
       "      <th>6</th>\n",
       "      <td>2.022390e+07</td>\n",
       "      <td>2.022390e+13</td>\n",
       "      <td>2999</td>\n",
       "      <td>0</td>\n",
       "      <td>criminal-mischief-other</td>\n",
       "      <td>public-disorder</td>\n",
       "      <td>01-03-2022 16:19</td>\n",
       "      <td>01-03-2022 16:21</td>\n",
       "      <td>1</td>\n",
       "      <td>0</td>\n",
       "    </tr>\n",
       "    <tr>\n",
       "      <th>7</th>\n",
       "      <td>2.022389e+07</td>\n",
       "      <td>2.022390e+13</td>\n",
       "      <td>2999</td>\n",
       "      <td>0</td>\n",
       "      <td>criminal-mischief-other</td>\n",
       "      <td>public-disorder</td>\n",
       "      <td>01-03-2022 16:15</td>\n",
       "      <td>01-03-2022 23:05</td>\n",
       "      <td>1</td>\n",
       "      <td>0</td>\n",
       "    </tr>\n",
       "    <tr>\n",
       "      <th>8</th>\n",
       "      <td>2.022808e+07</td>\n",
       "      <td>2.022810e+13</td>\n",
       "      <td>2999</td>\n",
       "      <td>0</td>\n",
       "      <td>criminal-mischief-other</td>\n",
       "      <td>public-disorder</td>\n",
       "      <td>01-05-2022 19:00</td>\n",
       "      <td>01-06-2022 09:03</td>\n",
       "      <td>1</td>\n",
       "      <td>0</td>\n",
       "    </tr>\n",
       "    <tr>\n",
       "      <th>9</th>\n",
       "      <td>2.022456e+07</td>\n",
       "      <td>2.022460e+13</td>\n",
       "      <td>2999</td>\n",
       "      <td>0</td>\n",
       "      <td>criminal-mischief-other</td>\n",
       "      <td>public-disorder</td>\n",
       "      <td>01-04-2022 04:30</td>\n",
       "      <td>01-04-2022 05:09</td>\n",
       "      <td>1</td>\n",
       "      <td>0</td>\n",
       "    </tr>\n",
       "  </tbody>\n",
       "</table>\n",
       "</div>"
      ],
      "text/plain": [
       "    incident_id    offense_id  OFFENSE_CODE  OFFENSE_CODE_EXTENSION  \\\n",
       "0  2.022600e+10  2.022600e+16          2999                       0   \n",
       "1  2.022332e+07  2.022330e+13          2999                       0   \n",
       "2  2.022309e+07  2.022310e+13          2999                       0   \n",
       "3  2.022400e+07  2.022400e+13          2999                       0   \n",
       "4  2.022396e+07  2.022400e+13          2999                       0   \n",
       "5  2.022390e+07  2.022390e+13          2999                       0   \n",
       "6  2.022390e+07  2.022390e+13          2999                       0   \n",
       "7  2.022389e+07  2.022390e+13          2999                       0   \n",
       "8  2.022808e+07  2.022810e+13          2999                       0   \n",
       "9  2.022456e+07  2.022460e+13          2999                       0   \n",
       "\n",
       "           OFFENSE_TYPE_ID OFFENSE_CATEGORY_ID FIRST_OCCURRENCE_DATE  \\\n",
       "0  criminal-mischief-other     public-disorder      01-04-2022 11:30   \n",
       "1  criminal-mischief-other     public-disorder      01-03-2022 06:45   \n",
       "2  criminal-mischief-other     public-disorder      01-03-2022 01:00   \n",
       "3  criminal-mischief-other     public-disorder      01-03-2022 19:47   \n",
       "4  criminal-mischief-other     public-disorder      01-03-2022 17:06   \n",
       "5  criminal-mischief-other     public-disorder      01-03-2022 16:40   \n",
       "6  criminal-mischief-other     public-disorder      01-03-2022 16:19   \n",
       "7  criminal-mischief-other     public-disorder      01-03-2022 16:15   \n",
       "8  criminal-mischief-other     public-disorder      01-05-2022 19:00   \n",
       "9  criminal-mischief-other     public-disorder      01-04-2022 04:30   \n",
       "\n",
       "      REPORTED_DATE  IS_CRIME  IS_TRAFFIC  \n",
       "0  01-04-2022 20:36         1           0  \n",
       "1  01-03-2022 11:01         1           0  \n",
       "2  01-03-2022 06:11         1           0  \n",
       "3  01-03-2022 21:12         1           0  \n",
       "4  01-03-2022 20:31         1           0  \n",
       "5  01-03-2022 19:07         1           0  \n",
       "6  01-03-2022 16:21         1           0  \n",
       "7  01-03-2022 23:05         1           0  \n",
       "8  01-06-2022 09:03         1           0  \n",
       "9  01-04-2022 05:09         1           0  "
      ]
     },
     "execution_count": 7,
     "metadata": {},
     "output_type": "execute_result"
    }
   ],
   "source": [
    "new_df.head(10)"
   ]
  },
  {
   "cell_type": "code",
   "execution_count": 8,
   "id": "54fe8632",
   "metadata": {},
   "outputs": [
    {
     "data": {
      "text/plain": [
       "incident_id               float64\n",
       "offense_id                float64\n",
       "OFFENSE_CODE                int64\n",
       "OFFENSE_CODE_EXTENSION      int64\n",
       "OFFENSE_TYPE_ID            object\n",
       "OFFENSE_CATEGORY_ID        object\n",
       "FIRST_OCCURRENCE_DATE      object\n",
       "REPORTED_DATE              object\n",
       "IS_CRIME                    int64\n",
       "IS_TRAFFIC                  int64\n",
       "dtype: object"
      ]
     },
     "execution_count": 8,
     "metadata": {},
     "output_type": "execute_result"
    }
   ],
   "source": [
    "new_df.dtypes"
   ]
  },
  {
   "cell_type": "markdown",
   "id": "3a392e07",
   "metadata": {},
   "source": [
    "# Convert string to float"
   ]
  },
  {
   "cell_type": "code",
   "execution_count": 9,
   "id": "f100b3a6",
   "metadata": {},
   "outputs": [],
   "source": [
    "df['OFFENSE_TYPE_ID']= pd.to_numeric(df['OFFENSE_TYPE_ID'], errors='coerce')\n",
    "df['OFFENSE_CATEGORY_ID']= pd.to_numeric(df['OFFENSE_CATEGORY_ID'], errors='coerce')\n",
    "df['FIRST_OCCURRENCE_DATE']= pd.to_numeric(df['FIRST_OCCURRENCE_DATE'], errors='coerce')\n",
    "df['REPORTED_DATE']= pd.to_numeric(df['REPORTED_DATE'], errors='coerce')"
   ]
  },
  {
   "cell_type": "code",
   "execution_count": 10,
   "id": "24ad6c8e",
   "metadata": {},
   "outputs": [
    {
     "data": {
      "text/html": [
       "<div>\n",
       "<style scoped>\n",
       "    .dataframe tbody tr th:only-of-type {\n",
       "        vertical-align: middle;\n",
       "    }\n",
       "\n",
       "    .dataframe tbody tr th {\n",
       "        vertical-align: top;\n",
       "    }\n",
       "\n",
       "    .dataframe thead th {\n",
       "        text-align: right;\n",
       "    }\n",
       "</style>\n",
       "<table border=\"1\" class=\"dataframe\">\n",
       "  <thead>\n",
       "    <tr style=\"text-align: right;\">\n",
       "      <th></th>\n",
       "      <th>incident_id</th>\n",
       "      <th>offense_id</th>\n",
       "      <th>OFFENSE_CODE</th>\n",
       "      <th>OFFENSE_CODE_EXTENSION</th>\n",
       "      <th>OFFENSE_TYPE_ID</th>\n",
       "      <th>OFFENSE_CATEGORY_ID</th>\n",
       "      <th>FIRST_OCCURRENCE_DATE</th>\n",
       "      <th>REPORTED_DATE</th>\n",
       "      <th>IS_CRIME</th>\n",
       "      <th>IS_TRAFFIC</th>\n",
       "    </tr>\n",
       "  </thead>\n",
       "  <tbody>\n",
       "    <tr>\n",
       "      <th>0</th>\n",
       "      <td>2.022600e+10</td>\n",
       "      <td>2.022600e+16</td>\n",
       "      <td>2999</td>\n",
       "      <td>0</td>\n",
       "      <td>criminal-mischief-other</td>\n",
       "      <td>public-disorder</td>\n",
       "      <td>01-04-2022 11:30</td>\n",
       "      <td>01-04-2022 20:36</td>\n",
       "      <td>1</td>\n",
       "      <td>0</td>\n",
       "    </tr>\n",
       "    <tr>\n",
       "      <th>1</th>\n",
       "      <td>2.022332e+07</td>\n",
       "      <td>2.022330e+13</td>\n",
       "      <td>2999</td>\n",
       "      <td>0</td>\n",
       "      <td>criminal-mischief-other</td>\n",
       "      <td>public-disorder</td>\n",
       "      <td>01-03-2022 06:45</td>\n",
       "      <td>01-03-2022 11:01</td>\n",
       "      <td>1</td>\n",
       "      <td>0</td>\n",
       "    </tr>\n",
       "    <tr>\n",
       "      <th>2</th>\n",
       "      <td>2.022309e+07</td>\n",
       "      <td>2.022310e+13</td>\n",
       "      <td>2999</td>\n",
       "      <td>0</td>\n",
       "      <td>criminal-mischief-other</td>\n",
       "      <td>public-disorder</td>\n",
       "      <td>01-03-2022 01:00</td>\n",
       "      <td>01-03-2022 06:11</td>\n",
       "      <td>1</td>\n",
       "      <td>0</td>\n",
       "    </tr>\n",
       "    <tr>\n",
       "      <th>3</th>\n",
       "      <td>2.022400e+07</td>\n",
       "      <td>2.022400e+13</td>\n",
       "      <td>2999</td>\n",
       "      <td>0</td>\n",
       "      <td>criminal-mischief-other</td>\n",
       "      <td>public-disorder</td>\n",
       "      <td>01-03-2022 19:47</td>\n",
       "      <td>01-03-2022 21:12</td>\n",
       "      <td>1</td>\n",
       "      <td>0</td>\n",
       "    </tr>\n",
       "    <tr>\n",
       "      <th>4</th>\n",
       "      <td>2.022396e+07</td>\n",
       "      <td>2.022400e+13</td>\n",
       "      <td>2999</td>\n",
       "      <td>0</td>\n",
       "      <td>criminal-mischief-other</td>\n",
       "      <td>public-disorder</td>\n",
       "      <td>01-03-2022 17:06</td>\n",
       "      <td>01-03-2022 20:31</td>\n",
       "      <td>1</td>\n",
       "      <td>0</td>\n",
       "    </tr>\n",
       "    <tr>\n",
       "      <th>5</th>\n",
       "      <td>2.022390e+07</td>\n",
       "      <td>2.022390e+13</td>\n",
       "      <td>2999</td>\n",
       "      <td>0</td>\n",
       "      <td>criminal-mischief-other</td>\n",
       "      <td>public-disorder</td>\n",
       "      <td>01-03-2022 16:40</td>\n",
       "      <td>01-03-2022 19:07</td>\n",
       "      <td>1</td>\n",
       "      <td>0</td>\n",
       "    </tr>\n",
       "    <tr>\n",
       "      <th>6</th>\n",
       "      <td>2.022390e+07</td>\n",
       "      <td>2.022390e+13</td>\n",
       "      <td>2999</td>\n",
       "      <td>0</td>\n",
       "      <td>criminal-mischief-other</td>\n",
       "      <td>public-disorder</td>\n",
       "      <td>01-03-2022 16:19</td>\n",
       "      <td>01-03-2022 16:21</td>\n",
       "      <td>1</td>\n",
       "      <td>0</td>\n",
       "    </tr>\n",
       "    <tr>\n",
       "      <th>7</th>\n",
       "      <td>2.022389e+07</td>\n",
       "      <td>2.022390e+13</td>\n",
       "      <td>2999</td>\n",
       "      <td>0</td>\n",
       "      <td>criminal-mischief-other</td>\n",
       "      <td>public-disorder</td>\n",
       "      <td>01-03-2022 16:15</td>\n",
       "      <td>01-03-2022 23:05</td>\n",
       "      <td>1</td>\n",
       "      <td>0</td>\n",
       "    </tr>\n",
       "    <tr>\n",
       "      <th>8</th>\n",
       "      <td>2.022808e+07</td>\n",
       "      <td>2.022810e+13</td>\n",
       "      <td>2999</td>\n",
       "      <td>0</td>\n",
       "      <td>criminal-mischief-other</td>\n",
       "      <td>public-disorder</td>\n",
       "      <td>01-05-2022 19:00</td>\n",
       "      <td>01-06-2022 09:03</td>\n",
       "      <td>1</td>\n",
       "      <td>0</td>\n",
       "    </tr>\n",
       "    <tr>\n",
       "      <th>9</th>\n",
       "      <td>2.022456e+07</td>\n",
       "      <td>2.022460e+13</td>\n",
       "      <td>2999</td>\n",
       "      <td>0</td>\n",
       "      <td>criminal-mischief-other</td>\n",
       "      <td>public-disorder</td>\n",
       "      <td>01-04-2022 04:30</td>\n",
       "      <td>01-04-2022 05:09</td>\n",
       "      <td>1</td>\n",
       "      <td>0</td>\n",
       "    </tr>\n",
       "  </tbody>\n",
       "</table>\n",
       "</div>"
      ],
      "text/plain": [
       "    incident_id    offense_id  OFFENSE_CODE  OFFENSE_CODE_EXTENSION  \\\n",
       "0  2.022600e+10  2.022600e+16          2999                       0   \n",
       "1  2.022332e+07  2.022330e+13          2999                       0   \n",
       "2  2.022309e+07  2.022310e+13          2999                       0   \n",
       "3  2.022400e+07  2.022400e+13          2999                       0   \n",
       "4  2.022396e+07  2.022400e+13          2999                       0   \n",
       "5  2.022390e+07  2.022390e+13          2999                       0   \n",
       "6  2.022390e+07  2.022390e+13          2999                       0   \n",
       "7  2.022389e+07  2.022390e+13          2999                       0   \n",
       "8  2.022808e+07  2.022810e+13          2999                       0   \n",
       "9  2.022456e+07  2.022460e+13          2999                       0   \n",
       "\n",
       "           OFFENSE_TYPE_ID OFFENSE_CATEGORY_ID FIRST_OCCURRENCE_DATE  \\\n",
       "0  criminal-mischief-other     public-disorder      01-04-2022 11:30   \n",
       "1  criminal-mischief-other     public-disorder      01-03-2022 06:45   \n",
       "2  criminal-mischief-other     public-disorder      01-03-2022 01:00   \n",
       "3  criminal-mischief-other     public-disorder      01-03-2022 19:47   \n",
       "4  criminal-mischief-other     public-disorder      01-03-2022 17:06   \n",
       "5  criminal-mischief-other     public-disorder      01-03-2022 16:40   \n",
       "6  criminal-mischief-other     public-disorder      01-03-2022 16:19   \n",
       "7  criminal-mischief-other     public-disorder      01-03-2022 16:15   \n",
       "8  criminal-mischief-other     public-disorder      01-05-2022 19:00   \n",
       "9  criminal-mischief-other     public-disorder      01-04-2022 04:30   \n",
       "\n",
       "      REPORTED_DATE  IS_CRIME  IS_TRAFFIC  \n",
       "0  01-04-2022 20:36         1           0  \n",
       "1  01-03-2022 11:01         1           0  \n",
       "2  01-03-2022 06:11         1           0  \n",
       "3  01-03-2022 21:12         1           0  \n",
       "4  01-03-2022 20:31         1           0  \n",
       "5  01-03-2022 19:07         1           0  \n",
       "6  01-03-2022 16:21         1           0  \n",
       "7  01-03-2022 23:05         1           0  \n",
       "8  01-06-2022 09:03         1           0  \n",
       "9  01-04-2022 05:09         1           0  "
      ]
     },
     "execution_count": 10,
     "metadata": {},
     "output_type": "execute_result"
    }
   ],
   "source": [
    "new_df.head(10)"
   ]
  },
  {
   "cell_type": "markdown",
   "id": "ad2f0512",
   "metadata": {},
   "source": [
    "# Label Encoder"
   ]
  },
  {
   "cell_type": "code",
   "execution_count": 11,
   "id": "22b37f43",
   "metadata": {},
   "outputs": [
    {
     "data": {
      "text/plain": [
       "array(['public-disorder', 'drug-alcohol', 'sexual-assault',\n",
       "       'all-other-crimes', 'traffic-accident', 'robbery',\n",
       "       'other-crimes-against-persons', 'aggravated-assault', 'arson',\n",
       "       'burglary', 'larceny', 'theft-from-motor-vehicle', 'auto-theft',\n",
       "       'white-collar-crime', 'murder'], dtype=object)"
      ]
     },
     "execution_count": 11,
     "metadata": {},
     "output_type": "execute_result"
    }
   ],
   "source": [
    "new_df['OFFENSE_CATEGORY_ID'].unique()"
   ]
  },
  {
   "cell_type": "code",
   "execution_count": 12,
   "id": "10655cdc",
   "metadata": {},
   "outputs": [
    {
     "name": "stderr",
     "output_type": "stream",
     "text": [
      "C:\\Users\\malak\\AppData\\Local\\Temp/ipykernel_11904/1852858910.py:2: SettingWithCopyWarning: \n",
      "A value is trying to be set on a copy of a slice from a DataFrame.\n",
      "Try using .loc[row_indexer,col_indexer] = value instead\n",
      "\n",
      "See the caveats in the documentation: https://pandas.pydata.org/pandas-docs/stable/user_guide/indexing.html#returning-a-view-versus-a-copy\n",
      "  new_df['OFFENSE_TYPE_ID']=lbl_encode.fit_transform(new_df['OFFENSE_TYPE_ID'])\n",
      "C:\\Users\\malak\\AppData\\Local\\Temp/ipykernel_11904/1852858910.py:3: SettingWithCopyWarning: \n",
      "A value is trying to be set on a copy of a slice from a DataFrame.\n",
      "Try using .loc[row_indexer,col_indexer] = value instead\n",
      "\n",
      "See the caveats in the documentation: https://pandas.pydata.org/pandas-docs/stable/user_guide/indexing.html#returning-a-view-versus-a-copy\n",
      "  new_df['OFFENSE_CATEGORY_ID']=lbl_encode.fit_transform(new_df['OFFENSE_CATEGORY_ID'])\n",
      "C:\\Users\\malak\\AppData\\Local\\Temp/ipykernel_11904/1852858910.py:4: SettingWithCopyWarning: \n",
      "A value is trying to be set on a copy of a slice from a DataFrame.\n",
      "Try using .loc[row_indexer,col_indexer] = value instead\n",
      "\n",
      "See the caveats in the documentation: https://pandas.pydata.org/pandas-docs/stable/user_guide/indexing.html#returning-a-view-versus-a-copy\n",
      "  new_df['FIRST_OCCURRENCE_DATE']=lbl_encode.fit_transform(new_df['FIRST_OCCURRENCE_DATE'])\n",
      "C:\\Users\\malak\\AppData\\Local\\Temp/ipykernel_11904/1852858910.py:5: SettingWithCopyWarning: \n",
      "A value is trying to be set on a copy of a slice from a DataFrame.\n",
      "Try using .loc[row_indexer,col_indexer] = value instead\n",
      "\n",
      "See the caveats in the documentation: https://pandas.pydata.org/pandas-docs/stable/user_guide/indexing.html#returning-a-view-versus-a-copy\n",
      "  new_df['REPORTED_DATE']=lbl_encode.fit_transform(new_df['REPORTED_DATE'])\n"
     ]
    }
   ],
   "source": [
    "lbl_encode=LabelEncoder()\n",
    "new_df['OFFENSE_TYPE_ID']=lbl_encode.fit_transform(new_df['OFFENSE_TYPE_ID'])\n",
    "new_df['OFFENSE_CATEGORY_ID']=lbl_encode.fit_transform(new_df['OFFENSE_CATEGORY_ID'])\n",
    "new_df['FIRST_OCCURRENCE_DATE']=lbl_encode.fit_transform(new_df['FIRST_OCCURRENCE_DATE'])\n",
    "new_df['REPORTED_DATE']=lbl_encode.fit_transform(new_df['REPORTED_DATE'])\n"
   ]
  },
  {
   "cell_type": "code",
   "execution_count": 13,
   "id": "eee6c61b",
   "metadata": {},
   "outputs": [
    {
     "data": {
      "text/html": [
       "<div>\n",
       "<style scoped>\n",
       "    .dataframe tbody tr th:only-of-type {\n",
       "        vertical-align: middle;\n",
       "    }\n",
       "\n",
       "    .dataframe tbody tr th {\n",
       "        vertical-align: top;\n",
       "    }\n",
       "\n",
       "    .dataframe thead th {\n",
       "        text-align: right;\n",
       "    }\n",
       "</style>\n",
       "<table border=\"1\" class=\"dataframe\">\n",
       "  <thead>\n",
       "    <tr style=\"text-align: right;\">\n",
       "      <th></th>\n",
       "      <th>incident_id</th>\n",
       "      <th>offense_id</th>\n",
       "      <th>OFFENSE_CODE</th>\n",
       "      <th>OFFENSE_CODE_EXTENSION</th>\n",
       "      <th>OFFENSE_TYPE_ID</th>\n",
       "      <th>OFFENSE_CATEGORY_ID</th>\n",
       "      <th>FIRST_OCCURRENCE_DATE</th>\n",
       "      <th>REPORTED_DATE</th>\n",
       "      <th>IS_CRIME</th>\n",
       "      <th>IS_TRAFFIC</th>\n",
       "    </tr>\n",
       "  </thead>\n",
       "  <tbody>\n",
       "    <tr>\n",
       "      <th>0</th>\n",
       "      <td>2.022600e+10</td>\n",
       "      <td>2.022600e+16</td>\n",
       "      <td>2999</td>\n",
       "      <td>0</td>\n",
       "      <td>34</td>\n",
       "      <td>9</td>\n",
       "      <td>3604</td>\n",
       "      <td>4478</td>\n",
       "      <td>1</td>\n",
       "      <td>0</td>\n",
       "    </tr>\n",
       "    <tr>\n",
       "      <th>1</th>\n",
       "      <td>2.022332e+07</td>\n",
       "      <td>2.022330e+13</td>\n",
       "      <td>2999</td>\n",
       "      <td>0</td>\n",
       "      <td>34</td>\n",
       "      <td>9</td>\n",
       "      <td>2594</td>\n",
       "      <td>3034</td>\n",
       "      <td>1</td>\n",
       "      <td>0</td>\n",
       "    </tr>\n",
       "    <tr>\n",
       "      <th>2</th>\n",
       "      <td>2.022309e+07</td>\n",
       "      <td>2.022310e+13</td>\n",
       "      <td>2999</td>\n",
       "      <td>0</td>\n",
       "      <td>34</td>\n",
       "      <td>9</td>\n",
       "      <td>2569</td>\n",
       "      <td>2993</td>\n",
       "      <td>1</td>\n",
       "      <td>0</td>\n",
       "    </tr>\n",
       "    <tr>\n",
       "      <th>3</th>\n",
       "      <td>2.022400e+07</td>\n",
       "      <td>2.022400e+13</td>\n",
       "      <td>2999</td>\n",
       "      <td>0</td>\n",
       "      <td>34</td>\n",
       "      <td>9</td>\n",
       "      <td>2689</td>\n",
       "      <td>3175</td>\n",
       "      <td>1</td>\n",
       "      <td>0</td>\n",
       "    </tr>\n",
       "    <tr>\n",
       "      <th>4</th>\n",
       "      <td>2.022396e+07</td>\n",
       "      <td>2.022400e+13</td>\n",
       "      <td>2999</td>\n",
       "      <td>0</td>\n",
       "      <td>34</td>\n",
       "      <td>9</td>\n",
       "      <td>2668</td>\n",
       "      <td>3170</td>\n",
       "      <td>1</td>\n",
       "      <td>0</td>\n",
       "    </tr>\n",
       "    <tr>\n",
       "      <th>...</th>\n",
       "      <td>...</td>\n",
       "      <td>...</td>\n",
       "      <td>...</td>\n",
       "      <td>...</td>\n",
       "      <td>...</td>\n",
       "      <td>...</td>\n",
       "      <td>...</td>\n",
       "      <td>...</td>\n",
       "      <td>...</td>\n",
       "      <td>...</td>\n",
       "    </tr>\n",
       "    <tr>\n",
       "      <th>486881</th>\n",
       "      <td>2.022211e+09</td>\n",
       "      <td>2.022210e+15</td>\n",
       "      <td>2501</td>\n",
       "      <td>0</td>\n",
       "      <td>74</td>\n",
       "      <td>14</td>\n",
       "      <td>240036</td>\n",
       "      <td>307539</td>\n",
       "      <td>1</td>\n",
       "      <td>0</td>\n",
       "    </tr>\n",
       "    <tr>\n",
       "      <th>486882</th>\n",
       "      <td>2.022211e+09</td>\n",
       "      <td>2.022210e+15</td>\n",
       "      <td>2604</td>\n",
       "      <td>1</td>\n",
       "      <td>82</td>\n",
       "      <td>14</td>\n",
       "      <td>261806</td>\n",
       "      <td>307564</td>\n",
       "      <td>1</td>\n",
       "      <td>0</td>\n",
       "    </tr>\n",
       "    <tr>\n",
       "      <th>486883</th>\n",
       "      <td>2.022212e+09</td>\n",
       "      <td>2.022210e+15</td>\n",
       "      <td>2605</td>\n",
       "      <td>0</td>\n",
       "      <td>170</td>\n",
       "      <td>14</td>\n",
       "      <td>236128</td>\n",
       "      <td>307574</td>\n",
       "      <td>1</td>\n",
       "      <td>0</td>\n",
       "    </tr>\n",
       "    <tr>\n",
       "      <th>486884</th>\n",
       "      <td>2.022601e+10</td>\n",
       "      <td>2.022600e+16</td>\n",
       "      <td>2605</td>\n",
       "      <td>0</td>\n",
       "      <td>170</td>\n",
       "      <td>14</td>\n",
       "      <td>240122</td>\n",
       "      <td>306211</td>\n",
       "      <td>1</td>\n",
       "      <td>0</td>\n",
       "    </tr>\n",
       "    <tr>\n",
       "      <th>486885</th>\n",
       "      <td>2.022211e+09</td>\n",
       "      <td>2.022210e+15</td>\n",
       "      <td>2607</td>\n",
       "      <td>0</td>\n",
       "      <td>80</td>\n",
       "      <td>14</td>\n",
       "      <td>239058</td>\n",
       "      <td>307541</td>\n",
       "      <td>1</td>\n",
       "      <td>0</td>\n",
       "    </tr>\n",
       "  </tbody>\n",
       "</table>\n",
       "<p>486886 rows × 10 columns</p>\n",
       "</div>"
      ],
      "text/plain": [
       "         incident_id    offense_id  OFFENSE_CODE  OFFENSE_CODE_EXTENSION  \\\n",
       "0       2.022600e+10  2.022600e+16          2999                       0   \n",
       "1       2.022332e+07  2.022330e+13          2999                       0   \n",
       "2       2.022309e+07  2.022310e+13          2999                       0   \n",
       "3       2.022400e+07  2.022400e+13          2999                       0   \n",
       "4       2.022396e+07  2.022400e+13          2999                       0   \n",
       "...              ...           ...           ...                     ...   \n",
       "486881  2.022211e+09  2.022210e+15          2501                       0   \n",
       "486882  2.022211e+09  2.022210e+15          2604                       1   \n",
       "486883  2.022212e+09  2.022210e+15          2605                       0   \n",
       "486884  2.022601e+10  2.022600e+16          2605                       0   \n",
       "486885  2.022211e+09  2.022210e+15          2607                       0   \n",
       "\n",
       "        OFFENSE_TYPE_ID  OFFENSE_CATEGORY_ID  FIRST_OCCURRENCE_DATE  \\\n",
       "0                    34                    9                   3604   \n",
       "1                    34                    9                   2594   \n",
       "2                    34                    9                   2569   \n",
       "3                    34                    9                   2689   \n",
       "4                    34                    9                   2668   \n",
       "...                 ...                  ...                    ...   \n",
       "486881               74                   14                 240036   \n",
       "486882               82                   14                 261806   \n",
       "486883              170                   14                 236128   \n",
       "486884              170                   14                 240122   \n",
       "486885               80                   14                 239058   \n",
       "\n",
       "        REPORTED_DATE  IS_CRIME  IS_TRAFFIC  \n",
       "0                4478         1           0  \n",
       "1                3034         1           0  \n",
       "2                2993         1           0  \n",
       "3                3175         1           0  \n",
       "4                3170         1           0  \n",
       "...               ...       ...         ...  \n",
       "486881         307539         1           0  \n",
       "486882         307564         1           0  \n",
       "486883         307574         1           0  \n",
       "486884         306211         1           0  \n",
       "486885         307541         1           0  \n",
       "\n",
       "[486886 rows x 10 columns]"
      ]
     },
     "execution_count": 13,
     "metadata": {},
     "output_type": "execute_result"
    }
   ],
   "source": [
    "new_df"
   ]
  },
  {
   "cell_type": "code",
   "execution_count": 14,
   "id": "58fabc40",
   "metadata": {},
   "outputs": [
    {
     "data": {
      "text/plain": [
       "array([ 9,  9,  9, ..., 14, 14, 14], dtype=int64)"
      ]
     },
     "execution_count": 14,
     "metadata": {},
     "output_type": "execute_result"
    }
   ],
   "source": [
    "lbl_encode=LabelEncoder()\n",
    "lbl_encode.fit_transform(new_df['OFFENSE_CATEGORY_ID'])"
   ]
  },
  {
   "cell_type": "code",
   "execution_count": 15,
   "id": "ac133423",
   "metadata": {},
   "outputs": [
    {
     "data": {
      "text/plain": [
       "array([  3604,   2594,   2569, ..., 236128, 240122, 239058], dtype=int64)"
      ]
     },
     "execution_count": 15,
     "metadata": {},
     "output_type": "execute_result"
    }
   ],
   "source": [
    "lbl_encode=LabelEncoder()\n",
    "lbl_encode.fit_transform(new_df['FIRST_OCCURRENCE_DATE'])"
   ]
  },
  {
   "cell_type": "code",
   "execution_count": 16,
   "id": "6bfb8c85",
   "metadata": {},
   "outputs": [
    {
     "data": {
      "text/plain": [
       "array([  4478,   3034,   2993, ..., 307574, 306211, 307541], dtype=int64)"
      ]
     },
     "execution_count": 16,
     "metadata": {},
     "output_type": "execute_result"
    }
   ],
   "source": [
    "lbl_encode=LabelEncoder()\n",
    "lbl_encode.fit_transform(new_df['REPORTED_DATE'])"
   ]
  },
  {
   "cell_type": "code",
   "execution_count": 17,
   "id": "91f0fe82",
   "metadata": {},
   "outputs": [
    {
     "data": {
      "text/html": [
       "<div>\n",
       "<style scoped>\n",
       "    .dataframe tbody tr th:only-of-type {\n",
       "        vertical-align: middle;\n",
       "    }\n",
       "\n",
       "    .dataframe tbody tr th {\n",
       "        vertical-align: top;\n",
       "    }\n",
       "\n",
       "    .dataframe thead th {\n",
       "        text-align: right;\n",
       "    }\n",
       "</style>\n",
       "<table border=\"1\" class=\"dataframe\">\n",
       "  <thead>\n",
       "    <tr style=\"text-align: right;\">\n",
       "      <th></th>\n",
       "      <th>incident_id</th>\n",
       "      <th>offense_id</th>\n",
       "      <th>OFFENSE_CODE</th>\n",
       "      <th>OFFENSE_CODE_EXTENSION</th>\n",
       "      <th>OFFENSE_TYPE_ID</th>\n",
       "      <th>OFFENSE_CATEGORY_ID</th>\n",
       "      <th>FIRST_OCCURRENCE_DATE</th>\n",
       "      <th>REPORTED_DATE</th>\n",
       "      <th>IS_CRIME</th>\n",
       "      <th>IS_TRAFFIC</th>\n",
       "    </tr>\n",
       "  </thead>\n",
       "  <tbody>\n",
       "    <tr>\n",
       "      <th>0</th>\n",
       "      <td>2.022600e+10</td>\n",
       "      <td>2.022600e+16</td>\n",
       "      <td>2999</td>\n",
       "      <td>0</td>\n",
       "      <td>34</td>\n",
       "      <td>9</td>\n",
       "      <td>3604</td>\n",
       "      <td>4478</td>\n",
       "      <td>1</td>\n",
       "      <td>0</td>\n",
       "    </tr>\n",
       "    <tr>\n",
       "      <th>1</th>\n",
       "      <td>2.022332e+07</td>\n",
       "      <td>2.022330e+13</td>\n",
       "      <td>2999</td>\n",
       "      <td>0</td>\n",
       "      <td>34</td>\n",
       "      <td>9</td>\n",
       "      <td>2594</td>\n",
       "      <td>3034</td>\n",
       "      <td>1</td>\n",
       "      <td>0</td>\n",
       "    </tr>\n",
       "    <tr>\n",
       "      <th>2</th>\n",
       "      <td>2.022309e+07</td>\n",
       "      <td>2.022310e+13</td>\n",
       "      <td>2999</td>\n",
       "      <td>0</td>\n",
       "      <td>34</td>\n",
       "      <td>9</td>\n",
       "      <td>2569</td>\n",
       "      <td>2993</td>\n",
       "      <td>1</td>\n",
       "      <td>0</td>\n",
       "    </tr>\n",
       "    <tr>\n",
       "      <th>3</th>\n",
       "      <td>2.022400e+07</td>\n",
       "      <td>2.022400e+13</td>\n",
       "      <td>2999</td>\n",
       "      <td>0</td>\n",
       "      <td>34</td>\n",
       "      <td>9</td>\n",
       "      <td>2689</td>\n",
       "      <td>3175</td>\n",
       "      <td>1</td>\n",
       "      <td>0</td>\n",
       "    </tr>\n",
       "    <tr>\n",
       "      <th>4</th>\n",
       "      <td>2.022396e+07</td>\n",
       "      <td>2.022400e+13</td>\n",
       "      <td>2999</td>\n",
       "      <td>0</td>\n",
       "      <td>34</td>\n",
       "      <td>9</td>\n",
       "      <td>2668</td>\n",
       "      <td>3170</td>\n",
       "      <td>1</td>\n",
       "      <td>0</td>\n",
       "    </tr>\n",
       "    <tr>\n",
       "      <th>5</th>\n",
       "      <td>2.022390e+07</td>\n",
       "      <td>2.022390e+13</td>\n",
       "      <td>2999</td>\n",
       "      <td>0</td>\n",
       "      <td>34</td>\n",
       "      <td>9</td>\n",
       "      <td>2664</td>\n",
       "      <td>3156</td>\n",
       "      <td>1</td>\n",
       "      <td>0</td>\n",
       "    </tr>\n",
       "    <tr>\n",
       "      <th>6</th>\n",
       "      <td>2.022390e+07</td>\n",
       "      <td>2.022390e+13</td>\n",
       "      <td>2999</td>\n",
       "      <td>0</td>\n",
       "      <td>34</td>\n",
       "      <td>9</td>\n",
       "      <td>2661</td>\n",
       "      <td>3121</td>\n",
       "      <td>1</td>\n",
       "      <td>0</td>\n",
       "    </tr>\n",
       "    <tr>\n",
       "      <th>7</th>\n",
       "      <td>2.022389e+07</td>\n",
       "      <td>2.022390e+13</td>\n",
       "      <td>2999</td>\n",
       "      <td>0</td>\n",
       "      <td>34</td>\n",
       "      <td>9</td>\n",
       "      <td>2660</td>\n",
       "      <td>3188</td>\n",
       "      <td>1</td>\n",
       "      <td>0</td>\n",
       "    </tr>\n",
       "    <tr>\n",
       "      <th>8</th>\n",
       "      <td>2.022808e+07</td>\n",
       "      <td>2.022810e+13</td>\n",
       "      <td>2999</td>\n",
       "      <td>0</td>\n",
       "      <td>34</td>\n",
       "      <td>9</td>\n",
       "      <td>4569</td>\n",
       "      <td>6658</td>\n",
       "      <td>1</td>\n",
       "      <td>0</td>\n",
       "    </tr>\n",
       "    <tr>\n",
       "      <th>9</th>\n",
       "      <td>2.022456e+07</td>\n",
       "      <td>2.022460e+13</td>\n",
       "      <td>2999</td>\n",
       "      <td>0</td>\n",
       "      <td>34</td>\n",
       "      <td>9</td>\n",
       "      <td>3562</td>\n",
       "      <td>4286</td>\n",
       "      <td>1</td>\n",
       "      <td>0</td>\n",
       "    </tr>\n",
       "  </tbody>\n",
       "</table>\n",
       "</div>"
      ],
      "text/plain": [
       "    incident_id    offense_id  OFFENSE_CODE  OFFENSE_CODE_EXTENSION  \\\n",
       "0  2.022600e+10  2.022600e+16          2999                       0   \n",
       "1  2.022332e+07  2.022330e+13          2999                       0   \n",
       "2  2.022309e+07  2.022310e+13          2999                       0   \n",
       "3  2.022400e+07  2.022400e+13          2999                       0   \n",
       "4  2.022396e+07  2.022400e+13          2999                       0   \n",
       "5  2.022390e+07  2.022390e+13          2999                       0   \n",
       "6  2.022390e+07  2.022390e+13          2999                       0   \n",
       "7  2.022389e+07  2.022390e+13          2999                       0   \n",
       "8  2.022808e+07  2.022810e+13          2999                       0   \n",
       "9  2.022456e+07  2.022460e+13          2999                       0   \n",
       "\n",
       "   OFFENSE_TYPE_ID  OFFENSE_CATEGORY_ID  FIRST_OCCURRENCE_DATE  REPORTED_DATE  \\\n",
       "0               34                    9                   3604           4478   \n",
       "1               34                    9                   2594           3034   \n",
       "2               34                    9                   2569           2993   \n",
       "3               34                    9                   2689           3175   \n",
       "4               34                    9                   2668           3170   \n",
       "5               34                    9                   2664           3156   \n",
       "6               34                    9                   2661           3121   \n",
       "7               34                    9                   2660           3188   \n",
       "8               34                    9                   4569           6658   \n",
       "9               34                    9                   3562           4286   \n",
       "\n",
       "   IS_CRIME  IS_TRAFFIC  \n",
       "0         1           0  \n",
       "1         1           0  \n",
       "2         1           0  \n",
       "3         1           0  \n",
       "4         1           0  \n",
       "5         1           0  \n",
       "6         1           0  \n",
       "7         1           0  \n",
       "8         1           0  \n",
       "9         1           0  "
      ]
     },
     "execution_count": 17,
     "metadata": {},
     "output_type": "execute_result"
    }
   ],
   "source": [
    "new_df.head(10)"
   ]
  },
  {
   "cell_type": "markdown",
   "id": "31a511e0",
   "metadata": {},
   "source": [
    "# Test and Split"
   ]
  },
  {
   "cell_type": "code",
   "execution_count": 18,
   "id": "2996e4f0",
   "metadata": {},
   "outputs": [],
   "source": [
    "x=new_df.drop(\"OFFENSE_CATEGORY_ID\",axis=1)\n",
    "y=new_df[\"OFFENSE_CATEGORY_ID\"]"
   ]
  },
  {
   "cell_type": "code",
   "execution_count": 19,
   "id": "ea0f077f",
   "metadata": {},
   "outputs": [
    {
     "name": "stdout",
     "output_type": "stream",
     "text": [
      "389508\n",
      "97378\n"
     ]
    }
   ],
   "source": [
    "x_train, x_test, y_train, y_test = train_test_split(x, y, test_size=0.2, random_state=0)\n",
    "\n",
    "print(len(y_train))\n",
    "print(len(y_test))\n"
   ]
  },
  {
   "cell_type": "markdown",
   "id": "184213f0",
   "metadata": {},
   "source": [
    "# Decision Tree Classifier"
   ]
  },
  {
   "cell_type": "code",
   "execution_count": 20,
   "id": "1ae2abe3",
   "metadata": {},
   "outputs": [
    {
     "data": {
      "text/plain": [
       "0.8857647517919859"
      ]
     },
     "execution_count": 20,
     "metadata": {},
     "output_type": "execute_result"
    }
   ],
   "source": [
    "from sklearn import tree\n",
    "dt_clf=tree.DecisionTreeClassifier(max_depth=5)\n",
    "dt_clf.fit(x_train, y_train)\n",
    "dt_clf.score(x_test, y_test)\n",
    "\n",
    "y_pred= dt_clf.predict(x_test)\n",
    "dt_clf.score(x_test, y_test)\n"
   ]
  },
  {
   "cell_type": "code",
   "execution_count": 21,
   "id": "5c1cd2af",
   "metadata": {},
   "outputs": [],
   "source": [
    "#Accuracy= accuracy_score(y_test, y_pred) \n",
    "#Kappa= cohen_kappa_score(y_test, y_pred)\n",
    "#Accuracy, Kappa"
   ]
  },
  {
   "cell_type": "code",
   "execution_count": 22,
   "id": "acd1955b",
   "metadata": {},
   "outputs": [],
   "source": [
    "#y_pred= dt_clf.predict(x_test)\n",
    "#from sklearn.metrics import confusion_matrix\n",
    "#confusion_matrix(y_test, y_pred)"
   ]
  },
  {
   "cell_type": "code",
   "execution_count": 23,
   "id": "41d75680",
   "metadata": {},
   "outputs": [],
   "source": [
    "import time\n",
    " \n",
    "# we initialize the variable start\n",
    "# to store the starting time of\n",
    "# execution of program\n",
    "start = time.time()"
   ]
  },
  {
   "cell_type": "markdown",
   "id": "d596a98b",
   "metadata": {},
   "source": [
    "# K-fold Cross validation"
   ]
  },
  {
   "cell_type": "code",
   "execution_count": 24,
   "id": "ee153ed4",
   "metadata": {},
   "outputs": [
    {
     "data": {
      "text/plain": [
       "array([0.7624104 , 0.82821582, 0.87627596, 0.93368112, 0.93854875,\n",
       "       0.94349853, 0.87629395, 0.93337167, 0.84004272, 0.83733158])"
      ]
     },
     "execution_count": 24,
     "metadata": {},
     "output_type": "execute_result"
    }
   ],
   "source": [
    "from sklearn.model_selection import cross_val_score\n",
    "scores = cross_val_score(dt_clf, x, y, cv=10)\n",
    "scores"
   ]
  },
  {
   "cell_type": "code",
   "execution_count": 25,
   "id": "9c15a43e",
   "metadata": {},
   "outputs": [
    {
     "name": "stdout",
     "output_type": "stream",
     "text": [
      "0.8769670501343787\n"
     ]
    }
   ],
   "source": [
    "print(np.mean(scores))"
   ]
  },
  {
   "cell_type": "code",
   "execution_count": 26,
   "id": "fc9fbdac",
   "metadata": {},
   "outputs": [
    {
     "name": "stdout",
     "output_type": "stream",
     "text": [
      "The time of execution of above program is : 51.67111587524414\n"
     ]
    }
   ],
   "source": [
    "end = time.time()\n",
    " \n",
    "# difference of start and end variables\n",
    "# gives the time of execution of the\n",
    "# program in between\n",
    "print(\"The time of execution of above program is :\", end-start)"
   ]
  },
  {
   "cell_type": "code",
   "execution_count": 27,
   "id": "ee67d9e1",
   "metadata": {},
   "outputs": [],
   "source": [
    "import time\n",
    " \n",
    "# we initialize the variable start\n",
    "# to store the starting time of\n",
    "# execution of program\n",
    "start = time.time()\n",
    " "
   ]
  },
  {
   "cell_type": "markdown",
   "id": "e86de55b",
   "metadata": {},
   "source": [
    "# Stratified Cross Validation"
   ]
  },
  {
   "cell_type": "code",
   "execution_count": 28,
   "id": "534fe3df",
   "metadata": {},
   "outputs": [],
   "source": [
    "skfold=StratifiedKFold(n_splits=10)\n",
    "outcome = cross_val_score(dt_clf, x,y, cv=skfold)\n"
   ]
  },
  {
   "cell_type": "code",
   "execution_count": 29,
   "id": "c3c9ace6",
   "metadata": {},
   "outputs": [
    {
     "name": "stdout",
     "output_type": "stream",
     "text": [
      "0.8769670501343787\n"
     ]
    }
   ],
   "source": [
    "print(np.mean(outcome))"
   ]
  },
  {
   "cell_type": "code",
   "execution_count": 30,
   "id": "0c989a85",
   "metadata": {},
   "outputs": [
    {
     "data": {
      "text/plain": [
       "array([0.7624104 , 0.82821582, 0.87627596, 0.93368112, 0.93854875,\n",
       "       0.94349853, 0.87629395, 0.93337167, 0.84004272, 0.83733158])"
      ]
     },
     "execution_count": 30,
     "metadata": {},
     "output_type": "execute_result"
    }
   ],
   "source": [
    "outcome"
   ]
  },
  {
   "cell_type": "code",
   "execution_count": 31,
   "id": "635fe8b4",
   "metadata": {},
   "outputs": [
    {
     "name": "stdout",
     "output_type": "stream",
     "text": [
      "The time of execution of above program is : 58.09089374542236\n"
     ]
    }
   ],
   "source": [
    "end = time.time()\n",
    " \n",
    "# difference of start and end variables\n",
    "# gives the time of execution of the\n",
    "# program in between\n",
    "print(\"The time of execution of above program is :\", end-start)"
   ]
  },
  {
   "cell_type": "code",
   "execution_count": 32,
   "id": "8ae8b80f",
   "metadata": {},
   "outputs": [],
   "source": [
    "import time\n",
    " \n",
    "# we initialize the variable start\n",
    "# to store the starting time of\n",
    "# execution of program\n",
    "start = time.time()\n",
    " "
   ]
  },
  {
   "cell_type": "markdown",
   "id": "74dc2098",
   "metadata": {},
   "source": [
    "# Repeated Random Train-Test Splits"
   ]
  },
  {
   "cell_type": "code",
   "execution_count": 33,
   "id": "c21a135d",
   "metadata": {},
   "outputs": [],
   "source": [
    "from sklearn.model_selection import ShuffleSplit\n",
    "ssplit=ShuffleSplit(n_splits=10, test_size=0.30)\n",
    "results=cross_val_score(dt_clf,x,y,cv=ssplit)"
   ]
  },
  {
   "cell_type": "code",
   "execution_count": 34,
   "id": "9f3d35c6",
   "metadata": {},
   "outputs": [
    {
     "data": {
      "text/plain": [
       "array([0.88545589, 0.88446319, 0.88529843, 0.88293648, 0.8837101 ,\n",
       "       0.88364849, 0.88313502, 0.88311448, 0.8845248 , 0.88386072])"
      ]
     },
     "execution_count": 34,
     "metadata": {},
     "output_type": "execute_result"
    }
   ],
   "source": [
    "results"
   ]
  },
  {
   "cell_type": "code",
   "execution_count": 35,
   "id": "05fc4201",
   "metadata": {},
   "outputs": [
    {
     "name": "stdout",
     "output_type": "stream",
     "text": [
      "0.8840147604507551\n"
     ]
    }
   ],
   "source": [
    "print(np.mean(results))"
   ]
  },
  {
   "cell_type": "code",
   "execution_count": 36,
   "id": "015621d8",
   "metadata": {},
   "outputs": [
    {
     "name": "stdout",
     "output_type": "stream",
     "text": [
      "The time of execution of above program is : 33.21608304977417\n"
     ]
    }
   ],
   "source": [
    "end = time.time()\n",
    " \n",
    "# difference of start and end variables\n",
    "# gives the time of execution of the\n",
    "# program in between\n",
    "print(\"The time of execution of above program is :\", end-start)"
   ]
  },
  {
   "cell_type": "markdown",
   "id": "aaf60426",
   "metadata": {},
   "source": [
    "# Random Forest Classifier"
   ]
  },
  {
   "cell_type": "code",
   "execution_count": 37,
   "id": "7a69cbe0",
   "metadata": {},
   "outputs": [
    {
     "data": {
      "text/plain": [
       "1.0"
      ]
     },
     "execution_count": 37,
     "metadata": {},
     "output_type": "execute_result"
    }
   ],
   "source": [
    "from sklearn import ensemble\n",
    "rf_clf= ensemble.RandomForestClassifier(n_estimators=100)\n",
    "rf_clf.fit(x_train, y_train)\n",
    "rf_clf.score(x_train, y_train)"
   ]
  },
  {
   "cell_type": "code",
   "execution_count": 38,
   "id": "7a9c678f",
   "metadata": {},
   "outputs": [],
   "source": [
    "import time\n",
    " \n",
    "# we initialize the variable start\n",
    "# to store the starting time of\n",
    "# execution of program\n",
    "start = time.time()"
   ]
  },
  {
   "cell_type": "markdown",
   "id": "00e2bdb4",
   "metadata": {},
   "source": [
    "# K-fold Cross validation"
   ]
  },
  {
   "cell_type": "code",
   "execution_count": 39,
   "id": "5560172b",
   "metadata": {},
   "outputs": [
    {
     "data": {
      "text/plain": [
       "array([0.97178007, 0.999199  , 0.99932223, 1.        , 1.        ,\n",
       "       1.        , 0.98899113, 0.99979461, 0.99827473, 0.94840618])"
      ]
     },
     "execution_count": 39,
     "metadata": {},
     "output_type": "execute_result"
    }
   ],
   "source": [
    "from sklearn.model_selection import cross_val_score\n",
    "scores = cross_val_score(rf_clf, x, y, cv=10)\n",
    "scores"
   ]
  },
  {
   "cell_type": "code",
   "execution_count": 40,
   "id": "f9cf3750",
   "metadata": {},
   "outputs": [
    {
     "name": "stdout",
     "output_type": "stream",
     "text": [
      "0.9905767944846777\n"
     ]
    }
   ],
   "source": [
    "print(np.mean(scores))"
   ]
  },
  {
   "cell_type": "code",
   "execution_count": 42,
   "id": "f31ce0cd",
   "metadata": {},
   "outputs": [
    {
     "name": "stdout",
     "output_type": "stream",
     "text": [
      "The time of execution of above program is : 950.7967915534973\n"
     ]
    }
   ],
   "source": [
    "end = time.time()\n",
    " \n",
    "# difference of start and end variables\n",
    "# gives the time of execution of the\n",
    "# program in between\n",
    "print(\"The time of execution of above program is :\", end-start)"
   ]
  },
  {
   "cell_type": "code",
   "execution_count": 43,
   "id": "86723936",
   "metadata": {},
   "outputs": [],
   "source": [
    "import time\n",
    " \n",
    "# we initialize the variable start\n",
    "# to store the starting time of\n",
    "# execution of program\n",
    "start = time.time()\n",
    " "
   ]
  },
  {
   "cell_type": "markdown",
   "id": "57c9c564",
   "metadata": {},
   "source": [
    "# Stratified Cross Validation"
   ]
  },
  {
   "cell_type": "code",
   "execution_count": 44,
   "id": "f982f4ac",
   "metadata": {},
   "outputs": [],
   "source": [
    "skfold=StratifiedKFold(n_splits=10)\n",
    "outcome = cross_val_score(rf_clf, x,y, cv=skfold)\n"
   ]
  },
  {
   "cell_type": "code",
   "execution_count": 45,
   "id": "cf2bd688",
   "metadata": {},
   "outputs": [
    {
     "name": "stdout",
     "output_type": "stream",
     "text": [
      "0.9901988932677102\n"
     ]
    }
   ],
   "source": [
    "print(np.mean(outcome))"
   ]
  },
  {
   "cell_type": "code",
   "execution_count": 47,
   "id": "7c4b1d55",
   "metadata": {},
   "outputs": [
    {
     "data": {
      "text/plain": [
       "array([0.97399823, 0.99874715, 0.99010043, 1.        , 1.        ,\n",
       "       1.        , 0.98798472, 0.99993838, 0.99893198, 0.95228804])"
      ]
     },
     "execution_count": 47,
     "metadata": {},
     "output_type": "execute_result"
    }
   ],
   "source": [
    "outcome"
   ]
  },
  {
   "cell_type": "code",
   "execution_count": 48,
   "id": "6423c3e5",
   "metadata": {},
   "outputs": [
    {
     "name": "stdout",
     "output_type": "stream",
     "text": [
      "The time of execution of above program is : 827.8878796100616\n"
     ]
    }
   ],
   "source": [
    "end = time.time()\n",
    " \n",
    "# difference of start and end variables\n",
    "# gives the time of execution of the\n",
    "# program in between\n",
    "print(\"The time of execution of above program is :\", end-start)"
   ]
  },
  {
   "cell_type": "code",
   "execution_count": 49,
   "id": "1ee328b5",
   "metadata": {},
   "outputs": [],
   "source": [
    "import time\n",
    " \n",
    "# we initialize the variable start\n",
    "# to store the starting time of\n",
    "# execution of program\n",
    "start = time.time()\n",
    " "
   ]
  },
  {
   "cell_type": "markdown",
   "id": "7a0081b3",
   "metadata": {},
   "source": [
    "# Repeated Random Train-Test Splits"
   ]
  },
  {
   "cell_type": "code",
   "execution_count": 50,
   "id": "6a1a0121",
   "metadata": {},
   "outputs": [],
   "source": [
    "from sklearn.model_selection import ShuffleSplit\n",
    "ssplit=ShuffleSplit(n_splits=10, test_size=0.30)\n",
    "results=cross_val_score(rf_clf,x,y,cv=ssplit)"
   ]
  },
  {
   "cell_type": "code",
   "execution_count": 51,
   "id": "7ea10c5e",
   "metadata": {},
   "outputs": [
    {
     "data": {
      "text/plain": [
       "array([0.99994523, 0.99997262, 0.99997262, 0.99996577, 0.99998631,\n",
       "       0.99996577, 0.99997262, 0.99993838, 0.99994523, 0.99992469])"
      ]
     },
     "execution_count": 51,
     "metadata": {},
     "output_type": "execute_result"
    }
   ],
   "source": [
    "results"
   ]
  },
  {
   "cell_type": "code",
   "execution_count": 52,
   "id": "dff2bd8d",
   "metadata": {},
   "outputs": [
    {
     "name": "stdout",
     "output_type": "stream",
     "text": [
      "0.999958922678789\n"
     ]
    }
   ],
   "source": [
    "print(np.mean(results))"
   ]
  },
  {
   "cell_type": "code",
   "execution_count": 54,
   "id": "8db2583b",
   "metadata": {},
   "outputs": [
    {
     "name": "stdout",
     "output_type": "stream",
     "text": [
      "The time of execution of above program is : 767.1210119724274\n"
     ]
    }
   ],
   "source": [
    "end = time.time()\n",
    " \n",
    "# difference of start and end variables\n",
    "# gives the time of execution of the\n",
    "# program in between\n",
    "print(\"The time of execution of above program is :\", end-start)"
   ]
  },
  {
   "cell_type": "markdown",
   "id": "d1d58c0c",
   "metadata": {},
   "source": [
    "# Naive Bayes Classifier"
   ]
  },
  {
   "cell_type": "code",
   "execution_count": 55,
   "id": "7b774e6a",
   "metadata": {},
   "outputs": [
    {
     "data": {
      "text/plain": [
       "0.1494860182589318"
      ]
     },
     "execution_count": 55,
     "metadata": {},
     "output_type": "execute_result"
    }
   ],
   "source": [
    "from sklearn.naive_bayes import GaussianNB\n",
    "nb_clf= GaussianNB()\n",
    "nb_clf.fit(x_train, y_train)\n",
    "nb_clf.score(x_train, y_train)"
   ]
  },
  {
   "cell_type": "code",
   "execution_count": 56,
   "id": "12014d86",
   "metadata": {},
   "outputs": [],
   "source": [
    "import time\n",
    " \n",
    "# we initialize the variable start\n",
    "# to store the starting time of\n",
    "# execution of program\n",
    "start = time.time()"
   ]
  },
  {
   "cell_type": "markdown",
   "id": "3186b770",
   "metadata": {},
   "source": [
    "# K-fold Cross validation"
   ]
  },
  {
   "cell_type": "code",
   "execution_count": 57,
   "id": "6e555afe",
   "metadata": {},
   "outputs": [
    {
     "data": {
      "text/plain": [
       "array([0.16825156, 0.16165869, 0.1701411 , 0.16436978, 0.13674547,\n",
       "       0.13939494, 0.16008051, 0.14572379, 0.14247864, 0.14701775])"
      ]
     },
     "execution_count": 57,
     "metadata": {},
     "output_type": "execute_result"
    }
   ],
   "source": [
    "from sklearn.model_selection import cross_val_score\n",
    "scores = cross_val_score(nb_clf, x, y, cv=10)\n",
    "scores"
   ]
  },
  {
   "cell_type": "code",
   "execution_count": 58,
   "id": "a698b59b",
   "metadata": {},
   "outputs": [
    {
     "name": "stdout",
     "output_type": "stream",
     "text": [
      "0.15358622132450886\n"
     ]
    }
   ],
   "source": [
    "print(np.mean(scores))"
   ]
  },
  {
   "cell_type": "code",
   "execution_count": 59,
   "id": "cba51a29",
   "metadata": {},
   "outputs": [
    {
     "name": "stdout",
     "output_type": "stream",
     "text": [
      "The time of execution of above program is : 13.342898607254028\n"
     ]
    }
   ],
   "source": [
    "end = time.time()\n",
    " \n",
    "# difference of start and end variables\n",
    "# gives the time of execution of the\n",
    "# program in between\n",
    "print(\"The time of execution of above program is :\", end-start)"
   ]
  },
  {
   "cell_type": "code",
   "execution_count": 60,
   "id": "a88994e6",
   "metadata": {},
   "outputs": [],
   "source": [
    "import time\n",
    " \n",
    "# we initialize the variable start\n",
    "# to store the starting time of\n",
    "# execution of program\n",
    "start = time.time()\n",
    " "
   ]
  },
  {
   "cell_type": "markdown",
   "id": "6af3b06f",
   "metadata": {},
   "source": [
    "# Stratified Cross Validation"
   ]
  },
  {
   "cell_type": "code",
   "execution_count": 61,
   "id": "7c0b3ddc",
   "metadata": {},
   "outputs": [],
   "source": [
    "skfold=StratifiedKFold(n_splits=10)\n",
    "outcome = cross_val_score(nb_clf, x,y, cv=skfold)\n"
   ]
  },
  {
   "cell_type": "code",
   "execution_count": 62,
   "id": "68d1f374",
   "metadata": {},
   "outputs": [
    {
     "name": "stdout",
     "output_type": "stream",
     "text": [
      "0.15358622132450886\n"
     ]
    }
   ],
   "source": [
    "print(np.mean(outcome))"
   ]
  },
  {
   "cell_type": "code",
   "execution_count": 63,
   "id": "4ed512a4",
   "metadata": {},
   "outputs": [
    {
     "data": {
      "text/plain": [
       "array([0.16825156, 0.16165869, 0.1701411 , 0.16436978, 0.13674547,\n",
       "       0.13939494, 0.16008051, 0.14572379, 0.14247864, 0.14701775])"
      ]
     },
     "execution_count": 63,
     "metadata": {},
     "output_type": "execute_result"
    }
   ],
   "source": [
    "outcome"
   ]
  },
  {
   "cell_type": "code",
   "execution_count": 64,
   "id": "0aa92a7a",
   "metadata": {},
   "outputs": [
    {
     "name": "stdout",
     "output_type": "stream",
     "text": [
      "The time of execution of above program is : 22.161850452423096\n"
     ]
    }
   ],
   "source": [
    "end = time.time()\n",
    " \n",
    "# difference of start and end variables\n",
    "# gives the time of execution of the\n",
    "# program in between\n",
    "print(\"The time of execution of above program is :\", end-start)"
   ]
  },
  {
   "cell_type": "code",
   "execution_count": 65,
   "id": "dcd2657a",
   "metadata": {},
   "outputs": [],
   "source": [
    "import time\n",
    " \n",
    "# we initialize the variable start\n",
    "# to store the starting time of\n",
    "# execution of program\n",
    "start = time.time()\n",
    " "
   ]
  },
  {
   "cell_type": "markdown",
   "id": "219eb8cd",
   "metadata": {},
   "source": [
    "# Repeated Random Train-Test Splits"
   ]
  },
  {
   "cell_type": "code",
   "execution_count": 66,
   "id": "df931cb5",
   "metadata": {},
   "outputs": [],
   "source": [
    "from sklearn.model_selection import ShuffleSplit\n",
    "ssplit=ShuffleSplit(n_splits=10, test_size=0.30)\n",
    "results=cross_val_score(nb_clf,x,y,cv=ssplit)"
   ]
  },
  {
   "cell_type": "code",
   "execution_count": 67,
   "id": "2fa7dd40",
   "metadata": {},
   "outputs": [
    {
     "data": {
      "text/plain": [
       "array([0.15081538, 0.15354703, 0.14953514, 0.15032246, 0.15030192,\n",
       "       0.14985007, 0.15113031, 0.15063738, 0.1484329 , 0.28505607])"
      ]
     },
     "execution_count": 67,
     "metadata": {},
     "output_type": "execute_result"
    }
   ],
   "source": [
    "results"
   ]
  },
  {
   "cell_type": "code",
   "execution_count": 68,
   "id": "9f6f39d9",
   "metadata": {},
   "outputs": [
    {
     "name": "stdout",
     "output_type": "stream",
     "text": [
      "0.1639628661016253\n"
     ]
    }
   ],
   "source": [
    "print(np.mean(results))"
   ]
  },
  {
   "cell_type": "code",
   "execution_count": 69,
   "id": "23d55521",
   "metadata": {},
   "outputs": [
    {
     "name": "stdout",
     "output_type": "stream",
     "text": [
      "The time of execution of above program is : 24.305767059326172\n"
     ]
    }
   ],
   "source": [
    "end = time.time()\n",
    " \n",
    "# difference of start and end variables\n",
    "# gives the time of execution of the\n",
    "# program in between\n",
    "print(\"The time of execution of above program is :\", end-start)"
   ]
  },
  {
   "cell_type": "code",
   "execution_count": null,
   "id": "fbeb3385",
   "metadata": {},
   "outputs": [],
   "source": []
  },
  {
   "cell_type": "markdown",
   "id": "903919e0",
   "metadata": {},
   "source": [
    "# K-Nearest Neighbour Classifier"
   ]
  },
  {
   "cell_type": "code",
   "execution_count": 70,
   "id": "b90cc5fb",
   "metadata": {},
   "outputs": [
    {
     "data": {
      "text/plain": [
       "0.7712550191523666"
      ]
     },
     "execution_count": 70,
     "metadata": {},
     "output_type": "execute_result"
    }
   ],
   "source": [
    "from sklearn.neighbors import KNeighborsClassifier\n",
    "knn_clf= KNeighborsClassifier(n_neighbors=3)\n",
    "knn_clf.fit(x_train, y_train)\n",
    "knn_clf.score(x_train, y_train)"
   ]
  },
  {
   "cell_type": "code",
   "execution_count": 71,
   "id": "6d2e985e",
   "metadata": {},
   "outputs": [],
   "source": [
    "import time\n",
    " \n",
    "# we initialize the variable start\n",
    "# to store the starting time of\n",
    "# execution of program\n",
    "start = time.time()"
   ]
  },
  {
   "cell_type": "markdown",
   "id": "a6b867c3",
   "metadata": {},
   "source": [
    "# K-fold cross validation"
   ]
  },
  {
   "cell_type": "code",
   "execution_count": 72,
   "id": "a60112b8",
   "metadata": {},
   "outputs": [
    {
     "data": {
      "text/plain": [
       "array([0.53856107, 0.5256218 , 0.50530921, 0.47797244, 0.48596192,\n",
       "       0.4540656 , 0.48231597, 0.47905028, 0.50679839, 0.29391226])"
      ]
     },
     "execution_count": 72,
     "metadata": {},
     "output_type": "execute_result"
    }
   ],
   "source": [
    "from sklearn.model_selection import cross_val_score\n",
    "scores = cross_val_score(knn_clf, x, y, cv=10)\n",
    "scores"
   ]
  },
  {
   "cell_type": "code",
   "execution_count": 73,
   "id": "711b3d64",
   "metadata": {},
   "outputs": [
    {
     "name": "stdout",
     "output_type": "stream",
     "text": [
      "0.4749568939121727\n"
     ]
    }
   ],
   "source": [
    "print(np.mean(scores))"
   ]
  },
  {
   "cell_type": "code",
   "execution_count": 74,
   "id": "cb995117",
   "metadata": {},
   "outputs": [
    {
     "name": "stdout",
     "output_type": "stream",
     "text": [
      "The time of execution of above program is : 121.05530571937561\n"
     ]
    }
   ],
   "source": [
    "end = time.time()\n",
    " \n",
    "# difference of start and end variables\n",
    "# gives the time of execution of the\n",
    "# program in between\n",
    "print(\"The time of execution of above program is :\", end-start)"
   ]
  },
  {
   "cell_type": "code",
   "execution_count": 75,
   "id": "3e5d5653",
   "metadata": {},
   "outputs": [],
   "source": [
    "import time\n",
    " \n",
    "# we initialize the variable start\n",
    "# to store the starting time of\n",
    "# execution of program\n",
    "start = time.time()\n",
    " "
   ]
  },
  {
   "cell_type": "markdown",
   "id": "b7fc6a88",
   "metadata": {},
   "source": [
    "# Stratified Cross Validation"
   ]
  },
  {
   "cell_type": "code",
   "execution_count": 76,
   "id": "216f85bc",
   "metadata": {},
   "outputs": [],
   "source": [
    "skfold=StratifiedKFold(n_splits=10)\n",
    "outcome = cross_val_score(knn_clf, x,y, cv=skfold)\n"
   ]
  },
  {
   "cell_type": "code",
   "execution_count": 77,
   "id": "8e113c1a",
   "metadata": {},
   "outputs": [
    {
     "name": "stdout",
     "output_type": "stream",
     "text": [
      "0.4749568939121727\n"
     ]
    }
   ],
   "source": [
    "print(np.mean(outcome))"
   ]
  },
  {
   "cell_type": "code",
   "execution_count": 78,
   "id": "a9535a20",
   "metadata": {},
   "outputs": [
    {
     "data": {
      "text/plain": [
       "array([0.53856107, 0.5256218 , 0.50530921, 0.47797244, 0.48596192,\n",
       "       0.4540656 , 0.48231597, 0.47905028, 0.50679839, 0.29391226])"
      ]
     },
     "execution_count": 78,
     "metadata": {},
     "output_type": "execute_result"
    }
   ],
   "source": [
    "outcome"
   ]
  },
  {
   "cell_type": "code",
   "execution_count": 79,
   "id": "46688269",
   "metadata": {},
   "outputs": [
    {
     "name": "stdout",
     "output_type": "stream",
     "text": [
      "The time of execution of above program is : 134.65222644805908\n"
     ]
    }
   ],
   "source": [
    "end = time.time()\n",
    " \n",
    "# difference of start and end variables\n",
    "# gives the time of execution of the\n",
    "# program in between\n",
    "print(\"The time of execution of above program is :\", end-start)"
   ]
  },
  {
   "cell_type": "code",
   "execution_count": 80,
   "id": "f5c2c974",
   "metadata": {},
   "outputs": [],
   "source": [
    "import time\n",
    " \n",
    "# we initialize the variable start\n",
    "# to store the starting time of\n",
    "# execution of program\n",
    "start = time.time()\n",
    " "
   ]
  },
  {
   "cell_type": "markdown",
   "id": "57e5b5d6",
   "metadata": {},
   "source": [
    "# Repeated Random Train-Test Splits"
   ]
  },
  {
   "cell_type": "code",
   "execution_count": 81,
   "id": "edaf3488",
   "metadata": {},
   "outputs": [],
   "source": [
    "from sklearn.model_selection import ShuffleSplit\n",
    "ssplit=ShuffleSplit(n_splits=10, test_size=0.30)\n",
    "results=cross_val_score(knn_clf,x,y,cv=ssplit)"
   ]
  },
  {
   "cell_type": "code",
   "execution_count": 82,
   "id": "51e14424",
   "metadata": {},
   "outputs": [
    {
     "data": {
      "text/plain": [
       "array([0.56566894, 0.56343023, 0.56660688, 0.56757219, 0.56577848,\n",
       "       0.56397108, 0.56498432, 0.5671135 , 0.56579218, 0.56462832])"
      ]
     },
     "execution_count": 82,
     "metadata": {},
     "output_type": "execute_result"
    }
   ],
   "source": [
    "results"
   ]
  },
  {
   "cell_type": "code",
   "execution_count": 83,
   "id": "4245cc66",
   "metadata": {},
   "outputs": [
    {
     "name": "stdout",
     "output_type": "stream",
     "text": [
      "0.56555461229855\n"
     ]
    }
   ],
   "source": [
    "print(np.mean(results))"
   ]
  },
  {
   "cell_type": "code",
   "execution_count": 84,
   "id": "6f709cd1",
   "metadata": {},
   "outputs": [
    {
     "name": "stdout",
     "output_type": "stream",
     "text": [
      "The time of execution of above program is : 183.83489966392517\n"
     ]
    }
   ],
   "source": [
    "end = time.time()\n",
    " \n",
    "# difference of start and end variables\n",
    "# gives the time of execution of the\n",
    "# program in between\n",
    "print(\"The time of execution of above program is :\", end-start)"
   ]
  },
  {
   "cell_type": "markdown",
   "id": "4ae2abca",
   "metadata": {},
   "source": [
    "# Logistic Regression Classifier"
   ]
  },
  {
   "cell_type": "code",
   "execution_count": 85,
   "id": "549e14fa",
   "metadata": {},
   "outputs": [
    {
     "data": {
      "text/plain": [
       "0.10722757940786838"
      ]
     },
     "execution_count": 85,
     "metadata": {},
     "output_type": "execute_result"
    }
   ],
   "source": [
    "from sklearn.linear_model import LogisticRegression\n",
    "lr_clf= LogisticRegression()\n",
    "lr_clf.fit(x_train, y_train)\n",
    "lr_clf.score(x_train, y_train)"
   ]
  },
  {
   "cell_type": "code",
   "execution_count": 86,
   "id": "752c2dde",
   "metadata": {},
   "outputs": [],
   "source": [
    "import time\n",
    " \n",
    "# we initialize the variable start\n",
    "# to store the starting time of\n",
    "# execution of program\n",
    "start = time.time()"
   ]
  },
  {
   "cell_type": "markdown",
   "id": "8d9f7409",
   "metadata": {},
   "source": [
    "# K-fold cross validation"
   ]
  },
  {
   "cell_type": "code",
   "execution_count": 87,
   "id": "5fc3988b",
   "metadata": {},
   "outputs": [
    {
     "name": "stderr",
     "output_type": "stream",
     "text": [
      "C:\\ProgramData\\Anaconda3\\lib\\site-packages\\sklearn\\linear_model\\_logistic.py:763: ConvergenceWarning: lbfgs failed to converge (status=1):\n",
      "STOP: TOTAL NO. of ITERATIONS REACHED LIMIT.\n",
      "\n",
      "Increase the number of iterations (max_iter) or scale the data as shown in:\n",
      "    https://scikit-learn.org/stable/modules/preprocessing.html\n",
      "Please also refer to the documentation for alternative solver options:\n",
      "    https://scikit-learn.org/stable/modules/linear_model.html#logistic-regression\n",
      "  n_iter_i = _check_optimize_result(\n",
      "C:\\ProgramData\\Anaconda3\\lib\\site-packages\\sklearn\\linear_model\\_logistic.py:763: ConvergenceWarning: lbfgs failed to converge (status=1):\n",
      "STOP: TOTAL NO. of ITERATIONS REACHED LIMIT.\n",
      "\n",
      "Increase the number of iterations (max_iter) or scale the data as shown in:\n",
      "    https://scikit-learn.org/stable/modules/preprocessing.html\n",
      "Please also refer to the documentation for alternative solver options:\n",
      "    https://scikit-learn.org/stable/modules/linear_model.html#logistic-regression\n",
      "  n_iter_i = _check_optimize_result(\n",
      "C:\\ProgramData\\Anaconda3\\lib\\site-packages\\sklearn\\linear_model\\_logistic.py:763: ConvergenceWarning: lbfgs failed to converge (status=1):\n",
      "STOP: TOTAL NO. of ITERATIONS REACHED LIMIT.\n",
      "\n",
      "Increase the number of iterations (max_iter) or scale the data as shown in:\n",
      "    https://scikit-learn.org/stable/modules/preprocessing.html\n",
      "Please also refer to the documentation for alternative solver options:\n",
      "    https://scikit-learn.org/stable/modules/linear_model.html#logistic-regression\n",
      "  n_iter_i = _check_optimize_result(\n",
      "C:\\ProgramData\\Anaconda3\\lib\\site-packages\\sklearn\\linear_model\\_logistic.py:763: ConvergenceWarning: lbfgs failed to converge (status=1):\n",
      "STOP: TOTAL NO. of ITERATIONS REACHED LIMIT.\n",
      "\n",
      "Increase the number of iterations (max_iter) or scale the data as shown in:\n",
      "    https://scikit-learn.org/stable/modules/preprocessing.html\n",
      "Please also refer to the documentation for alternative solver options:\n",
      "    https://scikit-learn.org/stable/modules/linear_model.html#logistic-regression\n",
      "  n_iter_i = _check_optimize_result(\n"
     ]
    },
    {
     "data": {
      "text/plain": [
       "array([0.10739592, 0.10739592, 0.10739592, 0.10739592, 0.10739592,\n",
       "       0.10739592, 0.10739813, 0.10739813, 0.10739813, 0.10739813])"
      ]
     },
     "execution_count": 87,
     "metadata": {},
     "output_type": "execute_result"
    }
   ],
   "source": [
    "from sklearn.model_selection import cross_val_score\n",
    "scores = cross_val_score(lr_clf, x, y, cv=10)\n",
    "scores"
   ]
  },
  {
   "cell_type": "code",
   "execution_count": 88,
   "id": "0f001ad0",
   "metadata": {},
   "outputs": [
    {
     "name": "stdout",
     "output_type": "stream",
     "text": [
      "0.10739680336935939\n"
     ]
    }
   ],
   "source": [
    "print(np.mean(scores))"
   ]
  },
  {
   "cell_type": "code",
   "execution_count": 90,
   "id": "2a50088d",
   "metadata": {},
   "outputs": [
    {
     "name": "stdout",
     "output_type": "stream",
     "text": [
      "The time of execution of above program is : 945.7310492992401\n"
     ]
    }
   ],
   "source": [
    "end = time.time()\n",
    " \n",
    "# difference of start and end variables\n",
    "# gives the time of execution of the\n",
    "# program in between\n",
    "print(\"The time of execution of above program is :\", end-start)"
   ]
  },
  {
   "cell_type": "code",
   "execution_count": 91,
   "id": "c5268ac4",
   "metadata": {},
   "outputs": [],
   "source": [
    "import time\n",
    " \n",
    "# we initialize the variable start\n",
    "# to store the starting time of\n",
    "# execution of program\n",
    "start = time.time()\n",
    " "
   ]
  },
  {
   "cell_type": "markdown",
   "id": "508a9772",
   "metadata": {},
   "source": [
    "# Stratified Cross Validation"
   ]
  },
  {
   "cell_type": "code",
   "execution_count": 92,
   "id": "5167bb80",
   "metadata": {},
   "outputs": [
    {
     "name": "stderr",
     "output_type": "stream",
     "text": [
      "C:\\ProgramData\\Anaconda3\\lib\\site-packages\\sklearn\\linear_model\\_logistic.py:763: ConvergenceWarning: lbfgs failed to converge (status=1):\n",
      "STOP: TOTAL NO. of ITERATIONS REACHED LIMIT.\n",
      "\n",
      "Increase the number of iterations (max_iter) or scale the data as shown in:\n",
      "    https://scikit-learn.org/stable/modules/preprocessing.html\n",
      "Please also refer to the documentation for alternative solver options:\n",
      "    https://scikit-learn.org/stable/modules/linear_model.html#logistic-regression\n",
      "  n_iter_i = _check_optimize_result(\n",
      "C:\\ProgramData\\Anaconda3\\lib\\site-packages\\sklearn\\linear_model\\_logistic.py:763: ConvergenceWarning: lbfgs failed to converge (status=1):\n",
      "STOP: TOTAL NO. of ITERATIONS REACHED LIMIT.\n",
      "\n",
      "Increase the number of iterations (max_iter) or scale the data as shown in:\n",
      "    https://scikit-learn.org/stable/modules/preprocessing.html\n",
      "Please also refer to the documentation for alternative solver options:\n",
      "    https://scikit-learn.org/stable/modules/linear_model.html#logistic-regression\n",
      "  n_iter_i = _check_optimize_result(\n",
      "C:\\ProgramData\\Anaconda3\\lib\\site-packages\\sklearn\\linear_model\\_logistic.py:763: ConvergenceWarning: lbfgs failed to converge (status=1):\n",
      "STOP: TOTAL NO. of ITERATIONS REACHED LIMIT.\n",
      "\n",
      "Increase the number of iterations (max_iter) or scale the data as shown in:\n",
      "    https://scikit-learn.org/stable/modules/preprocessing.html\n",
      "Please also refer to the documentation for alternative solver options:\n",
      "    https://scikit-learn.org/stable/modules/linear_model.html#logistic-regression\n",
      "  n_iter_i = _check_optimize_result(\n",
      "C:\\ProgramData\\Anaconda3\\lib\\site-packages\\sklearn\\linear_model\\_logistic.py:763: ConvergenceWarning: lbfgs failed to converge (status=1):\n",
      "STOP: TOTAL NO. of ITERATIONS REACHED LIMIT.\n",
      "\n",
      "Increase the number of iterations (max_iter) or scale the data as shown in:\n",
      "    https://scikit-learn.org/stable/modules/preprocessing.html\n",
      "Please also refer to the documentation for alternative solver options:\n",
      "    https://scikit-learn.org/stable/modules/linear_model.html#logistic-regression\n",
      "  n_iter_i = _check_optimize_result(\n"
     ]
    }
   ],
   "source": [
    "skfold=StratifiedKFold(n_splits=10)\n",
    "outcome = cross_val_score(lr_clf, x,y, cv=skfold)\n"
   ]
  },
  {
   "cell_type": "code",
   "execution_count": 93,
   "id": "d53fca17",
   "metadata": {},
   "outputs": [
    {
     "name": "stdout",
     "output_type": "stream",
     "text": [
      "0.10739680336935939\n"
     ]
    }
   ],
   "source": [
    "print(np.mean(outcome))"
   ]
  },
  {
   "cell_type": "code",
   "execution_count": 94,
   "id": "f02e29b2",
   "metadata": {},
   "outputs": [
    {
     "data": {
      "text/plain": [
       "array([0.10739592, 0.10739592, 0.10739592, 0.10739592, 0.10739592,\n",
       "       0.10739592, 0.10739813, 0.10739813, 0.10739813, 0.10739813])"
      ]
     },
     "execution_count": 94,
     "metadata": {},
     "output_type": "execute_result"
    }
   ],
   "source": [
    "outcome"
   ]
  },
  {
   "cell_type": "code",
   "execution_count": 95,
   "id": "c5bdeaf4",
   "metadata": {},
   "outputs": [
    {
     "name": "stdout",
     "output_type": "stream",
     "text": [
      "The time of execution of above program is : 430.10534477233887\n"
     ]
    }
   ],
   "source": [
    "end = time.time()\n",
    " \n",
    "# difference of start and end variables\n",
    "# gives the time of execution of the\n",
    "# program in between\n",
    "print(\"The time of execution of above program is :\", end-start)"
   ]
  },
  {
   "cell_type": "code",
   "execution_count": 96,
   "id": "81831baf",
   "metadata": {},
   "outputs": [],
   "source": [
    "import time\n",
    " \n",
    "# we initialize the variable start\n",
    "# to store the starting time of\n",
    "# execution of program\n",
    "start = time.time()\n",
    " "
   ]
  },
  {
   "cell_type": "markdown",
   "id": "a0281a5b",
   "metadata": {},
   "source": [
    "# Repeated Random Train-Test Splits"
   ]
  },
  {
   "cell_type": "code",
   "execution_count": 97,
   "id": "76fbcc10",
   "metadata": {},
   "outputs": [
    {
     "name": "stderr",
     "output_type": "stream",
     "text": [
      "C:\\ProgramData\\Anaconda3\\lib\\site-packages\\sklearn\\linear_model\\_logistic.py:763: ConvergenceWarning: lbfgs failed to converge (status=1):\n",
      "STOP: TOTAL NO. of ITERATIONS REACHED LIMIT.\n",
      "\n",
      "Increase the number of iterations (max_iter) or scale the data as shown in:\n",
      "    https://scikit-learn.org/stable/modules/preprocessing.html\n",
      "Please also refer to the documentation for alternative solver options:\n",
      "    https://scikit-learn.org/stable/modules/linear_model.html#logistic-regression\n",
      "  n_iter_i = _check_optimize_result(\n",
      "C:\\ProgramData\\Anaconda3\\lib\\site-packages\\sklearn\\linear_model\\_logistic.py:763: ConvergenceWarning: lbfgs failed to converge (status=1):\n",
      "STOP: TOTAL NO. of ITERATIONS REACHED LIMIT.\n",
      "\n",
      "Increase the number of iterations (max_iter) or scale the data as shown in:\n",
      "    https://scikit-learn.org/stable/modules/preprocessing.html\n",
      "Please also refer to the documentation for alternative solver options:\n",
      "    https://scikit-learn.org/stable/modules/linear_model.html#logistic-regression\n",
      "  n_iter_i = _check_optimize_result(\n"
     ]
    }
   ],
   "source": [
    "from sklearn.model_selection import ShuffleSplit\n",
    "ssplit=ShuffleSplit(n_splits=10, test_size=0.30)\n",
    "results=cross_val_score(lr_clf,x,y,cv=ssplit)"
   ]
  },
  {
   "cell_type": "code",
   "execution_count": 98,
   "id": "909c9027",
   "metadata": {},
   "outputs": [
    {
     "data": {
      "text/plain": [
       "array([0.10864951, 0.10726658, 0.10615064, 0.10845097, 0.10927252,\n",
       "       0.10551395, 0.10702696, 0.10710227, 0.1073145 , 0.10883436])"
      ]
     },
     "execution_count": 98,
     "metadata": {},
     "output_type": "execute_result"
    }
   ],
   "source": [
    "results"
   ]
  },
  {
   "cell_type": "code",
   "execution_count": 99,
   "id": "3b8e938e",
   "metadata": {},
   "outputs": [
    {
     "name": "stdout",
     "output_type": "stream",
     "text": [
      "0.10755822710281653\n"
     ]
    }
   ],
   "source": [
    "print(np.mean(results))"
   ]
  },
  {
   "cell_type": "code",
   "execution_count": 100,
   "id": "3030bfef",
   "metadata": {},
   "outputs": [
    {
     "name": "stdout",
     "output_type": "stream",
     "text": [
      "The time of execution of above program is : 365.6485426425934\n"
     ]
    }
   ],
   "source": [
    "end = time.time()\n",
    " \n",
    "# difference of start and end variables\n",
    "# gives the time of execution of the\n",
    "# program in between\n",
    "print(\"The time of execution of above program is :\", end-start)"
   ]
  },
  {
   "cell_type": "code",
   "execution_count": null,
   "id": "709c6399",
   "metadata": {},
   "outputs": [],
   "source": []
  }
 ],
 "metadata": {
  "kernelspec": {
   "display_name": "Python 3 (ipykernel)",
   "language": "python",
   "name": "python3"
  },
  "language_info": {
   "codemirror_mode": {
    "name": "ipython",
    "version": 3
   },
   "file_extension": ".py",
   "mimetype": "text/x-python",
   "name": "python",
   "nbconvert_exporter": "python",
   "pygments_lexer": "ipython3",
   "version": "3.9.7"
  }
 },
 "nbformat": 4,
 "nbformat_minor": 5
}
